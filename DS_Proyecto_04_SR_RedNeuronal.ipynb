{
 "cells": [
  {
   "cell_type": "markdown",
   "metadata": {
    "id": "gzJLet17WTzh"
   },
   "source": [
    "\n",
    "\n",
    "```\n",
    "# Esto tiene formato de código\n",
    "```\n",
    "\n",
    "# Proyecto 04 - Sistemas de Recomendación con Redes Neuronales\n",
    "\n",
    "## Dataset: STEAM\n",
    "\n",
    "**Recuerda descargar el dataset de [aquí](https://github.com/kang205/SASRec). Son dos archivos, uno de calificaciones y otro de información sobre los juegos.**\n",
    "\n",
    "En este notebook te dejamos unas celdas para que puedas comenzar a trabajar con este dataset. Sin embargo, **deberás** modificarlas para hacer un mejor manejo de datos. Algunas cosas a las que deberás prestar atención (tal vez no a todas):\n",
    "1. Tipos de datos: elige tipos de datos apropiados para cada columna.\n",
    "2. Descartar columnas poco informativas.\n",
    "3. Guardar en memoria datasets preprocesados para no tener que repetir código que tarde en correr.\n",
    "\n",
    "### Exploración de datos\n",
    "\n",
    "Dedícale un buen tiempo a hacer un Análisis Exploratorio de Datos. Elige preguntas que creas que puedas responder con este dataset. Por ejemplo, ¿cuáles son los juegos más populares?¿Y los menos populares?\n",
    "\n",
    "### Filtro Colaborativo\n",
    "\n",
    "Deberás implementar un sistema de recomendación colaborativo para este dataset. Ten en cuenta:\n",
    "\n",
    "1. Haz todas las transformaciones de datos que consideres necesarias. Justifica.\n",
    "1. Evalúa de forma apropiada sus resultados. Justifica la métrica elegida.\n",
    "1. Elige un modelo benchmark y compara tus resultados con este modelo.\n",
    "1. Optimiza los hiperparámetros de tu modelo.\n",
    "\n",
    "Puedes implementar un filtro colaborativo a partir de la similitud coseno o índice de Jaccard. ¿Puedes utilizar los métodos de la librería Surprise? Si no es así, busca implementaciones (por ejemplo, nuevas librerías) que sean apropiadas.\n",
    "\n",
    "Para comenzar a trabajar, puedes asumir que cada entrada es un enlace entre un usuario y un item, **independientemente** de si la crítica es buena o mala. \n",
    "\n",
    "### Para pensar, investigar y, opcionalmente, implementar\n",
    "1. ¿Cómo harías para ponerle un valor a la calificación?\n",
    "1. ¿Cómo harías para agregar contenido? Por ejemplo, cuentas con el género, precio, fecha de lanzamiento y más información de los juegos.\n",
    "1. ¿Hay algo que te gustaría investigar o probar?\n",
    "\n",
    "### **¡Tómate tiempo para investigar y leer mucho!**\n",
    "\n",
    "### Consideraciones para la realización del Proyecto 4\n",
    "\n",
    "Para llevar a cabo el Proyecto 4 partiendo del Proyecto 3, vamos a generar un Modelo de redes neuronales utilizando *Tensorflow* y *Keras*. Al ser un tema bastante complejo y que requiere de muchos otros conceptos además de los vistos durante el curso, la aproximación realizada en este proyecto es bastante básica.\n",
    "\n",
    "En un principio comencé utilizando el lote de datos completo. Al momento de entrenar el modelo, la estimación de tiempo necesaria era de aproximadamente 350 horas (5 epochs de 70 horas cada una aproximadamente). Debido a esto, reduje la cantidad de reviews tomadas mediante el parámetro \"n\" durante la lectura del archivo. En el repositorio indicado dejo evidencia de esto (AlgoritmoTF.png). \n",
    "\n",
    "Vamos a volver a entrenar también el modelo del Proyecto 3, para luego comparar los resultados con el nuevo modelo.\n",
    "\n",
    "Dentro de la sección **Modelado y Entrenamiento**, la sub-sección **Modelo con Redes Neuronales** contiene la implementación mencionada."
   ]
  },
  {
   "cell_type": "markdown",
   "metadata": {
    "id": "6J47mWnOL_It"
   },
   "source": [
    "En el siguiente repositorio se pueden encontrar tanto este Notebook como los archivos generados durante el mismo <br> https://github.com/SebaCampa/DS_Acamica_Publico.git"
   ]
  },
  {
   "cell_type": "code",
   "execution_count": 66,
   "metadata": {
    "colab": {
     "base_uri": "https://localhost:8080/"
    },
    "executionInfo": {
     "elapsed": 22675,
     "status": "ok",
     "timestamp": 1637319407892,
     "user": {
      "displayName": "Sebastian Campagnolo",
      "photoUrl": "https://lh3.googleusercontent.com/a-/AOh14Gg6pbROrzyday57jBRXk4J4eposq2tBYeW0Sr4=s64",
      "userId": "00251509339913289660"
     },
     "user_tz": -60
    },
    "id": "OgJrDLDzMkZ4",
    "outputId": "b52cd314-528a-471c-a2ba-69024cf9047c"
   },
   "outputs": [],
   "source": [
    "# No es necesario. El notebook corre en local\n",
    "#from google.colab import drive\n",
    "\n",
    "#drive.mount('/content/gdrive')"
   ]
  },
  {
   "cell_type": "code",
   "execution_count": 65,
   "metadata": {
    "colab": {
     "base_uri": "https://localhost:8080/"
    },
    "executionInfo": {
     "elapsed": 33754,
     "status": "ok",
     "timestamp": 1636912324078,
     "user": {
      "displayName": "Sebastian Campagnolo",
      "photoUrl": "https://lh3.googleusercontent.com/a-/AOh14Gg6pbROrzyday57jBRXk4J4eposq2tBYeW0Sr4=s64",
      "userId": "00251509339913289660"
     },
     "user_tz": -60
    },
    "id": "Wq-1DTHoMobK",
    "outputId": "5850a59a-24be-4c15-d1a3-1cf6f9322cb8"
   },
   "outputs": [],
   "source": [
    "# No es necesario. El notebook corre en local\n",
    "#!pip install surprise"
   ]
  },
  {
   "cell_type": "code",
   "execution_count": 1,
   "metadata": {
    "id": "yBbxe3XqLxD2"
   },
   "outputs": [
    {
     "name": "stderr",
     "output_type": "stream",
     "text": [
      "In D:\\Programas\\Anaconda3\\lib\\site-packages\\matplotlib\\mpl-data\\stylelib\\_classic_test.mplstyle: \n",
      "The text.latex.unicode rcparam was deprecated in Matplotlib 3.0 and will be removed in 3.2.\n",
      "In D:\\Programas\\Anaconda3\\lib\\site-packages\\matplotlib\\mpl-data\\stylelib\\_classic_test.mplstyle: \n",
      "The savefig.frameon rcparam was deprecated in Matplotlib 3.1 and will be removed in 3.3.\n",
      "In D:\\Programas\\Anaconda3\\lib\\site-packages\\matplotlib\\mpl-data\\stylelib\\_classic_test.mplstyle: \n",
      "The pgf.debug rcparam was deprecated in Matplotlib 3.0 and will be removed in 3.2.\n",
      "In D:\\Programas\\Anaconda3\\lib\\site-packages\\matplotlib\\mpl-data\\stylelib\\_classic_test.mplstyle: \n",
      "The verbose.level rcparam was deprecated in Matplotlib 3.1 and will be removed in 3.3.\n",
      "In D:\\Programas\\Anaconda3\\lib\\site-packages\\matplotlib\\mpl-data\\stylelib\\_classic_test.mplstyle: \n",
      "The verbose.fileo rcparam was deprecated in Matplotlib 3.1 and will be removed in 3.3.\n"
     ]
    }
   ],
   "source": [
    "import numpy as np\n",
    "import matplotlib.pyplot as plt\n",
    "import seaborn as sns\n",
    "import hashlib\n",
    "\n",
    "from sklearn.preprocessing import MinMaxScaler\n",
    "\n",
    "import gc #garbage collector\n",
    "\n",
    "from surprise import Dataset\n",
    "from surprise import Reader\n",
    "from surprise.model_selection import train_test_split\n",
    "from surprise import SVD\n",
    "#from surprise import KNNBasic\n",
    "from surprise import BaselineOnly\n",
    "#from surprise import NormalPredictor\n",
    "\n",
    "from surprise import accuracy\n",
    "from surprise.model_selection import GridSearchCV\n",
    "from surprise.model_selection.validation import cross_validate\n",
    "\n",
    "import tensorflow as tf\n",
    "from tensorflow import keras\n",
    "from tensorflow.keras import layers\n",
    "from tensorflow.keras import metrics\n",
    "from pathlib import Path\n",
    "\n",
    "import tensorflow_recommenders as tfrs"
   ]
  },
  {
   "cell_type": "code",
   "execution_count": 2,
   "metadata": {
    "id": "lWZhtUxEWTzj"
   },
   "outputs": [],
   "source": [
    "import gzip\n",
    "import pandas as pd\n",
    "\n",
    "def parse(path):\n",
    "    g = gzip.open(path, 'r')\n",
    "    for l in g:\n",
    "        yield eval(l)"
   ]
  },
  {
   "cell_type": "markdown",
   "metadata": {
    "id": "syvHPThxLxD4"
   },
   "source": [
    "############################################################################################################"
   ]
  },
  {
   "cell_type": "markdown",
   "metadata": {
    "id": "t0uI7y7WLxD5"
   },
   "source": [
    "### Sistema de Ponderación para obtener Calificación de un Juego (por usuario)"
   ]
  },
  {
   "cell_type": "markdown",
   "metadata": {
    "id": "P5TOLXvaLxD6"
   },
   "source": [
    "El sistema de puntos que utilizaré para obtener una calificación será de 1 a 5 puntos, teniendo en cuenta la siguiente ponderación por cada característica:\n",
    "\n",
    "* Games.Gratis si/no ........................................................... 10%\n",
    "* Games.Sentiment ............................................................. 30%\n",
    "* Reviews.Acumulado hs de juego (popularidad) ............. 10%\n",
    "* Reviews.Horas jugadas .................................................... 50%\n",
    "\n",
    "\n",
    "\n"
   ]
  },
  {
   "cell_type": "markdown",
   "metadata": {
    "id": "qDlmHcamLxD6"
   },
   "source": [
    "- Games.Gratis: si=1 / no=5\n",
    "- Reviews.Acumulado hs de juego (popularidad) : horas totales jugadas por todos los jugadores al juego en cuestión"
   ]
  },
  {
   "cell_type": "markdown",
   "metadata": {
    "id": "uFqcIXalLxD7"
   },
   "source": [
    "############################################################################################################"
   ]
  },
  {
   "cell_type": "markdown",
   "metadata": {
    "id": "_Wu-fVzILxD8"
   },
   "source": [
    "##### Definición de Funciones"
   ]
  },
  {
   "cell_type": "markdown",
   "metadata": {
    "id": "-n9IOB3yLxD8"
   },
   "source": [
    "Generamos una función para poblar la columna *user_id* con un valor único. Para esto, consideramos que un usuario es distinto de otro teniendo en cuenta las coulmnas *user_name* y *products*, ya que en la plataforma existen usuarios diferentes con el mismo *user_name* (ver ejemplo en el archivo \"steam_repeated_username.png\" ubicado en el repositorio)"
   ]
  },
  {
   "cell_type": "code",
   "execution_count": 234,
   "metadata": {
    "id": "FWUdr-2YLxD9"
   },
   "outputs": [],
   "source": [
    "def calculateUserId(u_name,num_products=1):\n",
    "    result = u_name + str(num_products)\n",
    "    result = int.from_bytes(hashlib.sha256(bytes(str(result), encoding='utf-8')).digest()[:4], 'little') # 32-bit\n",
    "\n",
    "    return result    "
   ]
  },
  {
   "cell_type": "code",
   "execution_count": 235,
   "metadata": {
    "id": "WP8SnC96LxD9"
   },
   "outputs": [],
   "source": [
    "def calculateRating(price, sentiment, popularity, played_hours):\n",
    "    rating = round(price*0.1 + sentiment*0.3 + popularity*0.1 + played_hours*0.5)\n",
    "    return rating"
   ]
  },
  {
   "cell_type": "code",
   "execution_count": 236,
   "metadata": {
    "id": "Ki9gcxLZLxD-"
   },
   "outputs": [],
   "source": [
    "def customScalerHours(hours):\n",
    "    if 0 < hours < 0.5 :\n",
    "        hours_scaled=1\n",
    "    elif 0.5 < hours <= 1.5 :   \n",
    "        hours_scaled=2\n",
    "    elif 1.5 < hours <= 8 :\n",
    "        hours_scaled=3\n",
    "    elif 8 < hours <= 20 :     \n",
    "        hours_scaled=4\n",
    "    else :\n",
    "        hours_scaled=5\n",
    "    return hours_scaled    "
   ]
  },
  {
   "cell_type": "markdown",
   "metadata": {
    "id": "BmEM25k4WTzw"
   },
   "source": [
    "## **Reviews**"
   ]
  },
  {
   "cell_type": "code",
   "execution_count": 237,
   "metadata": {
    "id": "abAXItn1WTz0"
   },
   "outputs": [],
   "source": [
    "contador = 0\n",
    "data_reviews = []\n",
    "# Vamos a guardar una de cada 10 reviews para no llenar la memoria RAM. Si pones n = 3, \n",
    "# abrira uno de cada tres, y asi.\n",
    "n = 10\n",
    "for l in parse('./steam_reviews.json.gz'):\n",
    "    if contador%n == 0:\n",
    "        data_reviews.append(l)\n",
    "    else:\n",
    "        pass\n",
    "    contador += 1\n"
   ]
  },
  {
   "cell_type": "code",
   "execution_count": 238,
   "metadata": {
    "id": "7GovAZQBWTz8"
   },
   "outputs": [],
   "source": [
    "data_reviews = pd.DataFrame(data_reviews)"
   ]
  },
  {
   "cell_type": "code",
   "execution_count": 239,
   "metadata": {
    "colab": {
     "base_uri": "https://localhost:8080/",
     "height": 204
    },
    "executionInfo": {
     "elapsed": 29,
     "status": "ok",
     "timestamp": 1633073426592,
     "user": {
      "displayName": "Sebastian Campagnolo",
      "photoUrl": "https://lh3.googleusercontent.com/a-/AOh14Gg6pbROrzyday57jBRXk4J4eposq2tBYeW0Sr4=s64",
      "userId": "00251509339913289660"
     },
     "user_tz": -120
    },
    "id": "j24F0ZaYWT0E",
    "outputId": "ab3d2e51-6759-4852-fb3d-fd40e14bd9a1"
   },
   "outputs": [
    {
     "data": {
      "text/html": [
       "<div>\n",
       "<style scoped>\n",
       "    .dataframe tbody tr th:only-of-type {\n",
       "        vertical-align: middle;\n",
       "    }\n",
       "\n",
       "    .dataframe tbody tr th {\n",
       "        vertical-align: top;\n",
       "    }\n",
       "\n",
       "    .dataframe thead th {\n",
       "        text-align: right;\n",
       "    }\n",
       "</style>\n",
       "<table border=\"1\" class=\"dataframe\">\n",
       "  <thead>\n",
       "    <tr style=\"text-align: right;\">\n",
       "      <th></th>\n",
       "      <th>username</th>\n",
       "      <th>hours</th>\n",
       "      <th>products</th>\n",
       "      <th>product_id</th>\n",
       "      <th>page_order</th>\n",
       "      <th>date</th>\n",
       "      <th>text</th>\n",
       "      <th>early_access</th>\n",
       "      <th>page</th>\n",
       "      <th>user_id</th>\n",
       "      <th>compensation</th>\n",
       "      <th>found_funny</th>\n",
       "    </tr>\n",
       "  </thead>\n",
       "  <tbody>\n",
       "    <tr>\n",
       "      <th>0</th>\n",
       "      <td>Chaos Syren</td>\n",
       "      <td>0.1</td>\n",
       "      <td>41.0</td>\n",
       "      <td>725280</td>\n",
       "      <td>0</td>\n",
       "      <td>2017-12-17</td>\n",
       "      <td>This would not be acceptable as an entertainme...</td>\n",
       "      <td>False</td>\n",
       "      <td>1</td>\n",
       "      <td>NaN</td>\n",
       "      <td>NaN</td>\n",
       "      <td>NaN</td>\n",
       "    </tr>\n",
       "    <tr>\n",
       "      <th>1</th>\n",
       "      <td>Ariman1</td>\n",
       "      <td>13.2</td>\n",
       "      <td>1386.0</td>\n",
       "      <td>328100</td>\n",
       "      <td>2</td>\n",
       "      <td>2017-08-02</td>\n",
       "      <td>Addictive RPG ! Works fine on linux though it ...</td>\n",
       "      <td>False</td>\n",
       "      <td>1</td>\n",
       "      <td>NaN</td>\n",
       "      <td>NaN</td>\n",
       "      <td>NaN</td>\n",
       "    </tr>\n",
       "    <tr>\n",
       "      <th>2</th>\n",
       "      <td>freakfantom</td>\n",
       "      <td>0.1</td>\n",
       "      <td>1706.0</td>\n",
       "      <td>725280</td>\n",
       "      <td>5</td>\n",
       "      <td>2017-11-12</td>\n",
       "      <td>Прикольная стрелялка. Взял дешево на распродаже.</td>\n",
       "      <td>False</td>\n",
       "      <td>1</td>\n",
       "      <td>NaN</td>\n",
       "      <td>NaN</td>\n",
       "      <td>NaN</td>\n",
       "    </tr>\n",
       "    <tr>\n",
       "      <th>3</th>\n",
       "      <td>The_Cpt_FROGGY</td>\n",
       "      <td>7.8</td>\n",
       "      <td>2217.0</td>\n",
       "      <td>631920</td>\n",
       "      <td>0</td>\n",
       "      <td>2017-12-11</td>\n",
       "      <td>Somewhere on Zibylon:\\n~~~~~~~~~~~~~~~~~~\\nZib...</td>\n",
       "      <td>False</td>\n",
       "      <td>1</td>\n",
       "      <td>76561198003030375</td>\n",
       "      <td>Product received for free</td>\n",
       "      <td>NaN</td>\n",
       "    </tr>\n",
       "    <tr>\n",
       "      <th>4</th>\n",
       "      <td>the_maker988</td>\n",
       "      <td>8.2</td>\n",
       "      <td>18.0</td>\n",
       "      <td>35140</td>\n",
       "      <td>7</td>\n",
       "      <td>2018-01-02</td>\n",
       "      <td>This game was way to linear for me, and compar...</td>\n",
       "      <td>False</td>\n",
       "      <td>1</td>\n",
       "      <td>76561198353396844</td>\n",
       "      <td>NaN</td>\n",
       "      <td>NaN</td>\n",
       "    </tr>\n",
       "  </tbody>\n",
       "</table>\n",
       "</div>"
      ],
      "text/plain": [
       "         username  hours  products product_id  page_order        date  \\\n",
       "0     Chaos Syren    0.1      41.0     725280           0  2017-12-17   \n",
       "1         Ariman1   13.2    1386.0     328100           2  2017-08-02   \n",
       "2     freakfantom    0.1    1706.0     725280           5  2017-11-12   \n",
       "3  The_Cpt_FROGGY    7.8    2217.0     631920           0  2017-12-11   \n",
       "4    the_maker988    8.2      18.0      35140           7  2018-01-02   \n",
       "\n",
       "                                                text  early_access  page  \\\n",
       "0  This would not be acceptable as an entertainme...         False     1   \n",
       "1  Addictive RPG ! Works fine on linux though it ...         False     1   \n",
       "2   Прикольная стрелялка. Взял дешево на распродаже.         False     1   \n",
       "3  Somewhere on Zibylon:\\n~~~~~~~~~~~~~~~~~~\\nZib...         False     1   \n",
       "4  This game was way to linear for me, and compar...         False     1   \n",
       "\n",
       "             user_id               compensation  found_funny  \n",
       "0                NaN                        NaN          NaN  \n",
       "1                NaN                        NaN          NaN  \n",
       "2                NaN                        NaN          NaN  \n",
       "3  76561198003030375  Product received for free          NaN  \n",
       "4  76561198353396844                        NaN          NaN  "
      ]
     },
     "execution_count": 239,
     "metadata": {},
     "output_type": "execute_result"
    }
   ],
   "source": [
    "data_reviews.head()"
   ]
  },
  {
   "cell_type": "markdown",
   "metadata": {
    "id": "PszIb5cVbHED"
   },
   "source": [
    "Cambio el tipo de dato de la columna *products* para ahorrar memoria"
   ]
  },
  {
   "cell_type": "code",
   "execution_count": 240,
   "metadata": {
    "id": "QJ4yZlzULxEB"
   },
   "outputs": [],
   "source": [
    "data_reviews['products'] = pd.to_numeric(data_reviews.products, downcast=\"unsigned\")"
   ]
  },
  {
   "cell_type": "code",
   "execution_count": 241,
   "metadata": {
    "colab": {
     "base_uri": "https://localhost:8080/"
    },
    "executionInfo": {
     "elapsed": 337,
     "status": "ok",
     "timestamp": 1633073961238,
     "user": {
      "displayName": "Sebastian Campagnolo",
      "photoUrl": "https://lh3.googleusercontent.com/a-/AOh14Gg6pbROrzyday57jBRXk4J4eposq2tBYeW0Sr4=s64",
      "userId": "00251509339913289660"
     },
     "user_tz": -120
    },
    "id": "zwVVfWo4LxEB",
    "outputId": "1cf5027a-50a4-4324-cca1-45496bf05d12"
   },
   "outputs": [
    {
     "data": {
      "text/plain": [
       "(779307, 12)"
      ]
     },
     "execution_count": 241,
     "metadata": {},
     "output_type": "execute_result"
    }
   ],
   "source": [
    "data_reviews.shape"
   ]
  },
  {
   "cell_type": "markdown",
   "metadata": {
    "id": "yLAJIPB-yaN4"
   },
   "source": [
    "Analizamos valores nulos"
   ]
  },
  {
   "cell_type": "code",
   "execution_count": 242,
   "metadata": {
    "colab": {
     "base_uri": "https://localhost:8080/"
    },
    "executionInfo": {
     "elapsed": 4695,
     "status": "ok",
     "timestamp": 1633073968997,
     "user": {
      "displayName": "Sebastian Campagnolo",
      "photoUrl": "https://lh3.googleusercontent.com/a-/AOh14Gg6pbROrzyday57jBRXk4J4eposq2tBYeW0Sr4=s64",
      "userId": "00251509339913289660"
     },
     "user_tz": -120
    },
    "id": "8F-EVRZ4WT0L",
    "outputId": "a98b6fe5-bced-4b90-817c-85df23f525fb"
   },
   "outputs": [
    {
     "data": {
      "text/plain": [
       "username             0\n",
       "hours             2637\n",
       "products          1566\n",
       "product_id           0\n",
       "page_order           0\n",
       "date                 0\n",
       "text                 0\n",
       "early_access         0\n",
       "page                 0\n",
       "user_id         461967\n",
       "compensation    764719\n",
       "found_funny     659143\n",
       "dtype: int64"
      ]
     },
     "execution_count": 242,
     "metadata": {},
     "output_type": "execute_result"
    }
   ],
   "source": [
    "data_reviews.isna().sum()"
   ]
  },
  {
   "cell_type": "code",
   "execution_count": 243,
   "metadata": {
    "colab": {
     "base_uri": "https://localhost:8080/"
    },
    "executionInfo": {
     "elapsed": 3988,
     "status": "ok",
     "timestamp": 1633073974220,
     "user": {
      "displayName": "Sebastian Campagnolo",
      "photoUrl": "https://lh3.googleusercontent.com/a-/AOh14Gg6pbROrzyday57jBRXk4J4eposq2tBYeW0Sr4=s64",
      "userId": "00251509339913289660"
     },
     "user_tz": -120
    },
    "id": "KIOOoSu3LxEC",
    "outputId": "5b811bb3-b213-4d79-c2db-bc265f6728a4"
   },
   "outputs": [
    {
     "data": {
      "text/plain": [
       "username         0.000000\n",
       "hours            0.338378\n",
       "products         0.200948\n",
       "product_id       0.000000\n",
       "page_order       0.000000\n",
       "date             0.000000\n",
       "text             0.000000\n",
       "early_access     0.000000\n",
       "page             0.000000\n",
       "user_id         59.279206\n",
       "compensation    98.128080\n",
       "found_funny     84.580659\n",
       "dtype: float64"
      ]
     },
     "execution_count": 243,
     "metadata": {},
     "output_type": "execute_result"
    }
   ],
   "source": [
    "data_reviews.isna().sum() / data_reviews.shape[0]*100"
   ]
  },
  {
   "cell_type": "code",
   "execution_count": 244,
   "metadata": {
    "colab": {
     "base_uri": "https://localhost:8080/"
    },
    "executionInfo": {
     "elapsed": 411,
     "status": "ok",
     "timestamp": 1633074015982,
     "user": {
      "displayName": "Sebastian Campagnolo",
      "photoUrl": "https://lh3.googleusercontent.com/a-/AOh14Gg6pbROrzyday57jBRXk4J4eposq2tBYeW0Sr4=s64",
      "userId": "00251509339913289660"
     },
     "user_tz": -120
    },
    "id": "bq7PmGC8LxED",
    "outputId": "bb6c7478-a43e-4bbd-8f3d-bccadea9b6a5"
   },
   "outputs": [
    {
     "data": {
      "text/plain": [
       "Index(['username', 'hours', 'products', 'product_id', 'page_order', 'date',\n",
       "       'text', 'early_access', 'page', 'user_id', 'compensation',\n",
       "       'found_funny'],\n",
       "      dtype='object')"
      ]
     },
     "execution_count": 244,
     "metadata": {},
     "output_type": "execute_result"
    }
   ],
   "source": [
    "data_reviews.columns"
   ]
  },
  {
   "cell_type": "markdown",
   "metadata": {
    "id": "jGV1I7bkLxEE"
   },
   "source": [
    "Haciendo una exploración directamente en la plataforma *Steam*, siendo usuario, encuentro las siguientes columnas como irrelevantes para nuestro análisis:\n",
    "\n",
    "* *page_order*: posición de la reseña en la página\n",
    "* *page*: número de página donde se encuentra la reseña\n",
    "* *date*: fecha en que fue escrita la review\n",
    "* *compensation*: indica si el juego fue comprado o regalado\n",
    "* *found_funny*: indica si la reseña resultó graciosa para otros usuarios que la leyeron\n",
    "* *early_access*: indica si el juego está en fase Alfa o Beta (True), o si está en estado final\n",
    "\n",
    "Dicho esto, elimino las columnas mencionadas "
   ]
  },
  {
   "cell_type": "code",
   "execution_count": 245,
   "metadata": {
    "id": "MXE6opXHLxEE"
   },
   "outputs": [],
   "source": [
    "data_reviews = data_reviews.drop([\"page_order\", \"page\", \"date\", \"compensation\", \"found_funny\", \"early_access\"], axis=1)"
   ]
  },
  {
   "cell_type": "markdown",
   "metadata": {
    "id": "XfyQ1bQOLxEE"
   },
   "source": [
    "Un dato MUY importante que falta en el dataset es la calificación del usuario hacia el juego del que está escribiendo la reseña (*Positiva* o *Negativa*, tal como califica *Steam*). Una forma interesante de deducirla sería realizar un modelo de *Procesamiento de Lenguaje Natural* sobre el campo *text*, que contiene la reseña propiamente dicha. La desventaja que conlleva esta aproximación es que se trata de un proyecto en sí mismo, con lo cual escapa al alcance del proyecto actual. "
   ]
  },
  {
   "cell_type": "markdown",
   "metadata": {
    "id": "uBZvSPzQLxEE"
   },
   "source": [
    "Mencionado el párrafo anterior, descarto también la columna *text*"
   ]
  },
  {
   "cell_type": "code",
   "execution_count": 246,
   "metadata": {
    "id": "4QtAwCN7LxEF"
   },
   "outputs": [],
   "source": [
    "data_reviews = data_reviews.drop('text', axis=1)"
   ]
  },
  {
   "cell_type": "code",
   "execution_count": 247,
   "metadata": {
    "colab": {
     "base_uri": "https://localhost:8080/",
     "height": 204
    },
    "executionInfo": {
     "elapsed": 479,
     "status": "ok",
     "timestamp": 1633091728593,
     "user": {
      "displayName": "Sebastian Campagnolo",
      "photoUrl": "https://lh3.googleusercontent.com/a-/AOh14Gg6pbROrzyday57jBRXk4J4eposq2tBYeW0Sr4=s64",
      "userId": "00251509339913289660"
     },
     "user_tz": -120
    },
    "id": "Lq6oj_agLxEF",
    "outputId": "23c0811c-b7a3-4f87-a9f6-bb9cabfa21b3"
   },
   "outputs": [
    {
     "data": {
      "text/html": [
       "<div>\n",
       "<style scoped>\n",
       "    .dataframe tbody tr th:only-of-type {\n",
       "        vertical-align: middle;\n",
       "    }\n",
       "\n",
       "    .dataframe tbody tr th {\n",
       "        vertical-align: top;\n",
       "    }\n",
       "\n",
       "    .dataframe thead th {\n",
       "        text-align: right;\n",
       "    }\n",
       "</style>\n",
       "<table border=\"1\" class=\"dataframe\">\n",
       "  <thead>\n",
       "    <tr style=\"text-align: right;\">\n",
       "      <th></th>\n",
       "      <th>username</th>\n",
       "      <th>hours</th>\n",
       "      <th>products</th>\n",
       "      <th>product_id</th>\n",
       "      <th>user_id</th>\n",
       "    </tr>\n",
       "  </thead>\n",
       "  <tbody>\n",
       "    <tr>\n",
       "      <th>0</th>\n",
       "      <td>Chaos Syren</td>\n",
       "      <td>0.1</td>\n",
       "      <td>41.0</td>\n",
       "      <td>725280</td>\n",
       "      <td>NaN</td>\n",
       "    </tr>\n",
       "    <tr>\n",
       "      <th>1</th>\n",
       "      <td>Ariman1</td>\n",
       "      <td>13.2</td>\n",
       "      <td>1386.0</td>\n",
       "      <td>328100</td>\n",
       "      <td>NaN</td>\n",
       "    </tr>\n",
       "    <tr>\n",
       "      <th>2</th>\n",
       "      <td>freakfantom</td>\n",
       "      <td>0.1</td>\n",
       "      <td>1706.0</td>\n",
       "      <td>725280</td>\n",
       "      <td>NaN</td>\n",
       "    </tr>\n",
       "    <tr>\n",
       "      <th>3</th>\n",
       "      <td>The_Cpt_FROGGY</td>\n",
       "      <td>7.8</td>\n",
       "      <td>2217.0</td>\n",
       "      <td>631920</td>\n",
       "      <td>76561198003030375</td>\n",
       "    </tr>\n",
       "    <tr>\n",
       "      <th>4</th>\n",
       "      <td>the_maker988</td>\n",
       "      <td>8.2</td>\n",
       "      <td>18.0</td>\n",
       "      <td>35140</td>\n",
       "      <td>76561198353396844</td>\n",
       "    </tr>\n",
       "  </tbody>\n",
       "</table>\n",
       "</div>"
      ],
      "text/plain": [
       "         username  hours  products product_id            user_id\n",
       "0     Chaos Syren    0.1      41.0     725280                NaN\n",
       "1         Ariman1   13.2    1386.0     328100                NaN\n",
       "2     freakfantom    0.1    1706.0     725280                NaN\n",
       "3  The_Cpt_FROGGY    7.8    2217.0     631920  76561198003030375\n",
       "4    the_maker988    8.2      18.0      35140  76561198353396844"
      ]
     },
     "execution_count": 247,
     "metadata": {},
     "output_type": "execute_result"
    }
   ],
   "source": [
    "data_reviews.head()"
   ]
  },
  {
   "cell_type": "code",
   "execution_count": 248,
   "metadata": {
    "colab": {
     "base_uri": "https://localhost:8080/"
    },
    "executionInfo": {
     "elapsed": 566,
     "status": "ok",
     "timestamp": 1633161301273,
     "user": {
      "displayName": "Sebastian Campagnolo",
      "photoUrl": "https://lh3.googleusercontent.com/a-/AOh14Gg6pbROrzyday57jBRXk4J4eposq2tBYeW0Sr4=s64",
      "userId": "00251509339913289660"
     },
     "user_tz": -120
    },
    "id": "RDSXr8e35FrY",
    "outputId": "adae2439-7a33-4e1a-85fa-eb805fc0f660"
   },
   "outputs": [
    {
     "data": {
      "text/plain": [
       "2706"
      ]
     },
     "execution_count": 248,
     "metadata": {},
     "output_type": "execute_result"
    }
   ],
   "source": [
    "gc.collect()"
   ]
  },
  {
   "cell_type": "code",
   "execution_count": 249,
   "metadata": {
    "colab": {
     "base_uri": "https://localhost:8080/",
     "height": 297
    },
    "executionInfo": {
     "elapsed": 241269,
     "status": "ok",
     "timestamp": 1632908103013,
     "user": {
      "displayName": "Sebastian Campagnolo",
      "photoUrl": "https://lh3.googleusercontent.com/a-/AOh14Gg6pbROrzyday57jBRXk4J4eposq2tBYeW0Sr4=s64",
      "userId": "00251509339913289660"
     },
     "user_tz": -120
    },
    "id": "ef5csX0YLxED",
    "outputId": "3c656312-966e-41b9-f0e3-96a9724adea2"
   },
   "outputs": [
    {
     "data": {
      "image/png": "[encoded data removed]",
      "text/plain": [
       "<Figure size 432x288 with 2 Axes>"
      ]
     },
     "metadata": {
      "needs_background": "light"
     },
     "output_type": "display_data"
    }
   ],
   "source": [
    "# Muevo el Heatmap de datos faltantes a una celda posterior a la eliminación de columnas, para ahorrar memoria\n",
    "dat = data_reviews.isnull()\n",
    "heat = sns.heatmap(dat.T, cmap=\"YlGnBu\", xticklabels=False)\n",
    "plt.title(\"Datos faltantes dentro del Dataset\")\n",
    "plt.xlabel(\"Instancias dentro del dataset\")\n",
    "plt.ylabel(\"Elementos columna del dataset\")\n",
    "plt.tight_layout()"
   ]
  },
  {
   "cell_type": "markdown",
   "metadata": {
    "id": "cxt6S1Q5LxEF"
   },
   "source": [
    "La columna *user_id* es sumamente útil, pero tiene el 59% de datos faltantes. El problema que tiene la columna *username* para ser utilizada como clave primaria es que existen usuarios diferentes con el mismo valor en este campo."
   ]
  },
  {
   "cell_type": "markdown",
   "metadata": {
    "id": "cdWx-HM7LxEF"
   },
   "source": [
    "Cuento la cantidad de filas con *user_id* faltante, para luego ver cuál es la proporción de usuarios no repetidos (con una sola review) sin valor en dicho campo"
   ]
  },
  {
   "cell_type": "code",
   "execution_count": 250,
   "metadata": {
    "id": "V7lWUOZjLxEF"
   },
   "outputs": [],
   "source": [
    "userId_missing = data_reviews[data_reviews.user_id.isna()]"
   ]
  },
  {
   "cell_type": "code",
   "execution_count": 251,
   "metadata": {
    "colab": {
     "base_uri": "https://localhost:8080/",
     "height": 204
    },
    "executionInfo": {
     "elapsed": 6,
     "status": "ok",
     "timestamp": 1633074073234,
     "user": {
      "displayName": "Sebastian Campagnolo",
      "photoUrl": "https://lh3.googleusercontent.com/a-/AOh14Gg6pbROrzyday57jBRXk4J4eposq2tBYeW0Sr4=s64",
      "userId": "00251509339913289660"
     },
     "user_tz": -120
    },
    "id": "pyq5cITKLxEG",
    "outputId": "24a4bea6-f56b-4203-d83b-8e2457679139"
   },
   "outputs": [
    {
     "data": {
      "text/html": [
       "<div>\n",
       "<style scoped>\n",
       "    .dataframe tbody tr th:only-of-type {\n",
       "        vertical-align: middle;\n",
       "    }\n",
       "\n",
       "    .dataframe tbody tr th {\n",
       "        vertical-align: top;\n",
       "    }\n",
       "\n",
       "    .dataframe thead th {\n",
       "        text-align: right;\n",
       "    }\n",
       "</style>\n",
       "<table border=\"1\" class=\"dataframe\">\n",
       "  <thead>\n",
       "    <tr style=\"text-align: right;\">\n",
       "      <th></th>\n",
       "      <th>username</th>\n",
       "      <th>hours</th>\n",
       "      <th>products</th>\n",
       "      <th>product_id</th>\n",
       "      <th>user_id</th>\n",
       "    </tr>\n",
       "  </thead>\n",
       "  <tbody>\n",
       "    <tr>\n",
       "      <th>0</th>\n",
       "      <td>Chaos Syren</td>\n",
       "      <td>0.1</td>\n",
       "      <td>41.0</td>\n",
       "      <td>725280</td>\n",
       "      <td>NaN</td>\n",
       "    </tr>\n",
       "    <tr>\n",
       "      <th>1</th>\n",
       "      <td>Ariman1</td>\n",
       "      <td>13.2</td>\n",
       "      <td>1386.0</td>\n",
       "      <td>328100</td>\n",
       "      <td>NaN</td>\n",
       "    </tr>\n",
       "    <tr>\n",
       "      <th>2</th>\n",
       "      <td>freakfantom</td>\n",
       "      <td>0.1</td>\n",
       "      <td>1706.0</td>\n",
       "      <td>725280</td>\n",
       "      <td>NaN</td>\n",
       "    </tr>\n",
       "    <tr>\n",
       "      <th>5</th>\n",
       "      <td>Szudof</td>\n",
       "      <td>0.2</td>\n",
       "      <td>155.0</td>\n",
       "      <td>288690</td>\n",
       "      <td>NaN</td>\n",
       "    </tr>\n",
       "    <tr>\n",
       "      <th>9</th>\n",
       "      <td>Devil Azite</td>\n",
       "      <td>0.1</td>\n",
       "      <td>548.0</td>\n",
       "      <td>671270</td>\n",
       "      <td>NaN</td>\n",
       "    </tr>\n",
       "  </tbody>\n",
       "</table>\n",
       "</div>"
      ],
      "text/plain": [
       "      username  hours  products product_id user_id\n",
       "0  Chaos Syren    0.1      41.0     725280     NaN\n",
       "1      Ariman1   13.2    1386.0     328100     NaN\n",
       "2  freakfantom    0.1    1706.0     725280     NaN\n",
       "5       Szudof    0.2     155.0     288690     NaN\n",
       "9  Devil Azite    0.1     548.0     671270     NaN"
      ]
     },
     "execution_count": 251,
     "metadata": {},
     "output_type": "execute_result"
    }
   ],
   "source": [
    "userId_missing.head()"
   ]
  },
  {
   "cell_type": "code",
   "execution_count": 252,
   "metadata": {
    "colab": {
     "base_uri": "https://localhost:8080/"
    },
    "executionInfo": {
     "elapsed": 346,
     "status": "ok",
     "timestamp": 1633074119443,
     "user": {
      "displayName": "Sebastian Campagnolo",
      "photoUrl": "https://lh3.googleusercontent.com/a-/AOh14Gg6pbROrzyday57jBRXk4J4eposq2tBYeW0Sr4=s64",
      "userId": "00251509339913289660"
     },
     "user_tz": -120
    },
    "id": "a0nvj-0ILxEG",
    "outputId": "ad71ef67-270d-4777-cadc-4a41a4df1f1c"
   },
   "outputs": [
    {
     "data": {
      "text/plain": [
       "(461967, 5)"
      ]
     },
     "execution_count": 252,
     "metadata": {},
     "output_type": "execute_result"
    }
   ],
   "source": [
    "userId_missing.shape"
   ]
  },
  {
   "cell_type": "code",
   "execution_count": 253,
   "metadata": {
    "colab": {
     "base_uri": "https://localhost:8080/",
     "height": 204
    },
    "executionInfo": {
     "elapsed": 7897,
     "status": "ok",
     "timestamp": 1633102232445,
     "user": {
      "displayName": "Sebastian Campagnolo",
      "photoUrl": "https://lh3.googleusercontent.com/a-/AOh14Gg6pbROrzyday57jBRXk4J4eposq2tBYeW0Sr4=s64",
      "userId": "00251509339913289660"
     },
     "user_tz": -120
    },
    "id": "X-fZfPksLxEG",
    "outputId": "7b72ac52-ea65-4914-ba15-bf8b150d2e4e"
   },
   "outputs": [
    {
     "data": {
      "text/html": [
       "<div>\n",
       "<style scoped>\n",
       "    .dataframe tbody tr th:only-of-type {\n",
       "        vertical-align: middle;\n",
       "    }\n",
       "\n",
       "    .dataframe tbody tr th {\n",
       "        vertical-align: top;\n",
       "    }\n",
       "\n",
       "    .dataframe thead th {\n",
       "        text-align: right;\n",
       "    }\n",
       "</style>\n",
       "<table border=\"1\" class=\"dataframe\">\n",
       "  <thead>\n",
       "    <tr style=\"text-align: right;\">\n",
       "      <th></th>\n",
       "      <th>username</th>\n",
       "      <th>quantity</th>\n",
       "    </tr>\n",
       "  </thead>\n",
       "  <tbody>\n",
       "    <tr>\n",
       "      <th>0</th>\n",
       "      <td>! ! ŦŕĩŽǿЯëќ™ ! !</td>\n",
       "      <td>1</td>\n",
       "    </tr>\n",
       "    <tr>\n",
       "      <th>1</th>\n",
       "      <td>! DeadlyDeal !</td>\n",
       "      <td>1</td>\n",
       "    </tr>\n",
       "    <tr>\n",
       "      <th>2</th>\n",
       "      <td>! Dr Feelgood</td>\n",
       "      <td>1</td>\n",
       "    </tr>\n",
       "    <tr>\n",
       "      <th>3</th>\n",
       "      <td>! GRIFFIS</td>\n",
       "      <td>1</td>\n",
       "    </tr>\n",
       "    <tr>\n",
       "      <th>4</th>\n",
       "      <td>! Monika !</td>\n",
       "      <td>2</td>\n",
       "    </tr>\n",
       "  </tbody>\n",
       "</table>\n",
       "</div>"
      ],
      "text/plain": [
       "            username  quantity\n",
       "0  ! ! ŦŕĩŽǿЯëќ™ ! !         1\n",
       "1     ! DeadlyDeal !         1\n",
       "2      ! Dr Feelgood         1\n",
       "3          ! GRIFFIS         1\n",
       "4         ! Monika !         2"
      ]
     },
     "execution_count": 253,
     "metadata": {},
     "output_type": "execute_result"
    }
   ],
   "source": [
    "username_grouped_missingId = userId_missing.groupby('username').count().reset_index()\n",
    "username_grouped_missingId = username_grouped_missingId[['username','product_id']]\n",
    "username_grouped_missingId.rename(columns={'product_id': 'quantity'}, inplace=True)\n",
    "username_grouped_missingId.head()"
   ]
  },
  {
   "cell_type": "code",
   "execution_count": 254,
   "metadata": {
    "colab": {
     "base_uri": "https://localhost:8080/"
    },
    "executionInfo": {
     "elapsed": 311,
     "status": "ok",
     "timestamp": 1633095628767,
     "user": {
      "displayName": "Sebastian Campagnolo",
      "photoUrl": "https://lh3.googleusercontent.com/a-/AOh14Gg6pbROrzyday57jBRXk4J4eposq2tBYeW0Sr4=s64",
      "userId": "00251509339913289660"
     },
     "user_tz": -120
    },
    "id": "BsAGd_huLxEH",
    "outputId": "a4f6aaf8-3afe-4646-8045-5c529f492146"
   },
   "outputs": [
    {
     "data": {
      "text/plain": [
       "309029"
      ]
     },
     "execution_count": 254,
     "metadata": {},
     "output_type": "execute_result"
    }
   ],
   "source": [
    "username_grouped_missingId.shape[0]"
   ]
  },
  {
   "cell_type": "markdown",
   "metadata": {
    "id": "BfCNo8WNLxEH"
   },
   "source": [
    "176.736 registros con *user_id* incompleto, sobre usuarios con una sola review => user_id irrecuperable"
   ]
  },
  {
   "cell_type": "code",
   "execution_count": 255,
   "metadata": {
    "colab": {
     "base_uri": "https://localhost:8080/"
    },
    "executionInfo": {
     "elapsed": 1361,
     "status": "ok",
     "timestamp": 1633091770937,
     "user": {
      "displayName": "Sebastian Campagnolo",
      "photoUrl": "https://lh3.googleusercontent.com/a-/AOh14Gg6pbROrzyday57jBRXk4J4eposq2tBYeW0Sr4=s64",
      "userId": "00251509339913289660"
     },
     "user_tz": -120
    },
    "id": "VCi7WE8LLxEH",
    "outputId": "56e420c6-89c5-487d-e2ec-0fefd2b89b96"
   },
   "outputs": [
    {
     "data": {
      "text/plain": [
       "51.71797985570398"
      ]
     },
     "execution_count": 255,
     "metadata": {},
     "output_type": "execute_result"
    }
   ],
   "source": [
    "username_grouped_missingId[username_grouped_missingId.quantity == 1].shape[0] / data_reviews['user_id'].isna().sum()*100"
   ]
  },
  {
   "cell_type": "markdown",
   "metadata": {
    "id": "P5tImmvhLxEI"
   },
   "source": [
    "El 63.8% de los faltantes corresponden a usuarios no repetidos; por lo tanto, son valores irrecuperables. (con el dataset de Reviews reducido inicial, el valor era del 51%)"
   ]
  },
  {
   "cell_type": "markdown",
   "metadata": {
    "id": "HwZQGFZTLxEI"
   },
   "source": [
    "Descarto las filas con *products* nulo para poder aplicar la función de generación de *user_id*"
   ]
  },
  {
   "cell_type": "code",
   "execution_count": 256,
   "metadata": {
    "id": "iQpX2D77LxEI"
   },
   "outputs": [],
   "source": [
    "data_reviews = data_reviews[data_reviews.products.notna()]"
   ]
  },
  {
   "cell_type": "code",
   "execution_count": 257,
   "metadata": {
    "colab": {
     "base_uri": "https://localhost:8080/"
    },
    "executionInfo": {
     "elapsed": 592,
     "status": "ok",
     "timestamp": 1633161328411,
     "user": {
      "displayName": "Sebastian Campagnolo",
      "photoUrl": "https://lh3.googleusercontent.com/a-/AOh14Gg6pbROrzyday57jBRXk4J4eposq2tBYeW0Sr4=s64",
      "userId": "00251509339913289660"
     },
     "user_tz": -120
    },
    "id": "Hd8G2EvbLxEI",
    "outputId": "f00c353a-fb3c-497e-8800-ff93f5941c96"
   },
   "outputs": [
    {
     "data": {
      "text/plain": [
       "2541321278"
      ]
     },
     "execution_count": 257,
     "metadata": {},
     "output_type": "execute_result"
    }
   ],
   "source": [
    "## Prueba de la función:\n",
    "calculateUserId('! adamsmeat.gm ♥',40)"
   ]
  },
  {
   "cell_type": "markdown",
   "metadata": {
    "id": "MveV5EeALxEJ"
   },
   "source": [
    "Aplicamos la función para poblar la columna *user_id*. Luego testeamos el resultado."
   ]
  },
  {
   "cell_type": "code",
   "execution_count": 258,
   "metadata": {
    "id": "kWeptS1qLxEJ"
   },
   "outputs": [],
   "source": [
    "data_reviews['user_id'] = data_reviews.apply(lambda row: (calculateUserId(row['username'],row['products'])\n",
    "                                                           ),axis=1)"
   ]
  },
  {
   "cell_type": "code",
   "execution_count": 259,
   "metadata": {
    "colab": {
     "base_uri": "https://localhost:8080/",
     "height": 204
    },
    "executionInfo": {
     "elapsed": 281,
     "status": "ok",
     "timestamp": 1633096186560,
     "user": {
      "displayName": "Sebastian Campagnolo",
      "photoUrl": "https://lh3.googleusercontent.com/a-/AOh14Gg6pbROrzyday57jBRXk4J4eposq2tBYeW0Sr4=s64",
      "userId": "00251509339913289660"
     },
     "user_tz": -120
    },
    "id": "otNdzgM3LxEJ",
    "outputId": "5ca29af7-2cc3-4fa2-e7c0-87bf00364c17"
   },
   "outputs": [
    {
     "data": {
      "text/html": [
       "<div>\n",
       "<style scoped>\n",
       "    .dataframe tbody tr th:only-of-type {\n",
       "        vertical-align: middle;\n",
       "    }\n",
       "\n",
       "    .dataframe tbody tr th {\n",
       "        vertical-align: top;\n",
       "    }\n",
       "\n",
       "    .dataframe thead th {\n",
       "        text-align: right;\n",
       "    }\n",
       "</style>\n",
       "<table border=\"1\" class=\"dataframe\">\n",
       "  <thead>\n",
       "    <tr style=\"text-align: right;\">\n",
       "      <th></th>\n",
       "      <th>username</th>\n",
       "      <th>hours</th>\n",
       "      <th>products</th>\n",
       "      <th>product_id</th>\n",
       "      <th>user_id</th>\n",
       "    </tr>\n",
       "  </thead>\n",
       "  <tbody>\n",
       "    <tr>\n",
       "      <th>0</th>\n",
       "      <td>Chaos Syren</td>\n",
       "      <td>0.1</td>\n",
       "      <td>41.0</td>\n",
       "      <td>725280</td>\n",
       "      <td>2368950420</td>\n",
       "    </tr>\n",
       "    <tr>\n",
       "      <th>1</th>\n",
       "      <td>Ariman1</td>\n",
       "      <td>13.2</td>\n",
       "      <td>1386.0</td>\n",
       "      <td>328100</td>\n",
       "      <td>2398386944</td>\n",
       "    </tr>\n",
       "    <tr>\n",
       "      <th>2</th>\n",
       "      <td>freakfantom</td>\n",
       "      <td>0.1</td>\n",
       "      <td>1706.0</td>\n",
       "      <td>725280</td>\n",
       "      <td>1440805404</td>\n",
       "    </tr>\n",
       "    <tr>\n",
       "      <th>3</th>\n",
       "      <td>The_Cpt_FROGGY</td>\n",
       "      <td>7.8</td>\n",
       "      <td>2217.0</td>\n",
       "      <td>631920</td>\n",
       "      <td>3174070216</td>\n",
       "    </tr>\n",
       "    <tr>\n",
       "      <th>4</th>\n",
       "      <td>the_maker988</td>\n",
       "      <td>8.2</td>\n",
       "      <td>18.0</td>\n",
       "      <td>35140</td>\n",
       "      <td>1757560494</td>\n",
       "    </tr>\n",
       "  </tbody>\n",
       "</table>\n",
       "</div>"
      ],
      "text/plain": [
       "         username  hours  products product_id     user_id\n",
       "0     Chaos Syren    0.1      41.0     725280  2368950420\n",
       "1         Ariman1   13.2    1386.0     328100  2398386944\n",
       "2     freakfantom    0.1    1706.0     725280  1440805404\n",
       "3  The_Cpt_FROGGY    7.8    2217.0     631920  3174070216\n",
       "4    the_maker988    8.2      18.0      35140  1757560494"
      ]
     },
     "execution_count": 259,
     "metadata": {},
     "output_type": "execute_result"
    }
   ],
   "source": [
    "data_reviews.head()"
   ]
  },
  {
   "cell_type": "code",
   "execution_count": 260,
   "metadata": {
    "colab": {
     "base_uri": "https://localhost:8080/"
    },
    "executionInfo": {
     "elapsed": 514,
     "status": "ok",
     "timestamp": 1633161462033,
     "user": {
      "displayName": "Sebastian Campagnolo",
      "photoUrl": "https://lh3.googleusercontent.com/a-/AOh14Gg6pbROrzyday57jBRXk4J4eposq2tBYeW0Sr4=s64",
      "userId": "00251509339913289660"
     },
     "user_tz": -120
    },
    "id": "RtL9EsNe_zKp",
    "outputId": "7498ccb6-88e5-4e42-ebd7-bc2d02eaaf2e"
   },
   "outputs": [
    {
     "name": "stdout",
     "output_type": "stream",
     "text": [
      "<class 'pandas.core.frame.DataFrame'>\n",
      "Int64Index: 777741 entries, 0 to 779306\n",
      "Data columns (total 5 columns):\n",
      " #   Column      Non-Null Count   Dtype  \n",
      "---  ------      --------------   -----  \n",
      " 0   username    777741 non-null  object \n",
      " 1   hours       775105 non-null  float64\n",
      " 2   products    777741 non-null  float64\n",
      " 3   product_id  777741 non-null  object \n",
      " 4   user_id     777741 non-null  int64  \n",
      "dtypes: float64(2), int64(1), object(2)\n",
      "memory usage: 35.6+ MB\n"
     ]
    }
   ],
   "source": [
    "data_reviews.info()"
   ]
  },
  {
   "cell_type": "markdown",
   "metadata": {
    "id": "0KSqQmttApxC"
   },
   "source": [
    "La función que utilizamos para generar los IDs de usuarios devuelve enteros sin signo en 32 bits. Modificamos el tipo de dato de la columna *user_id* para ahorrar memoria"
   ]
  },
  {
   "cell_type": "code",
   "execution_count": 261,
   "metadata": {
    "id": "98ho5pXsAp__"
   },
   "outputs": [],
   "source": [
    "data_reviews['user_id'] = pd.to_numeric(data_reviews.user_id, downcast=\"unsigned\")"
   ]
  },
  {
   "cell_type": "markdown",
   "metadata": {
    "id": "Nk083msBLxEK"
   },
   "source": [
    "Comprobamos que no haya filas con user_id nulo:"
   ]
  },
  {
   "cell_type": "code",
   "execution_count": 262,
   "metadata": {
    "colab": {
     "base_uri": "https://localhost:8080/"
    },
    "executionInfo": {
     "elapsed": 397,
     "status": "ok",
     "timestamp": 1633161481902,
     "user": {
      "displayName": "Sebastian Campagnolo",
      "photoUrl": "https://lh3.googleusercontent.com/a-/AOh14Gg6pbROrzyday57jBRXk4J4eposq2tBYeW0Sr4=s64",
      "userId": "00251509339913289660"
     },
     "user_tz": -120
    },
    "id": "0K_G9WkGLxEK",
    "outputId": "ab6d2ba9-4848-4ccb-b1ca-fc505ee57c58"
   },
   "outputs": [
    {
     "data": {
      "text/plain": [
       "0"
      ]
     },
     "execution_count": 262,
     "metadata": {},
     "output_type": "execute_result"
    }
   ],
   "source": [
    "data_reviews.user_id.isna().sum()"
   ]
  },
  {
   "cell_type": "markdown",
   "metadata": {
    "id": "OU2WwxN3LxEK"
   },
   "source": [
    "Realizo una búsqueda de repetidos en el dataset, considerando *iguales* dos registros que tengan mismos *username* y *products*."
   ]
  },
  {
   "cell_type": "code",
   "execution_count": 263,
   "metadata": {
    "colab": {
     "base_uri": "https://localhost:8080/",
     "height": 669
    },
    "executionInfo": {
     "elapsed": 21752,
     "status": "ok",
     "timestamp": 1633092484457,
     "user": {
      "displayName": "Sebastian Campagnolo",
      "photoUrl": "https://lh3.googleusercontent.com/a-/AOh14Gg6pbROrzyday57jBRXk4J4eposq2tBYeW0Sr4=s64",
      "userId": "00251509339913289660"
     },
     "user_tz": -120
    },
    "id": "oIfPr2deLxEK",
    "outputId": "3e05b19f-80dd-45ca-849b-b4babf2f9318"
   },
   "outputs": [
    {
     "data": {
      "text/html": [
       "<div>\n",
       "<style scoped>\n",
       "    .dataframe tbody tr th:only-of-type {\n",
       "        vertical-align: middle;\n",
       "    }\n",
       "\n",
       "    .dataframe tbody tr th {\n",
       "        vertical-align: top;\n",
       "    }\n",
       "\n",
       "    .dataframe thead th {\n",
       "        text-align: right;\n",
       "    }\n",
       "</style>\n",
       "<table border=\"1\" class=\"dataframe\">\n",
       "  <thead>\n",
       "    <tr style=\"text-align: right;\">\n",
       "      <th></th>\n",
       "      <th>username</th>\n",
       "      <th>products</th>\n",
       "      <th>quantity_reviews</th>\n",
       "    </tr>\n",
       "  </thead>\n",
       "  <tbody>\n",
       "    <tr>\n",
       "      <th>0</th>\n",
       "      <td>!    ZerZ</td>\n",
       "      <td>218.0</td>\n",
       "      <td>2</td>\n",
       "    </tr>\n",
       "    <tr>\n",
       "      <th>1</th>\n",
       "      <td>! ! ŦŕĩŽǿЯëќ™ ! !</td>\n",
       "      <td>247.0</td>\n",
       "      <td>1</td>\n",
       "    </tr>\n",
       "    <tr>\n",
       "      <th>2</th>\n",
       "      <td>! Alga</td>\n",
       "      <td>228.0</td>\n",
       "      <td>2</td>\n",
       "    </tr>\n",
       "    <tr>\n",
       "      <th>3</th>\n",
       "      <td>! DeadlyDeal !</td>\n",
       "      <td>406.0</td>\n",
       "      <td>1</td>\n",
       "    </tr>\n",
       "    <tr>\n",
       "      <th>4</th>\n",
       "      <td>! Dr Feelgood</td>\n",
       "      <td>87.0</td>\n",
       "      <td>1</td>\n",
       "    </tr>\n",
       "    <tr>\n",
       "      <th>5</th>\n",
       "      <td>! EREN</td>\n",
       "      <td>42.0</td>\n",
       "      <td>1</td>\n",
       "    </tr>\n",
       "    <tr>\n",
       "      <th>6</th>\n",
       "      <td>! GRIFFIS</td>\n",
       "      <td>151.0</td>\n",
       "      <td>1</td>\n",
       "    </tr>\n",
       "    <tr>\n",
       "      <th>7</th>\n",
       "      <td>! Monika !</td>\n",
       "      <td>79.0</td>\n",
       "      <td>2</td>\n",
       "    </tr>\n",
       "    <tr>\n",
       "      <th>8</th>\n",
       "      <td>! Taz the Husky</td>\n",
       "      <td>402.0</td>\n",
       "      <td>4</td>\n",
       "    </tr>\n",
       "    <tr>\n",
       "      <th>9</th>\n",
       "      <td>! ToxicWizzard</td>\n",
       "      <td>234.0</td>\n",
       "      <td>1</td>\n",
       "    </tr>\n",
       "    <tr>\n",
       "      <th>10</th>\n",
       "      <td>! [R3 Kry]</td>\n",
       "      <td>45.0</td>\n",
       "      <td>1</td>\n",
       "    </tr>\n",
       "    <tr>\n",
       "      <th>11</th>\n",
       "      <td>! adamsmeat.gm ♥</td>\n",
       "      <td>3.0</td>\n",
       "      <td>1</td>\n",
       "    </tr>\n",
       "    <tr>\n",
       "      <th>12</th>\n",
       "      <td>! fhidann</td>\n",
       "      <td>195.0</td>\n",
       "      <td>1</td>\n",
       "    </tr>\n",
       "    <tr>\n",
       "      <th>13</th>\n",
       "      <td>! spOh</td>\n",
       "      <td>147.0</td>\n",
       "      <td>1</td>\n",
       "    </tr>\n",
       "    <tr>\n",
       "      <th>14</th>\n",
       "      <td>! ♠คςє♠ !</td>\n",
       "      <td>471.0</td>\n",
       "      <td>1</td>\n",
       "    </tr>\n",
       "    <tr>\n",
       "      <th>15</th>\n",
       "      <td>! 💗 B E A M O R E O '</td>\n",
       "      <td>75.0</td>\n",
       "      <td>1</td>\n",
       "    </tr>\n",
       "    <tr>\n",
       "      <th>16</th>\n",
       "      <td>!!</td>\n",
       "      <td>54.0</td>\n",
       "      <td>1</td>\n",
       "    </tr>\n",
       "    <tr>\n",
       "      <th>17</th>\n",
       "      <td>!!</td>\n",
       "      <td>117.0</td>\n",
       "      <td>1</td>\n",
       "    </tr>\n",
       "    <tr>\n",
       "      <th>18</th>\n",
       "      <td>!! leo is amazing !!</td>\n",
       "      <td>13.0</td>\n",
       "      <td>1</td>\n",
       "    </tr>\n",
       "    <tr>\n",
       "      <th>19</th>\n",
       "      <td>!! ÅFŁÄTÖØÑ !!</td>\n",
       "      <td>23.0</td>\n",
       "      <td>1</td>\n",
       "    </tr>\n",
       "  </tbody>\n",
       "</table>\n",
       "</div>"
      ],
      "text/plain": [
       "                 username  products  quantity_reviews\n",
       "0               !    ZerZ     218.0                 2\n",
       "1       ! ! ŦŕĩŽǿЯëќ™ ! !     247.0                 1\n",
       "2                  ! Alga     228.0                 2\n",
       "3          ! DeadlyDeal !     406.0                 1\n",
       "4           ! Dr Feelgood      87.0                 1\n",
       "5                  ! EREN      42.0                 1\n",
       "6               ! GRIFFIS     151.0                 1\n",
       "7              ! Monika !      79.0                 2\n",
       "8         ! Taz the Husky     402.0                 4\n",
       "9          ! ToxicWizzard     234.0                 1\n",
       "10             ! [R3 Kry]      45.0                 1\n",
       "11       ! adamsmeat.gm ♥       3.0                 1\n",
       "12              ! fhidann     195.0                 1\n",
       "13                 ! spOh     147.0                 1\n",
       "14              ! ♠คςє♠ !     471.0                 1\n",
       "15  ! 💗 B E A M O R E O '      75.0                 1\n",
       "16                     !!      54.0                 1\n",
       "17                     !!     117.0                 1\n",
       "18   !! leo is amazing !!      13.0                 1\n",
       "19         !! ÅFŁÄTÖØÑ !!      23.0                 1"
      ]
     },
     "execution_count": 263,
     "metadata": {},
     "output_type": "execute_result"
    }
   ],
   "source": [
    "users = data_reviews.groupby(['username','products']).count().reset_index()\n",
    "users = users[['username','products','product_id']]\n",
    "users.rename(columns={'product_id': 'quantity_reviews'}, inplace=True)\n",
    "users.head(20)"
   ]
  },
  {
   "cell_type": "code",
   "execution_count": 264,
   "metadata": {
    "colab": {
     "base_uri": "https://localhost:8080/"
    },
    "executionInfo": {
     "elapsed": 336,
     "status": "ok",
     "timestamp": 1633092961452,
     "user": {
      "displayName": "Sebastian Campagnolo",
      "photoUrl": "https://lh3.googleusercontent.com/a-/AOh14Gg6pbROrzyday57jBRXk4J4eposq2tBYeW0Sr4=s64",
      "userId": "00251509339913289660"
     },
     "user_tz": -120
    },
    "id": "H5kqFJ70LxEK",
    "outputId": "fdf5d7b2-20a9-4e82-ded6-11d3d13dcbec"
   },
   "outputs": [
    {
     "data": {
      "text/plain": [
       "(600118, 3)"
      ]
     },
     "execution_count": 264,
     "metadata": {},
     "output_type": "execute_result"
    }
   ],
   "source": [
    "users.shape"
   ]
  },
  {
   "cell_type": "markdown",
   "metadata": {
    "id": "IAQhpKw-LxEL"
   },
   "source": [
    "Si en la columna *username* del objeto *users* hay elementos repetidos, se trata de usuarios diferentes con el mismo nombre. Los cuento:"
   ]
  },
  {
   "cell_type": "code",
   "execution_count": 265,
   "metadata": {
    "colab": {
     "base_uri": "https://localhost:8080/"
    },
    "executionInfo": {
     "elapsed": 13334,
     "status": "ok",
     "timestamp": 1633092977496,
     "user": {
      "displayName": "Sebastian Campagnolo",
      "photoUrl": "https://lh3.googleusercontent.com/a-/AOh14Gg6pbROrzyday57jBRXk4J4eposq2tBYeW0Sr4=s64",
      "userId": "00251509339913289660"
     },
     "user_tz": -120
    },
    "id": "846KhJAVLxEL",
    "outputId": "7c55d35e-5e80-4379-8054-698870d05756"
   },
   "outputs": [
    {
     "data": {
      "text/plain": [
       "600118"
      ]
     },
     "execution_count": 265,
     "metadata": {},
     "output_type": "execute_result"
    }
   ],
   "source": [
    "usernames_repetidos = users.groupby('username').count().reset_index()\n",
    "usernames_repetidos = users[['username','quantity_reviews']]\n",
    "#usernames_repetidos.rename(columns={'quantity_reviews': 'quantity'}, inplace=True)\n",
    "usernames_repetidos.shape[0]"
   ]
  },
  {
   "cell_type": "markdown",
   "metadata": {},
   "source": [
    "Cantidad de usuarios diferentes con *username* repetido:"
   ]
  },
  {
   "cell_type": "code",
   "execution_count": 266,
   "metadata": {},
   "outputs": [
    {
     "name": "stdout",
     "output_type": "stream",
     "text": [
      "0\n"
     ]
    }
   ],
   "source": [
    "print(users.shape[0]-usernames_repetidos.shape[0])"
   ]
  },
  {
   "cell_type": "markdown",
   "metadata": {
    "id": "YhDynQczLxEL"
   },
   "source": [
    "##### Tratamiento de valores faltantes"
   ]
  },
  {
   "cell_type": "markdown",
   "metadata": {
    "id": "-ZFAAE2wLxEL"
   },
   "source": [
    "Cuento la cantidad de *NaN* en la columna *hours*, que es la que quedó con valores faltantes:"
   ]
  },
  {
   "cell_type": "code",
   "execution_count": 267,
   "metadata": {
    "colab": {
     "base_uri": "https://localhost:8080/"
    },
    "executionInfo": {
     "elapsed": 301,
     "status": "ok",
     "timestamp": 1633102421375,
     "user": {
      "displayName": "Sebastian Campagnolo",
      "photoUrl": "https://lh3.googleusercontent.com/a-/AOh14Gg6pbROrzyday57jBRXk4J4eposq2tBYeW0Sr4=s64",
      "userId": "00251509339913289660"
     },
     "user_tz": -120
    },
    "id": "qNQqdIBULxEL",
    "outputId": "e4d08e6b-6ec2-4b1d-a560-6f50e9cdceb2"
   },
   "outputs": [
    {
     "data": {
      "text/plain": [
       "username         0\n",
       "hours         2636\n",
       "products         0\n",
       "product_id       0\n",
       "user_id          0\n",
       "dtype: int64"
      ]
     },
     "execution_count": 267,
     "metadata": {},
     "output_type": "execute_result"
    }
   ],
   "source": [
    "data_reviews.isna().sum()"
   ]
  },
  {
   "cell_type": "code",
   "execution_count": 268,
   "metadata": {
    "colab": {
     "base_uri": "https://localhost:8080/"
    },
    "executionInfo": {
     "elapsed": 377,
     "status": "ok",
     "timestamp": 1633092988127,
     "user": {
      "displayName": "Sebastian Campagnolo",
      "photoUrl": "https://lh3.googleusercontent.com/a-/AOh14Gg6pbROrzyday57jBRXk4J4eposq2tBYeW0Sr4=s64",
      "userId": "00251509339913289660"
     },
     "user_tz": -120
    },
    "id": "gwbmTpW7ALfR",
    "outputId": "313c09ae-ca5a-4a47-e3b1-8be6f313e7fc"
   },
   "outputs": [
    {
     "data": {
      "text/plain": [
       "username      0.00000\n",
       "hours         0.33893\n",
       "products      0.00000\n",
       "product_id    0.00000\n",
       "user_id       0.00000\n",
       "dtype: float64"
      ]
     },
     "execution_count": 268,
     "metadata": {},
     "output_type": "execute_result"
    }
   ],
   "source": [
    "data_reviews.isna().sum() / data_reviews.shape[0]*100"
   ]
  },
  {
   "cell_type": "markdown",
   "metadata": {
    "id": "f9041o2RLxEM"
   },
   "source": [
    "Descarto las filas con nulos, ya que en proporción son muy pocas"
   ]
  },
  {
   "cell_type": "code",
   "execution_count": 269,
   "metadata": {
    "id": "CArx4N5GLxEM"
   },
   "outputs": [],
   "source": [
    "data_reviews = data_reviews[data_reviews.hours.notna()]"
   ]
  },
  {
   "cell_type": "code",
   "execution_count": 270,
   "metadata": {
    "colab": {
     "base_uri": "https://localhost:8080/"
    },
    "executionInfo": {
     "elapsed": 13,
     "status": "ok",
     "timestamp": 1633161499822,
     "user": {
      "displayName": "Sebastian Campagnolo",
      "photoUrl": "https://lh3.googleusercontent.com/a-/AOh14Gg6pbROrzyday57jBRXk4J4eposq2tBYeW0Sr4=s64",
      "userId": "00251509339913289660"
     },
     "user_tz": -120
    },
    "id": "RFUpWOEBLxEM",
    "outputId": "6b317359-fcda-44c5-95ba-cd560a5c85e4"
   },
   "outputs": [
    {
     "data": {
      "text/plain": [
       "(775105, 5)"
      ]
     },
     "execution_count": 270,
     "metadata": {},
     "output_type": "execute_result"
    }
   ],
   "source": [
    "data_reviews.shape"
   ]
  },
  {
   "cell_type": "code",
   "execution_count": 271,
   "metadata": {
    "id": "atU5JwwoLxEM"
   },
   "outputs": [],
   "source": [
    "data_reviews.reset_index(inplace=True, drop=True)"
   ]
  },
  {
   "cell_type": "markdown",
   "metadata": {
    "id": "i7uejZu_LxEN"
   },
   "source": [
    "Mostramos cómo quedó el dataset de **Reviews** final:"
   ]
  },
  {
   "cell_type": "code",
   "execution_count": 272,
   "metadata": {
    "colab": {
     "base_uri": "https://localhost:8080/",
     "height": 206
    },
    "executionInfo": {
     "elapsed": 347,
     "status": "ok",
     "timestamp": 1633161508876,
     "user": {
      "displayName": "Sebastian Campagnolo",
      "photoUrl": "https://lh3.googleusercontent.com/a-/AOh14Gg6pbROrzyday57jBRXk4J4eposq2tBYeW0Sr4=s64",
      "userId": "00251509339913289660"
     },
     "user_tz": -120
    },
    "id": "dBkoBRwnLxEN",
    "outputId": "da1c6438-aacb-418b-a6f6-7b83bdaa0f68"
   },
   "outputs": [
    {
     "data": {
      "text/html": [
       "<div>\n",
       "<style scoped>\n",
       "    .dataframe tbody tr th:only-of-type {\n",
       "        vertical-align: middle;\n",
       "    }\n",
       "\n",
       "    .dataframe tbody tr th {\n",
       "        vertical-align: top;\n",
       "    }\n",
       "\n",
       "    .dataframe thead th {\n",
       "        text-align: right;\n",
       "    }\n",
       "</style>\n",
       "<table border=\"1\" class=\"dataframe\">\n",
       "  <thead>\n",
       "    <tr style=\"text-align: right;\">\n",
       "      <th></th>\n",
       "      <th>username</th>\n",
       "      <th>hours</th>\n",
       "      <th>products</th>\n",
       "      <th>product_id</th>\n",
       "      <th>user_id</th>\n",
       "    </tr>\n",
       "  </thead>\n",
       "  <tbody>\n",
       "    <tr>\n",
       "      <th>0</th>\n",
       "      <td>Chaos Syren</td>\n",
       "      <td>0.1</td>\n",
       "      <td>41.0</td>\n",
       "      <td>725280</td>\n",
       "      <td>2368950420</td>\n",
       "    </tr>\n",
       "    <tr>\n",
       "      <th>1</th>\n",
       "      <td>Ariman1</td>\n",
       "      <td>13.2</td>\n",
       "      <td>1386.0</td>\n",
       "      <td>328100</td>\n",
       "      <td>2398386944</td>\n",
       "    </tr>\n",
       "    <tr>\n",
       "      <th>2</th>\n",
       "      <td>freakfantom</td>\n",
       "      <td>0.1</td>\n",
       "      <td>1706.0</td>\n",
       "      <td>725280</td>\n",
       "      <td>1440805404</td>\n",
       "    </tr>\n",
       "    <tr>\n",
       "      <th>3</th>\n",
       "      <td>The_Cpt_FROGGY</td>\n",
       "      <td>7.8</td>\n",
       "      <td>2217.0</td>\n",
       "      <td>631920</td>\n",
       "      <td>3174070216</td>\n",
       "    </tr>\n",
       "    <tr>\n",
       "      <th>4</th>\n",
       "      <td>the_maker988</td>\n",
       "      <td>8.2</td>\n",
       "      <td>18.0</td>\n",
       "      <td>35140</td>\n",
       "      <td>1757560494</td>\n",
       "    </tr>\n",
       "  </tbody>\n",
       "</table>\n",
       "</div>"
      ],
      "text/plain": [
       "         username  hours  products product_id     user_id\n",
       "0     Chaos Syren    0.1      41.0     725280  2368950420\n",
       "1         Ariman1   13.2    1386.0     328100  2398386944\n",
       "2     freakfantom    0.1    1706.0     725280  1440805404\n",
       "3  The_Cpt_FROGGY    7.8    2217.0     631920  3174070216\n",
       "4    the_maker988    8.2      18.0      35140  1757560494"
      ]
     },
     "execution_count": 272,
     "metadata": {},
     "output_type": "execute_result"
    }
   ],
   "source": [
    "data_reviews.head()"
   ]
  },
  {
   "cell_type": "code",
   "execution_count": 273,
   "metadata": {
    "colab": {
     "base_uri": "https://localhost:8080/"
    },
    "executionInfo": {
     "elapsed": 261,
     "status": "ok",
     "timestamp": 1633102434004,
     "user": {
      "displayName": "Sebastian Campagnolo",
      "photoUrl": "https://lh3.googleusercontent.com/a-/AOh14Gg6pbROrzyday57jBRXk4J4eposq2tBYeW0Sr4=s64",
      "userId": "00251509339913289660"
     },
     "user_tz": -120
    },
    "id": "_f-2ZOZoAb1j",
    "outputId": "8a3d098c-817c-48c7-d992-138348e3df8e"
   },
   "outputs": [
    {
     "data": {
      "text/plain": [
       "4298"
      ]
     },
     "execution_count": 273,
     "metadata": {},
     "output_type": "execute_result"
    }
   ],
   "source": [
    "gc.collect()  #Liberamos memoria"
   ]
  },
  {
   "cell_type": "markdown",
   "metadata": {
    "id": "04ed3teRWT0T"
   },
   "source": [
    "## **Games**"
   ]
  },
  {
   "cell_type": "code",
   "execution_count": 274,
   "metadata": {
    "id": "8wRb24Y5WT0U"
   },
   "outputs": [],
   "source": [
    "data_games = []\n",
    "for l in parse('./steam_games.json.gz'):\n",
    "    data_games.append(l)\n",
    "data_games = pd.DataFrame(data_games)"
   ]
  },
  {
   "cell_type": "code",
   "execution_count": 275,
   "metadata": {
    "colab": {
     "base_uri": "https://localhost:8080/",
     "height": 272
    },
    "executionInfo": {
     "elapsed": 353,
     "status": "ok",
     "timestamp": 1633093544281,
     "user": {
      "displayName": "Sebastian Campagnolo",
      "photoUrl": "https://lh3.googleusercontent.com/a-/AOh14Gg6pbROrzyday57jBRXk4J4eposq2tBYeW0Sr4=s64",
      "userId": "00251509339913289660"
     },
     "user_tz": -120
    },
    "id": "sVR0Cs6SWT0b",
    "outputId": "83d9f10f-9a1b-4281-c967-11dfc47d3a90"
   },
   "outputs": [
    {
     "data": {
      "text/html": [
       "<div>\n",
       "<style scoped>\n",
       "    .dataframe tbody tr th:only-of-type {\n",
       "        vertical-align: middle;\n",
       "    }\n",
       "\n",
       "    .dataframe tbody tr th {\n",
       "        vertical-align: top;\n",
       "    }\n",
       "\n",
       "    .dataframe thead th {\n",
       "        text-align: right;\n",
       "    }\n",
       "</style>\n",
       "<table border=\"1\" class=\"dataframe\">\n",
       "  <thead>\n",
       "    <tr style=\"text-align: right;\">\n",
       "      <th></th>\n",
       "      <th>publisher</th>\n",
       "      <th>genres</th>\n",
       "      <th>app_name</th>\n",
       "      <th>title</th>\n",
       "      <th>url</th>\n",
       "      <th>release_date</th>\n",
       "      <th>tags</th>\n",
       "      <th>discount_price</th>\n",
       "      <th>reviews_url</th>\n",
       "      <th>specs</th>\n",
       "      <th>price</th>\n",
       "      <th>early_access</th>\n",
       "      <th>id</th>\n",
       "      <th>developer</th>\n",
       "      <th>sentiment</th>\n",
       "      <th>metascore</th>\n",
       "    </tr>\n",
       "  </thead>\n",
       "  <tbody>\n",
       "    <tr>\n",
       "      <th>0</th>\n",
       "      <td>Kotoshiro</td>\n",
       "      <td>[Action, Casual, Indie, Simulation, Strategy]</td>\n",
       "      <td>Lost Summoner Kitty</td>\n",
       "      <td>Lost Summoner Kitty</td>\n",
       "      <td>http://store.steampowered.com/app/761140/Lost_...</td>\n",
       "      <td>2018-01-04</td>\n",
       "      <td>[Strategy, Action, Indie, Casual, Simulation]</td>\n",
       "      <td>4.49</td>\n",
       "      <td>http://steamcommunity.com/app/761140/reviews/?...</td>\n",
       "      <td>[Single-player]</td>\n",
       "      <td>4.99</td>\n",
       "      <td>False</td>\n",
       "      <td>761140</td>\n",
       "      <td>Kotoshiro</td>\n",
       "      <td>NaN</td>\n",
       "      <td>NaN</td>\n",
       "    </tr>\n",
       "    <tr>\n",
       "      <th>1</th>\n",
       "      <td>Making Fun, Inc.</td>\n",
       "      <td>[Free to Play, Indie, RPG, Strategy]</td>\n",
       "      <td>Ironbound</td>\n",
       "      <td>Ironbound</td>\n",
       "      <td>http://store.steampowered.com/app/643980/Ironb...</td>\n",
       "      <td>2018-01-04</td>\n",
       "      <td>[Free to Play, Strategy, Indie, RPG, Card Game...</td>\n",
       "      <td>NaN</td>\n",
       "      <td>http://steamcommunity.com/app/643980/reviews/?...</td>\n",
       "      <td>[Single-player, Multi-player, Online Multi-Pla...</td>\n",
       "      <td>Free To Play</td>\n",
       "      <td>False</td>\n",
       "      <td>643980</td>\n",
       "      <td>Secret Level SRL</td>\n",
       "      <td>Mostly Positive</td>\n",
       "      <td>NaN</td>\n",
       "    </tr>\n",
       "    <tr>\n",
       "      <th>2</th>\n",
       "      <td>Poolians.com</td>\n",
       "      <td>[Casual, Free to Play, Indie, Simulation, Sports]</td>\n",
       "      <td>Real Pool 3D - Poolians</td>\n",
       "      <td>Real Pool 3D - Poolians</td>\n",
       "      <td>http://store.steampowered.com/app/670290/Real_...</td>\n",
       "      <td>2017-07-24</td>\n",
       "      <td>[Free to Play, Simulation, Sports, Casual, Ind...</td>\n",
       "      <td>NaN</td>\n",
       "      <td>http://steamcommunity.com/app/670290/reviews/?...</td>\n",
       "      <td>[Single-player, Multi-player, Online Multi-Pla...</td>\n",
       "      <td>Free to Play</td>\n",
       "      <td>False</td>\n",
       "      <td>670290</td>\n",
       "      <td>Poolians.com</td>\n",
       "      <td>Mostly Positive</td>\n",
       "      <td>NaN</td>\n",
       "    </tr>\n",
       "    <tr>\n",
       "      <th>3</th>\n",
       "      <td>彼岸领域</td>\n",
       "      <td>[Action, Adventure, Casual]</td>\n",
       "      <td>弹炸人2222</td>\n",
       "      <td>弹炸人2222</td>\n",
       "      <td>http://store.steampowered.com/app/767400/2222/</td>\n",
       "      <td>2017-12-07</td>\n",
       "      <td>[Action, Adventure, Casual]</td>\n",
       "      <td>0.83</td>\n",
       "      <td>http://steamcommunity.com/app/767400/reviews/?...</td>\n",
       "      <td>[Single-player]</td>\n",
       "      <td>0.99</td>\n",
       "      <td>False</td>\n",
       "      <td>767400</td>\n",
       "      <td>彼岸领域</td>\n",
       "      <td>NaN</td>\n",
       "      <td>NaN</td>\n",
       "    </tr>\n",
       "    <tr>\n",
       "      <th>4</th>\n",
       "      <td>NaN</td>\n",
       "      <td>NaN</td>\n",
       "      <td>Log Challenge</td>\n",
       "      <td>NaN</td>\n",
       "      <td>http://store.steampowered.com/app/773570/Log_C...</td>\n",
       "      <td>NaN</td>\n",
       "      <td>[Action, Indie, Casual, Sports]</td>\n",
       "      <td>1.79</td>\n",
       "      <td>http://steamcommunity.com/app/773570/reviews/?...</td>\n",
       "      <td>[Single-player, Full controller support, HTC V...</td>\n",
       "      <td>2.99</td>\n",
       "      <td>False</td>\n",
       "      <td>773570</td>\n",
       "      <td>NaN</td>\n",
       "      <td>NaN</td>\n",
       "      <td>NaN</td>\n",
       "    </tr>\n",
       "  </tbody>\n",
       "</table>\n",
       "</div>"
      ],
      "text/plain": [
       "          publisher                                             genres  \\\n",
       "0         Kotoshiro      [Action, Casual, Indie, Simulation, Strategy]   \n",
       "1  Making Fun, Inc.               [Free to Play, Indie, RPG, Strategy]   \n",
       "2      Poolians.com  [Casual, Free to Play, Indie, Simulation, Sports]   \n",
       "3              彼岸领域                        [Action, Adventure, Casual]   \n",
       "4               NaN                                                NaN   \n",
       "\n",
       "                  app_name                    title  \\\n",
       "0      Lost Summoner Kitty      Lost Summoner Kitty   \n",
       "1                Ironbound                Ironbound   \n",
       "2  Real Pool 3D - Poolians  Real Pool 3D - Poolians   \n",
       "3                  弹炸人2222                  弹炸人2222   \n",
       "4            Log Challenge                      NaN   \n",
       "\n",
       "                                                 url release_date  \\\n",
       "0  http://store.steampowered.com/app/761140/Lost_...   2018-01-04   \n",
       "1  http://store.steampowered.com/app/643980/Ironb...   2018-01-04   \n",
       "2  http://store.steampowered.com/app/670290/Real_...   2017-07-24   \n",
       "3     http://store.steampowered.com/app/767400/2222/   2017-12-07   \n",
       "4  http://store.steampowered.com/app/773570/Log_C...          NaN   \n",
       "\n",
       "                                                tags  discount_price  \\\n",
       "0      [Strategy, Action, Indie, Casual, Simulation]            4.49   \n",
       "1  [Free to Play, Strategy, Indie, RPG, Card Game...             NaN   \n",
       "2  [Free to Play, Simulation, Sports, Casual, Ind...             NaN   \n",
       "3                        [Action, Adventure, Casual]            0.83   \n",
       "4                    [Action, Indie, Casual, Sports]            1.79   \n",
       "\n",
       "                                         reviews_url  \\\n",
       "0  http://steamcommunity.com/app/761140/reviews/?...   \n",
       "1  http://steamcommunity.com/app/643980/reviews/?...   \n",
       "2  http://steamcommunity.com/app/670290/reviews/?...   \n",
       "3  http://steamcommunity.com/app/767400/reviews/?...   \n",
       "4  http://steamcommunity.com/app/773570/reviews/?...   \n",
       "\n",
       "                                               specs         price  \\\n",
       "0                                    [Single-player]          4.99   \n",
       "1  [Single-player, Multi-player, Online Multi-Pla...  Free To Play   \n",
       "2  [Single-player, Multi-player, Online Multi-Pla...  Free to Play   \n",
       "3                                    [Single-player]          0.99   \n",
       "4  [Single-player, Full controller support, HTC V...          2.99   \n",
       "\n",
       "   early_access      id         developer        sentiment metascore  \n",
       "0         False  761140         Kotoshiro              NaN       NaN  \n",
       "1         False  643980  Secret Level SRL  Mostly Positive       NaN  \n",
       "2         False  670290      Poolians.com  Mostly Positive       NaN  \n",
       "3         False  767400              彼岸领域              NaN       NaN  \n",
       "4         False  773570               NaN              NaN       NaN  "
      ]
     },
     "execution_count": 275,
     "metadata": {},
     "output_type": "execute_result"
    }
   ],
   "source": [
    "data_games.head()"
   ]
  },
  {
   "cell_type": "code",
   "execution_count": 276,
   "metadata": {
    "colab": {
     "base_uri": "https://localhost:8080/"
    },
    "executionInfo": {
     "elapsed": 8,
     "status": "ok",
     "timestamp": 1633093546122,
     "user": {
      "displayName": "Sebastian Campagnolo",
      "photoUrl": "https://lh3.googleusercontent.com/a-/AOh14Gg6pbROrzyday57jBRXk4J4eposq2tBYeW0Sr4=s64",
      "userId": "00251509339913289660"
     },
     "user_tz": -120
    },
    "id": "eTIK03D6LxEO",
    "outputId": "5ec41030-662d-4ded-a5e6-5ccb24038fc7"
   },
   "outputs": [
    {
     "data": {
      "text/plain": [
       "(32135, 16)"
      ]
     },
     "execution_count": 276,
     "metadata": {},
     "output_type": "execute_result"
    }
   ],
   "source": [
    "data_games.shape"
   ]
  },
  {
   "cell_type": "markdown",
   "metadata": {
    "id": "eDSpFhXKLxEO"
   },
   "source": [
    "Vemos cuántos juegos tienen *sentiment* Positivo"
   ]
  },
  {
   "cell_type": "code",
   "execution_count": 277,
   "metadata": {
    "colab": {
     "base_uri": "https://localhost:8080/",
     "height": 572
    },
    "executionInfo": {
     "elapsed": 316,
     "status": "ok",
     "timestamp": 1633081794543,
     "user": {
      "displayName": "Sebastian Campagnolo",
      "photoUrl": "https://lh3.googleusercontent.com/a-/AOh14Gg6pbROrzyday57jBRXk4J4eposq2tBYeW0Sr4=s64",
      "userId": "00251509339913289660"
     },
     "user_tz": -120
    },
    "id": "rCMmRWnyLxEO",
    "outputId": "79dfb393-465b-494b-e956-5d516d2314ed"
   },
   "outputs": [
    {
     "data": {
      "text/html": [
       "<div>\n",
       "<style scoped>\n",
       "    .dataframe tbody tr th:only-of-type {\n",
       "        vertical-align: middle;\n",
       "    }\n",
       "\n",
       "    .dataframe tbody tr th {\n",
       "        vertical-align: top;\n",
       "    }\n",
       "\n",
       "    .dataframe thead th {\n",
       "        text-align: right;\n",
       "    }\n",
       "</style>\n",
       "<table border=\"1\" class=\"dataframe\">\n",
       "  <thead>\n",
       "    <tr style=\"text-align: right;\">\n",
       "      <th></th>\n",
       "      <th>publisher</th>\n",
       "      <th>genres</th>\n",
       "      <th>app_name</th>\n",
       "      <th>title</th>\n",
       "      <th>url</th>\n",
       "      <th>release_date</th>\n",
       "      <th>tags</th>\n",
       "      <th>discount_price</th>\n",
       "      <th>reviews_url</th>\n",
       "      <th>specs</th>\n",
       "      <th>price</th>\n",
       "      <th>early_access</th>\n",
       "      <th>id</th>\n",
       "      <th>developer</th>\n",
       "      <th>sentiment</th>\n",
       "      <th>metascore</th>\n",
       "    </tr>\n",
       "  </thead>\n",
       "  <tbody>\n",
       "    <tr>\n",
       "      <th>83</th>\n",
       "      <td>Telltale Games</td>\n",
       "      <td>[Action, Adventure]</td>\n",
       "      <td>Sam &amp; Max 102: Situation: Comedy</td>\n",
       "      <td>Sam &amp;amp; Max 102: Situation: Comedy</td>\n",
       "      <td>http://store.steampowered.com/app/8210/Sam__Ma...</td>\n",
       "      <td>2006-12-20</td>\n",
       "      <td>[Adventure, Action]</td>\n",
       "      <td>NaN</td>\n",
       "      <td>http://steamcommunity.com/app/8210/reviews/?br...</td>\n",
       "      <td>[Single-player]</td>\n",
       "      <td>19.99</td>\n",
       "      <td>False</td>\n",
       "      <td>8210</td>\n",
       "      <td>Telltale Games</td>\n",
       "      <td>Positive</td>\n",
       "      <td>NaN</td>\n",
       "    </tr>\n",
       "    <tr>\n",
       "      <th>125</th>\n",
       "      <td>Nunchuck Games</td>\n",
       "      <td>[Casual, Indie]</td>\n",
       "      <td>Ninja Reflex: Steamworks Edition</td>\n",
       "      <td>Ninja Reflex: Steamworks Edition</td>\n",
       "      <td>http://store.steampowered.com/app/13000/Ninja_...</td>\n",
       "      <td>2008-03-21</td>\n",
       "      <td>[Indie, Casual, Ninja]</td>\n",
       "      <td>NaN</td>\n",
       "      <td>http://steamcommunity.com/app/13000/reviews/?b...</td>\n",
       "      <td>[Single-player, Multi-player, Steam Achievements]</td>\n",
       "      <td>4.99</td>\n",
       "      <td>False</td>\n",
       "      <td>13000</td>\n",
       "      <td>Sanzaru Games</td>\n",
       "      <td>Positive</td>\n",
       "      <td>57</td>\n",
       "    </tr>\n",
       "    <tr>\n",
       "      <th>131</th>\n",
       "      <td>Last Day of Work</td>\n",
       "      <td>[Casual, Simulation]</td>\n",
       "      <td>Virtual Villagers - The Secret City</td>\n",
       "      <td>Virtual Villagers - The Secret City</td>\n",
       "      <td>http://store.steampowered.com/app/16180/Virtua...</td>\n",
       "      <td>2008-05-28</td>\n",
       "      <td>[Casual, Simulation]</td>\n",
       "      <td>NaN</td>\n",
       "      <td>http://steamcommunity.com/app/16180/reviews/?b...</td>\n",
       "      <td>[Single-player]</td>\n",
       "      <td>9.99</td>\n",
       "      <td>False</td>\n",
       "      <td>16180</td>\n",
       "      <td>Last Day of Work</td>\n",
       "      <td>Positive</td>\n",
       "      <td>NaN</td>\n",
       "    </tr>\n",
       "    <tr>\n",
       "      <th>136</th>\n",
       "      <td>MumboJumbo</td>\n",
       "      <td>[Casual]</td>\n",
       "      <td>7 Wonders II</td>\n",
       "      <td>7 Wonders II</td>\n",
       "      <td>http://store.steampowered.com/app/15900/7_Wond...</td>\n",
       "      <td>2008-06-10</td>\n",
       "      <td>[Casual, Puzzle, Match 3, Singleplayer]</td>\n",
       "      <td>NaN</td>\n",
       "      <td>http://steamcommunity.com/app/15900/reviews/?b...</td>\n",
       "      <td>[Single-player]</td>\n",
       "      <td>9.99</td>\n",
       "      <td>False</td>\n",
       "      <td>15900</td>\n",
       "      <td>MumboJumbo</td>\n",
       "      <td>Positive</td>\n",
       "      <td>NaN</td>\n",
       "    </tr>\n",
       "    <tr>\n",
       "      <th>138</th>\n",
       "      <td>MumboJumbo</td>\n",
       "      <td>[Casual]</td>\n",
       "      <td>Luxor 3</td>\n",
       "      <td>Luxor 3</td>\n",
       "      <td>http://store.steampowered.com/app/15930/Luxor_3/</td>\n",
       "      <td>2007-11-13</td>\n",
       "      <td>[Casual, Puzzle]</td>\n",
       "      <td>NaN</td>\n",
       "      <td>http://steamcommunity.com/app/15930/reviews/?b...</td>\n",
       "      <td>[Single-player]</td>\n",
       "      <td>9.99</td>\n",
       "      <td>False</td>\n",
       "      <td>15930</td>\n",
       "      <td>MumboJumbo</td>\n",
       "      <td>Positive</td>\n",
       "      <td>NaN</td>\n",
       "    </tr>\n",
       "    <tr>\n",
       "      <th>...</th>\n",
       "      <td>...</td>\n",
       "      <td>...</td>\n",
       "      <td>...</td>\n",
       "      <td>...</td>\n",
       "      <td>...</td>\n",
       "      <td>...</td>\n",
       "      <td>...</td>\n",
       "      <td>...</td>\n",
       "      <td>...</td>\n",
       "      <td>...</td>\n",
       "      <td>...</td>\n",
       "      <td>...</td>\n",
       "      <td>...</td>\n",
       "      <td>...</td>\n",
       "      <td>...</td>\n",
       "      <td>...</td>\n",
       "    </tr>\n",
       "    <tr>\n",
       "      <th>32045</th>\n",
       "      <td>PopCap Games, Inc.</td>\n",
       "      <td>[Casual]</td>\n",
       "      <td>Hammer Heads Deluxe</td>\n",
       "      <td>Hammer Heads Deluxe</td>\n",
       "      <td>http://store.steampowered.com/app/3400/Hammer_...</td>\n",
       "      <td>2006-08-30</td>\n",
       "      <td>[Casual]</td>\n",
       "      <td>NaN</td>\n",
       "      <td>http://steamcommunity.com/app/3400/reviews/?br...</td>\n",
       "      <td>[Single-player]</td>\n",
       "      <td>4.99</td>\n",
       "      <td>False</td>\n",
       "      <td>3400</td>\n",
       "      <td>PopCap Games, Inc.</td>\n",
       "      <td>Positive</td>\n",
       "      <td>NaN</td>\n",
       "    </tr>\n",
       "    <tr>\n",
       "      <th>32046</th>\n",
       "      <td>PopCap Games, Inc.</td>\n",
       "      <td>[Casual]</td>\n",
       "      <td>AstroPop Deluxe</td>\n",
       "      <td>AstroPop Deluxe</td>\n",
       "      <td>http://store.steampowered.com/app/3340/AstroPo...</td>\n",
       "      <td>2006-08-30</td>\n",
       "      <td>[Casual, Puzzle]</td>\n",
       "      <td>NaN</td>\n",
       "      <td>http://steamcommunity.com/app/3340/reviews/?br...</td>\n",
       "      <td>[Single-player]</td>\n",
       "      <td>4.99</td>\n",
       "      <td>False</td>\n",
       "      <td>3340</td>\n",
       "      <td>PopCap Games, Inc.</td>\n",
       "      <td>Positive</td>\n",
       "      <td>NaN</td>\n",
       "    </tr>\n",
       "    <tr>\n",
       "      <th>32047</th>\n",
       "      <td>PopCap Games, Inc.</td>\n",
       "      <td>[Casual]</td>\n",
       "      <td>Big Money! Deluxe</td>\n",
       "      <td>Big Money! Deluxe</td>\n",
       "      <td>http://store.steampowered.com/app/3360/Big_Mon...</td>\n",
       "      <td>2006-08-30</td>\n",
       "      <td>[Casual]</td>\n",
       "      <td>NaN</td>\n",
       "      <td>http://steamcommunity.com/app/3360/reviews/?br...</td>\n",
       "      <td>[Single-player]</td>\n",
       "      <td>4.99</td>\n",
       "      <td>False</td>\n",
       "      <td>3360</td>\n",
       "      <td>PopCap Games, Inc.</td>\n",
       "      <td>Positive</td>\n",
       "      <td>NaN</td>\n",
       "    </tr>\n",
       "    <tr>\n",
       "      <th>32115</th>\n",
       "      <td>Spiderweb Software</td>\n",
       "      <td>[Strategy, RPG, Indie]</td>\n",
       "      <td>Geneforge 2</td>\n",
       "      <td>Geneforge 2</td>\n",
       "      <td>http://store.steampowered.com/app/200980/Genef...</td>\n",
       "      <td>2003-07-01</td>\n",
       "      <td>[RPG, Indie, Strategy, Turn-Based Combat, Isom...</td>\n",
       "      <td>NaN</td>\n",
       "      <td>http://steamcommunity.com/app/200980/reviews/?...</td>\n",
       "      <td>[Single-player]</td>\n",
       "      <td>19.99</td>\n",
       "      <td>False</td>\n",
       "      <td>200980</td>\n",
       "      <td>Spiderweb Software</td>\n",
       "      <td>Positive</td>\n",
       "      <td>NaN</td>\n",
       "    </tr>\n",
       "    <tr>\n",
       "      <th>32134</th>\n",
       "      <td>NaN</td>\n",
       "      <td>NaN</td>\n",
       "      <td>Maze Run VR</td>\n",
       "      <td>NaN</td>\n",
       "      <td>http://store.steampowered.com/app/681550/Maze_...</td>\n",
       "      <td>NaN</td>\n",
       "      <td>[Early Access, Adventure, Indie, Action, Simul...</td>\n",
       "      <td>NaN</td>\n",
       "      <td>http://steamcommunity.com/app/681550/reviews/?...</td>\n",
       "      <td>[Single-player, Stats, Steam Leaderboards, HTC...</td>\n",
       "      <td>4.99</td>\n",
       "      <td>True</td>\n",
       "      <td>681550</td>\n",
       "      <td>NaN</td>\n",
       "      <td>Positive</td>\n",
       "      <td>NaN</td>\n",
       "    </tr>\n",
       "  </tbody>\n",
       "</table>\n",
       "<p>3281 rows × 16 columns</p>\n",
       "</div>"
      ],
      "text/plain": [
       "                publisher                  genres  \\\n",
       "83         Telltale Games     [Action, Adventure]   \n",
       "125        Nunchuck Games         [Casual, Indie]   \n",
       "131      Last Day of Work    [Casual, Simulation]   \n",
       "136            MumboJumbo                [Casual]   \n",
       "138            MumboJumbo                [Casual]   \n",
       "...                   ...                     ...   \n",
       "32045  PopCap Games, Inc.                [Casual]   \n",
       "32046  PopCap Games, Inc.                [Casual]   \n",
       "32047  PopCap Games, Inc.                [Casual]   \n",
       "32115  Spiderweb Software  [Strategy, RPG, Indie]   \n",
       "32134                 NaN                     NaN   \n",
       "\n",
       "                                  app_name  \\\n",
       "83        Sam & Max 102: Situation: Comedy   \n",
       "125       Ninja Reflex: Steamworks Edition   \n",
       "131    Virtual Villagers - The Secret City   \n",
       "136                           7 Wonders II   \n",
       "138                                Luxor 3   \n",
       "...                                    ...   \n",
       "32045                  Hammer Heads Deluxe   \n",
       "32046                      AstroPop Deluxe   \n",
       "32047                    Big Money! Deluxe   \n",
       "32115                          Geneforge 2   \n",
       "32134                          Maze Run VR   \n",
       "\n",
       "                                      title  \\\n",
       "83     Sam &amp; Max 102: Situation: Comedy   \n",
       "125        Ninja Reflex: Steamworks Edition   \n",
       "131     Virtual Villagers - The Secret City   \n",
       "136                            7 Wonders II   \n",
       "138                                 Luxor 3   \n",
       "...                                     ...   \n",
       "32045                   Hammer Heads Deluxe   \n",
       "32046                       AstroPop Deluxe   \n",
       "32047                     Big Money! Deluxe   \n",
       "32115                           Geneforge 2   \n",
       "32134                                   NaN   \n",
       "\n",
       "                                                     url release_date  \\\n",
       "83     http://store.steampowered.com/app/8210/Sam__Ma...   2006-12-20   \n",
       "125    http://store.steampowered.com/app/13000/Ninja_...   2008-03-21   \n",
       "131    http://store.steampowered.com/app/16180/Virtua...   2008-05-28   \n",
       "136    http://store.steampowered.com/app/15900/7_Wond...   2008-06-10   \n",
       "138     http://store.steampowered.com/app/15930/Luxor_3/   2007-11-13   \n",
       "...                                                  ...          ...   \n",
       "32045  http://store.steampowered.com/app/3400/Hammer_...   2006-08-30   \n",
       "32046  http://store.steampowered.com/app/3340/AstroPo...   2006-08-30   \n",
       "32047  http://store.steampowered.com/app/3360/Big_Mon...   2006-08-30   \n",
       "32115  http://store.steampowered.com/app/200980/Genef...   2003-07-01   \n",
       "32134  http://store.steampowered.com/app/681550/Maze_...          NaN   \n",
       "\n",
       "                                                    tags  discount_price  \\\n",
       "83                                   [Adventure, Action]             NaN   \n",
       "125                               [Indie, Casual, Ninja]             NaN   \n",
       "131                                 [Casual, Simulation]             NaN   \n",
       "136              [Casual, Puzzle, Match 3, Singleplayer]             NaN   \n",
       "138                                     [Casual, Puzzle]             NaN   \n",
       "...                                                  ...             ...   \n",
       "32045                                           [Casual]             NaN   \n",
       "32046                                   [Casual, Puzzle]             NaN   \n",
       "32047                                           [Casual]             NaN   \n",
       "32115  [RPG, Indie, Strategy, Turn-Based Combat, Isom...             NaN   \n",
       "32134  [Early Access, Adventure, Indie, Action, Simul...             NaN   \n",
       "\n",
       "                                             reviews_url  \\\n",
       "83     http://steamcommunity.com/app/8210/reviews/?br...   \n",
       "125    http://steamcommunity.com/app/13000/reviews/?b...   \n",
       "131    http://steamcommunity.com/app/16180/reviews/?b...   \n",
       "136    http://steamcommunity.com/app/15900/reviews/?b...   \n",
       "138    http://steamcommunity.com/app/15930/reviews/?b...   \n",
       "...                                                  ...   \n",
       "32045  http://steamcommunity.com/app/3400/reviews/?br...   \n",
       "32046  http://steamcommunity.com/app/3340/reviews/?br...   \n",
       "32047  http://steamcommunity.com/app/3360/reviews/?br...   \n",
       "32115  http://steamcommunity.com/app/200980/reviews/?...   \n",
       "32134  http://steamcommunity.com/app/681550/reviews/?...   \n",
       "\n",
       "                                                   specs  price  early_access  \\\n",
       "83                                       [Single-player]  19.99         False   \n",
       "125    [Single-player, Multi-player, Steam Achievements]   4.99         False   \n",
       "131                                      [Single-player]   9.99         False   \n",
       "136                                      [Single-player]   9.99         False   \n",
       "138                                      [Single-player]   9.99         False   \n",
       "...                                                  ...    ...           ...   \n",
       "32045                                    [Single-player]   4.99         False   \n",
       "32046                                    [Single-player]   4.99         False   \n",
       "32047                                    [Single-player]   4.99         False   \n",
       "32115                                    [Single-player]  19.99         False   \n",
       "32134  [Single-player, Stats, Steam Leaderboards, HTC...   4.99          True   \n",
       "\n",
       "           id           developer sentiment metascore  \n",
       "83       8210      Telltale Games  Positive       NaN  \n",
       "125     13000       Sanzaru Games  Positive        57  \n",
       "131     16180    Last Day of Work  Positive       NaN  \n",
       "136     15900          MumboJumbo  Positive       NaN  \n",
       "138     15930          MumboJumbo  Positive       NaN  \n",
       "...       ...                 ...       ...       ...  \n",
       "32045    3400  PopCap Games, Inc.  Positive       NaN  \n",
       "32046    3340  PopCap Games, Inc.  Positive       NaN  \n",
       "32047    3360  PopCap Games, Inc.  Positive       NaN  \n",
       "32115  200980  Spiderweb Software  Positive       NaN  \n",
       "32134  681550                 NaN  Positive       NaN  \n",
       "\n",
       "[3281 rows x 16 columns]"
      ]
     },
     "execution_count": 277,
     "metadata": {},
     "output_type": "execute_result"
    }
   ],
   "source": [
    "data_games[data_games.sentiment==\"Positive\"]"
   ]
  },
  {
   "cell_type": "code",
   "execution_count": 278,
   "metadata": {
    "colab": {
     "base_uri": "https://localhost:8080/"
    },
    "executionInfo": {
     "elapsed": 410,
     "status": "ok",
     "timestamp": 1633081997061,
     "user": {
      "displayName": "Sebastian Campagnolo",
      "photoUrl": "https://lh3.googleusercontent.com/a-/AOh14Gg6pbROrzyday57jBRXk4J4eposq2tBYeW0Sr4=s64",
      "userId": "00251509339913289660"
     },
     "user_tz": -120
    },
    "id": "Zm53vMHVLxEO",
    "outputId": "39d57941-fd30-4066-ea58-f52f4c6e4f5c"
   },
   "outputs": [
    {
     "data": {
      "text/plain": [
       "publisher          8052\n",
       "genres             3283\n",
       "app_name              2\n",
       "title              2050\n",
       "url                   0\n",
       "release_date       2067\n",
       "tags                163\n",
       "discount_price    31910\n",
       "reviews_url           2\n",
       "specs               670\n",
       "price              1377\n",
       "early_access          0\n",
       "id                    2\n",
       "developer          3299\n",
       "sentiment          7182\n",
       "metascore         29458\n",
       "dtype: int64"
      ]
     },
     "execution_count": 278,
     "metadata": {},
     "output_type": "execute_result"
    }
   ],
   "source": [
    "data_games.isna().sum()"
   ]
  },
  {
   "cell_type": "markdown",
   "metadata": {
    "id": "qdGzFbWJLxEO"
   },
   "source": [
    "Revisamos los faltantes como porcentajes del dataset:"
   ]
  },
  {
   "cell_type": "code",
   "execution_count": 279,
   "metadata": {
    "colab": {
     "base_uri": "https://localhost:8080/"
    },
    "executionInfo": {
     "elapsed": 324,
     "status": "ok",
     "timestamp": 1633082092968,
     "user": {
      "displayName": "Sebastian Campagnolo",
      "photoUrl": "https://lh3.googleusercontent.com/a-/AOh14Gg6pbROrzyday57jBRXk4J4eposq2tBYeW0Sr4=s64",
      "userId": "00251509339913289660"
     },
     "user_tz": -120
    },
    "id": "k6xPJzPlLxEP",
    "outputId": "52672d82-f044-4e03-8225-3d0731642b2d"
   },
   "outputs": [
    {
     "data": {
      "text/plain": [
       "publisher         25.056792\n",
       "genres            10.216275\n",
       "app_name           0.006224\n",
       "title              6.379337\n",
       "url                0.000000\n",
       "release_date       6.432239\n",
       "tags               0.507235\n",
       "discount_price    99.299829\n",
       "reviews_url        0.006224\n",
       "specs              2.084954\n",
       "price              4.285047\n",
       "early_access       0.000000\n",
       "id                 0.006224\n",
       "developer         10.266065\n",
       "sentiment         22.349463\n",
       "metascore         91.669519\n",
       "dtype: float64"
      ]
     },
     "execution_count": 279,
     "metadata": {},
     "output_type": "execute_result"
    }
   ],
   "source": [
    "data_games.isna().sum() / data_games.shape[0]*100"
   ]
  },
  {
   "cell_type": "code",
   "execution_count": 280,
   "metadata": {
    "colab": {
     "base_uri": "https://localhost:8080/"
    },
    "executionInfo": {
     "elapsed": 449,
     "status": "ok",
     "timestamp": 1633082096688,
     "user": {
      "displayName": "Sebastian Campagnolo",
      "photoUrl": "https://lh3.googleusercontent.com/a-/AOh14Gg6pbROrzyday57jBRXk4J4eposq2tBYeW0Sr4=s64",
      "userId": "00251509339913289660"
     },
     "user_tz": -120
    },
    "id": "MhRV_HqGLxEP",
    "outputId": "4de69d04-c6d4-436b-a3d7-69c181457abf"
   },
   "outputs": [
    {
     "data": {
      "text/plain": [
       "Index(['publisher', 'genres', 'app_name', 'title', 'url', 'release_date',\n",
       "       'tags', 'discount_price', 'reviews_url', 'specs', 'price',\n",
       "       'early_access', 'id', 'developer', 'sentiment', 'metascore'],\n",
       "      dtype='object')"
      ]
     },
     "execution_count": 280,
     "metadata": {},
     "output_type": "execute_result"
    }
   ],
   "source": [
    "data_games.columns"
   ]
  },
  {
   "cell_type": "code",
   "execution_count": 281,
   "metadata": {
    "colab": {
     "base_uri": "https://localhost:8080/",
     "height": 297
    },
    "executionInfo": {
     "elapsed": 2682,
     "status": "ok",
     "timestamp": 1632909841525,
     "user": {
      "displayName": "Sebastian Campagnolo",
      "photoUrl": "https://lh3.googleusercontent.com/a-/AOh14Gg6pbROrzyday57jBRXk4J4eposq2tBYeW0Sr4=s64",
      "userId": "00251509339913289660"
     },
     "user_tz": -120
    },
    "id": "GyL_TlRSLxEP",
    "outputId": "08f06d04-bc9a-41eb-c979-0c3feba04d6b"
   },
   "outputs": [
    {
     "data": {
      "image/png": "[encoded data removed]",
      "text/plain": [
       "<Figure size 432x288 with 2 Axes>"
      ]
     },
     "metadata": {
      "needs_background": "light"
     },
     "output_type": "display_data"
    }
   ],
   "source": [
    "dat = data_games.isnull()\n",
    "heat = sns.heatmap(dat.T, cmap=\"YlGnBu\", xticklabels=False)\n",
    "plt.title(\"Datos faltantes dentro del Dataset\")\n",
    "plt.xlabel(\"Instancias dentro del dataset\")\n",
    "plt.ylabel(\"Elementos columna del dataset\")\n",
    "plt.tight_layout()"
   ]
  },
  {
   "cell_type": "markdown",
   "metadata": {
    "id": "PF94mhOGLxEP"
   },
   "source": [
    "En el caso del dataset de Juegos, considero irrelevantes las siguientes columnas:\n",
    "\n",
    "* *title*: contiene la misma información que la columna *app_name* pero con muchos datos faltantes\n",
    "* *url*: el link al juego en la tienda\n",
    "* *discount_price*: extremadamente populado con datos faltantes\n",
    "* *reviews_url*: el link a las reviews del juego en la tienda\n",
    "* *release_date*: fecha de lanzamiento del juego. No la tengo en cuenta en mi sistema de ponderación y tiene faltantes"
   ]
  },
  {
   "cell_type": "markdown",
   "metadata": {
    "id": "dzWfj4jzLxEP"
   },
   "source": [
    "Por otro lado, nuestro *Sistema de Recomendación* será basado en un *Filtro Colaborativo*. Esto significa que los ítems (juegos) serán recomendados según un índice de similitud o cercanía entre usuarios, y no según su categoría, etiquetas, editor, y demás características propias del juego. \n",
    "Dicho esto, puedo descartar las siguientes columnas:\n",
    "\n",
    "* *publisher*: editor del juego\n",
    "* *genres*: género\n",
    "* *tags*: etiquetas\n",
    "* *specs*: SP, MP, Masivo, etc.\n",
    "* *developer*: desarrollador"
   ]
  },
  {
   "cell_type": "markdown",
   "metadata": {
    "id": "3EYv9IrrLxEQ"
   },
   "source": [
    "La columna *metascore* podría ser altamente útil para ponderar un juego, ya que da un índice de 0 a 100 de su puntuación. Como se observa, el 91% de la información de esta columna es faltante, y ademas es extraída de un sitio externo a nuestra plataforma (www.metacritic.com ). "
   ]
  },
  {
   "cell_type": "code",
   "execution_count": 282,
   "metadata": {
    "id": "6wNaRdWQLxEQ"
   },
   "outputs": [],
   "source": [
    "data_games = data_games.drop([\"title\", \"url\", \"discount_price\", \"reviews_url\", \"release_date\", \"metascore\"], axis=1)"
   ]
  },
  {
   "cell_type": "code",
   "execution_count": 283,
   "metadata": {
    "id": "Knjjt7ELLxEQ"
   },
   "outputs": [],
   "source": [
    "data_games = data_games.drop([\"publisher\", \"genres\", \"tags\", \"specs\", \"developer\"], axis=1)"
   ]
  },
  {
   "cell_type": "code",
   "execution_count": 284,
   "metadata": {
    "colab": {
     "base_uri": "https://localhost:8080/",
     "height": 206
    },
    "executionInfo": {
     "elapsed": 425,
     "status": "ok",
     "timestamp": 1633161583400,
     "user": {
      "displayName": "Sebastian Campagnolo",
      "photoUrl": "https://lh3.googleusercontent.com/a-/AOh14Gg6pbROrzyday57jBRXk4J4eposq2tBYeW0Sr4=s64",
      "userId": "00251509339913289660"
     },
     "user_tz": -120
    },
    "id": "4sf8No4dLxEQ",
    "outputId": "88d124d5-b0fd-4097-e8db-1817138b8b12"
   },
   "outputs": [
    {
     "data": {
      "text/html": [
       "<div>\n",
       "<style scoped>\n",
       "    .dataframe tbody tr th:only-of-type {\n",
       "        vertical-align: middle;\n",
       "    }\n",
       "\n",
       "    .dataframe tbody tr th {\n",
       "        vertical-align: top;\n",
       "    }\n",
       "\n",
       "    .dataframe thead th {\n",
       "        text-align: right;\n",
       "    }\n",
       "</style>\n",
       "<table border=\"1\" class=\"dataframe\">\n",
       "  <thead>\n",
       "    <tr style=\"text-align: right;\">\n",
       "      <th></th>\n",
       "      <th>app_name</th>\n",
       "      <th>price</th>\n",
       "      <th>early_access</th>\n",
       "      <th>id</th>\n",
       "      <th>sentiment</th>\n",
       "    </tr>\n",
       "  </thead>\n",
       "  <tbody>\n",
       "    <tr>\n",
       "      <th>0</th>\n",
       "      <td>Lost Summoner Kitty</td>\n",
       "      <td>4.99</td>\n",
       "      <td>False</td>\n",
       "      <td>761140</td>\n",
       "      <td>NaN</td>\n",
       "    </tr>\n",
       "    <tr>\n",
       "      <th>1</th>\n",
       "      <td>Ironbound</td>\n",
       "      <td>Free To Play</td>\n",
       "      <td>False</td>\n",
       "      <td>643980</td>\n",
       "      <td>Mostly Positive</td>\n",
       "    </tr>\n",
       "    <tr>\n",
       "      <th>2</th>\n",
       "      <td>Real Pool 3D - Poolians</td>\n",
       "      <td>Free to Play</td>\n",
       "      <td>False</td>\n",
       "      <td>670290</td>\n",
       "      <td>Mostly Positive</td>\n",
       "    </tr>\n",
       "    <tr>\n",
       "      <th>3</th>\n",
       "      <td>弹炸人2222</td>\n",
       "      <td>0.99</td>\n",
       "      <td>False</td>\n",
       "      <td>767400</td>\n",
       "      <td>NaN</td>\n",
       "    </tr>\n",
       "    <tr>\n",
       "      <th>4</th>\n",
       "      <td>Log Challenge</td>\n",
       "      <td>2.99</td>\n",
       "      <td>False</td>\n",
       "      <td>773570</td>\n",
       "      <td>NaN</td>\n",
       "    </tr>\n",
       "  </tbody>\n",
       "</table>\n",
       "</div>"
      ],
      "text/plain": [
       "                  app_name         price  early_access      id  \\\n",
       "0      Lost Summoner Kitty          4.99         False  761140   \n",
       "1                Ironbound  Free To Play         False  643980   \n",
       "2  Real Pool 3D - Poolians  Free to Play         False  670290   \n",
       "3                  弹炸人2222          0.99         False  767400   \n",
       "4            Log Challenge          2.99         False  773570   \n",
       "\n",
       "         sentiment  \n",
       "0              NaN  \n",
       "1  Mostly Positive  \n",
       "2  Mostly Positive  \n",
       "3              NaN  \n",
       "4              NaN  "
      ]
     },
     "execution_count": 284,
     "metadata": {},
     "output_type": "execute_result"
    }
   ],
   "source": [
    "data_games.head()"
   ]
  },
  {
   "cell_type": "markdown",
   "metadata": {
    "id": "qfJ08Lb4LxEQ"
   },
   "source": [
    "Armo un array con los diferentes valores de *Sentiment* para luego normalizar dicha columna:"
   ]
  },
  {
   "cell_type": "code",
   "execution_count": 285,
   "metadata": {
    "id": "UMzTjNKBLxEQ"
   },
   "outputs": [],
   "source": [
    "array_sentiment = data_games.groupby('sentiment').count().reset_index()"
   ]
  },
  {
   "cell_type": "code",
   "execution_count": 286,
   "metadata": {
    "id": "pF5eNJxLLxER"
   },
   "outputs": [],
   "source": [
    "array_sentiment = array_sentiment[['sentiment', 'early_access']]\n",
    "array_sentiment.rename(columns={'early_access':'quantity'}, inplace=True)"
   ]
  },
  {
   "cell_type": "code",
   "execution_count": 287,
   "metadata": {
    "colab": {
     "base_uri": "https://localhost:8080/",
     "height": 607
    },
    "executionInfo": {
     "elapsed": 6,
     "status": "ok",
     "timestamp": 1633097598883,
     "user": {
      "displayName": "Sebastian Campagnolo",
      "photoUrl": "https://lh3.googleusercontent.com/a-/AOh14Gg6pbROrzyday57jBRXk4J4eposq2tBYeW0Sr4=s64",
      "userId": "00251509339913289660"
     },
     "user_tz": -120
    },
    "id": "4mKKuvWXLxER",
    "outputId": "3926d166-bc94-4103-8ba2-7c816455957a"
   },
   "outputs": [
    {
     "data": {
      "text/html": [
       "<div>\n",
       "<style scoped>\n",
       "    .dataframe tbody tr th:only-of-type {\n",
       "        vertical-align: middle;\n",
       "    }\n",
       "\n",
       "    .dataframe tbody tr th {\n",
       "        vertical-align: top;\n",
       "    }\n",
       "\n",
       "    .dataframe thead th {\n",
       "        text-align: right;\n",
       "    }\n",
       "</style>\n",
       "<table border=\"1\" class=\"dataframe\">\n",
       "  <thead>\n",
       "    <tr style=\"text-align: right;\">\n",
       "      <th></th>\n",
       "      <th>sentiment</th>\n",
       "      <th>quantity</th>\n",
       "    </tr>\n",
       "  </thead>\n",
       "  <tbody>\n",
       "    <tr>\n",
       "      <th>0</th>\n",
       "      <td>1 user reviews</td>\n",
       "      <td>2496</td>\n",
       "    </tr>\n",
       "    <tr>\n",
       "      <th>1</th>\n",
       "      <td>2 user reviews</td>\n",
       "      <td>1756</td>\n",
       "    </tr>\n",
       "    <tr>\n",
       "      <th>2</th>\n",
       "      <td>3 user reviews</td>\n",
       "      <td>1231</td>\n",
       "    </tr>\n",
       "    <tr>\n",
       "      <th>3</th>\n",
       "      <td>4 user reviews</td>\n",
       "      <td>964</td>\n",
       "    </tr>\n",
       "    <tr>\n",
       "      <th>4</th>\n",
       "      <td>5 user reviews</td>\n",
       "      <td>846</td>\n",
       "    </tr>\n",
       "    <tr>\n",
       "      <th>5</th>\n",
       "      <td>6 user reviews</td>\n",
       "      <td>756</td>\n",
       "    </tr>\n",
       "    <tr>\n",
       "      <th>6</th>\n",
       "      <td>7 user reviews</td>\n",
       "      <td>619</td>\n",
       "    </tr>\n",
       "    <tr>\n",
       "      <th>7</th>\n",
       "      <td>8 user reviews</td>\n",
       "      <td>537</td>\n",
       "    </tr>\n",
       "    <tr>\n",
       "      <th>8</th>\n",
       "      <td>9 user reviews</td>\n",
       "      <td>488</td>\n",
       "    </tr>\n",
       "    <tr>\n",
       "      <th>9</th>\n",
       "      <td>Mixed</td>\n",
       "      <td>4103</td>\n",
       "    </tr>\n",
       "    <tr>\n",
       "      <th>10</th>\n",
       "      <td>Mostly Negative</td>\n",
       "      <td>802</td>\n",
       "    </tr>\n",
       "    <tr>\n",
       "      <th>11</th>\n",
       "      <td>Mostly Positive</td>\n",
       "      <td>2744</td>\n",
       "    </tr>\n",
       "    <tr>\n",
       "      <th>12</th>\n",
       "      <td>Negative</td>\n",
       "      <td>123</td>\n",
       "    </tr>\n",
       "    <tr>\n",
       "      <th>13</th>\n",
       "      <td>Overwhelmingly Negative</td>\n",
       "      <td>7</td>\n",
       "    </tr>\n",
       "    <tr>\n",
       "      <th>14</th>\n",
       "      <td>Overwhelmingly Positive</td>\n",
       "      <td>303</td>\n",
       "    </tr>\n",
       "    <tr>\n",
       "      <th>15</th>\n",
       "      <td>Positive</td>\n",
       "      <td>3281</td>\n",
       "    </tr>\n",
       "    <tr>\n",
       "      <th>16</th>\n",
       "      <td>Very Negative</td>\n",
       "      <td>29</td>\n",
       "    </tr>\n",
       "    <tr>\n",
       "      <th>17</th>\n",
       "      <td>Very Positive</td>\n",
       "      <td>3868</td>\n",
       "    </tr>\n",
       "  </tbody>\n",
       "</table>\n",
       "</div>"
      ],
      "text/plain": [
       "                  sentiment  quantity\n",
       "0            1 user reviews      2496\n",
       "1            2 user reviews      1756\n",
       "2            3 user reviews      1231\n",
       "3            4 user reviews       964\n",
       "4            5 user reviews       846\n",
       "5            6 user reviews       756\n",
       "6            7 user reviews       619\n",
       "7            8 user reviews       537\n",
       "8            9 user reviews       488\n",
       "9                     Mixed      4103\n",
       "10          Mostly Negative       802\n",
       "11          Mostly Positive      2744\n",
       "12                 Negative       123\n",
       "13  Overwhelmingly Negative         7\n",
       "14  Overwhelmingly Positive       303\n",
       "15                 Positive      3281\n",
       "16            Very Negative        29\n",
       "17            Very Positive      3868"
      ]
     },
     "execution_count": 287,
     "metadata": {},
     "output_type": "execute_result"
    }
   ],
   "source": [
    "array_sentiment"
   ]
  },
  {
   "cell_type": "markdown",
   "metadata": {
    "id": "yhl2UBgILxER"
   },
   "source": [
    "Los primeros 9 elementos literalmente indican el número de usuarios que escribieron una review sobre ese juego. Creo una categoría nueva llamada *Unranked* para agrupar estos elementos, más aquellos juegos que tienen valor de *sentiment* nulo."
   ]
  },
  {
   "cell_type": "code",
   "execution_count": 288,
   "metadata": {
    "id": "I-MwmiiQLxER"
   },
   "outputs": [],
   "source": [
    "data_games.loc[(data_games.sentiment.isna()),[\"sentiment\"]] = \"Unranked\""
   ]
  },
  {
   "cell_type": "code",
   "execution_count": 289,
   "metadata": {
    "id": "huxe1IBkLxER"
   },
   "outputs": [],
   "source": [
    "data_games.loc[(data_games.sentiment.str.contains('user review')), [\"sentiment\"]] = \"Unranked\""
   ]
  },
  {
   "cell_type": "code",
   "execution_count": 290,
   "metadata": {
    "id": "2tT8mZb8LxES"
   },
   "outputs": [],
   "source": [
    "df_sentiment = data_games.groupby('sentiment').count().reset_index()"
   ]
  },
  {
   "cell_type": "code",
   "execution_count": 291,
   "metadata": {
    "id": "Qo2vCfn6LxES"
   },
   "outputs": [],
   "source": [
    "df_sentiment = df_sentiment[['sentiment', 'early_access']]\n",
    "df_sentiment.rename(columns={'early_access':'quantity'}, inplace=True)"
   ]
  },
  {
   "cell_type": "code",
   "execution_count": 292,
   "metadata": {
    "colab": {
     "base_uri": "https://localhost:8080/",
     "height": 363
    },
    "executionInfo": {
     "elapsed": 13,
     "status": "ok",
     "timestamp": 1633161610368,
     "user": {
      "displayName": "Sebastian Campagnolo",
      "photoUrl": "https://lh3.googleusercontent.com/a-/AOh14Gg6pbROrzyday57jBRXk4J4eposq2tBYeW0Sr4=s64",
      "userId": "00251509339913289660"
     },
     "user_tz": -120
    },
    "id": "nRkyrQsDLxES",
    "outputId": "6f11ee46-ec5f-4119-c2ce-99f849c8d76c"
   },
   "outputs": [
    {
     "data": {
      "text/html": [
       "<div>\n",
       "<style scoped>\n",
       "    .dataframe tbody tr th:only-of-type {\n",
       "        vertical-align: middle;\n",
       "    }\n",
       "\n",
       "    .dataframe tbody tr th {\n",
       "        vertical-align: top;\n",
       "    }\n",
       "\n",
       "    .dataframe thead th {\n",
       "        text-align: right;\n",
       "    }\n",
       "</style>\n",
       "<table border=\"1\" class=\"dataframe\">\n",
       "  <thead>\n",
       "    <tr style=\"text-align: right;\">\n",
       "      <th></th>\n",
       "      <th>sentiment</th>\n",
       "      <th>quantity</th>\n",
       "    </tr>\n",
       "  </thead>\n",
       "  <tbody>\n",
       "    <tr>\n",
       "      <th>0</th>\n",
       "      <td>Mixed</td>\n",
       "      <td>4103</td>\n",
       "    </tr>\n",
       "    <tr>\n",
       "      <th>1</th>\n",
       "      <td>Mostly Negative</td>\n",
       "      <td>802</td>\n",
       "    </tr>\n",
       "    <tr>\n",
       "      <th>2</th>\n",
       "      <td>Mostly Positive</td>\n",
       "      <td>2744</td>\n",
       "    </tr>\n",
       "    <tr>\n",
       "      <th>3</th>\n",
       "      <td>Negative</td>\n",
       "      <td>123</td>\n",
       "    </tr>\n",
       "    <tr>\n",
       "      <th>4</th>\n",
       "      <td>Overwhelmingly Negative</td>\n",
       "      <td>7</td>\n",
       "    </tr>\n",
       "    <tr>\n",
       "      <th>5</th>\n",
       "      <td>Overwhelmingly Positive</td>\n",
       "      <td>303</td>\n",
       "    </tr>\n",
       "    <tr>\n",
       "      <th>6</th>\n",
       "      <td>Positive</td>\n",
       "      <td>3281</td>\n",
       "    </tr>\n",
       "    <tr>\n",
       "      <th>7</th>\n",
       "      <td>Unranked</td>\n",
       "      <td>16875</td>\n",
       "    </tr>\n",
       "    <tr>\n",
       "      <th>8</th>\n",
       "      <td>Very Negative</td>\n",
       "      <td>29</td>\n",
       "    </tr>\n",
       "    <tr>\n",
       "      <th>9</th>\n",
       "      <td>Very Positive</td>\n",
       "      <td>3868</td>\n",
       "    </tr>\n",
       "  </tbody>\n",
       "</table>\n",
       "</div>"
      ],
      "text/plain": [
       "                 sentiment  quantity\n",
       "0                    Mixed      4103\n",
       "1          Mostly Negative       802\n",
       "2          Mostly Positive      2744\n",
       "3                 Negative       123\n",
       "4  Overwhelmingly Negative         7\n",
       "5  Overwhelmingly Positive       303\n",
       "6                 Positive      3281\n",
       "7                 Unranked     16875\n",
       "8            Very Negative        29\n",
       "9            Very Positive      3868"
      ]
     },
     "execution_count": 292,
     "metadata": {},
     "output_type": "execute_result"
    }
   ],
   "source": [
    "df_sentiment"
   ]
  },
  {
   "cell_type": "markdown",
   "metadata": {
    "id": "Klj-U9A8LxES"
   },
   "source": [
    "Agrego una columna numérica con pesos al Dataframe de *Sentiment*"
   ]
  },
  {
   "cell_type": "code",
   "execution_count": 293,
   "metadata": {
    "id": "YfN-18fHLxES"
   },
   "outputs": [],
   "source": [
    "df_sentiment.loc[:,\"weight\"] = \"\""
   ]
  },
  {
   "cell_type": "code",
   "execution_count": 294,
   "metadata": {
    "id": "sOyjq0OoLxES"
   },
   "outputs": [],
   "source": [
    "df_sentiment.loc[(df_sentiment.sentiment == \"Overwhelmingly Negative\"), [\"weight\"]] = 0\n",
    "df_sentiment.loc[(df_sentiment.sentiment == \"Very Negative\"), [\"weight\"]] = 0.5\n",
    "df_sentiment.loc[(df_sentiment.sentiment == \"Negative\"), [\"weight\"]] = 1\n",
    "df_sentiment.loc[(df_sentiment.sentiment == \"Mostly Negative\"), [\"weight\"]] = 1.5\n",
    "df_sentiment.loc[(df_sentiment.sentiment == \"Unranked\"), [\"weight\"]] = 2\n",
    "df_sentiment.loc[(df_sentiment.sentiment == \"Mixed\"), [\"weight\"]] = 2.5\n",
    "df_sentiment.loc[(df_sentiment.sentiment == \"Mostly Positive\"), [\"weight\"]] = 3.5\n",
    "df_sentiment.loc[(df_sentiment.sentiment == \"Positive\"), [\"weight\"]] = 4\n",
    "df_sentiment.loc[(df_sentiment.sentiment == \"Very Positive\"), [\"weight\"]] = 4.5\n",
    "df_sentiment.loc[(df_sentiment.sentiment == \"Overwhelmingly Positive\"), [\"weight\"]] = 5"
   ]
  },
  {
   "cell_type": "code",
   "execution_count": 295,
   "metadata": {
    "colab": {
     "base_uri": "https://localhost:8080/",
     "height": 363
    },
    "executionInfo": {
     "elapsed": 358,
     "status": "ok",
     "timestamp": 1633161632237,
     "user": {
      "displayName": "Sebastian Campagnolo",
      "photoUrl": "https://lh3.googleusercontent.com/a-/AOh14Gg6pbROrzyday57jBRXk4J4eposq2tBYeW0Sr4=s64",
      "userId": "00251509339913289660"
     },
     "user_tz": -120
    },
    "id": "yZVBJpQFLxET",
    "outputId": "1ad2b3e5-5bc2-40c9-bf22-1f432bb19899"
   },
   "outputs": [
    {
     "data": {
      "text/html": [
       "<div>\n",
       "<style scoped>\n",
       "    .dataframe tbody tr th:only-of-type {\n",
       "        vertical-align: middle;\n",
       "    }\n",
       "\n",
       "    .dataframe tbody tr th {\n",
       "        vertical-align: top;\n",
       "    }\n",
       "\n",
       "    .dataframe thead th {\n",
       "        text-align: right;\n",
       "    }\n",
       "</style>\n",
       "<table border=\"1\" class=\"dataframe\">\n",
       "  <thead>\n",
       "    <tr style=\"text-align: right;\">\n",
       "      <th></th>\n",
       "      <th>sentiment</th>\n",
       "      <th>quantity</th>\n",
       "      <th>weight</th>\n",
       "    </tr>\n",
       "  </thead>\n",
       "  <tbody>\n",
       "    <tr>\n",
       "      <th>0</th>\n",
       "      <td>Mixed</td>\n",
       "      <td>4103</td>\n",
       "      <td>2.5</td>\n",
       "    </tr>\n",
       "    <tr>\n",
       "      <th>1</th>\n",
       "      <td>Mostly Negative</td>\n",
       "      <td>802</td>\n",
       "      <td>1.5</td>\n",
       "    </tr>\n",
       "    <tr>\n",
       "      <th>2</th>\n",
       "      <td>Mostly Positive</td>\n",
       "      <td>2744</td>\n",
       "      <td>3.5</td>\n",
       "    </tr>\n",
       "    <tr>\n",
       "      <th>3</th>\n",
       "      <td>Negative</td>\n",
       "      <td>123</td>\n",
       "      <td>1</td>\n",
       "    </tr>\n",
       "    <tr>\n",
       "      <th>4</th>\n",
       "      <td>Overwhelmingly Negative</td>\n",
       "      <td>7</td>\n",
       "      <td>0</td>\n",
       "    </tr>\n",
       "    <tr>\n",
       "      <th>5</th>\n",
       "      <td>Overwhelmingly Positive</td>\n",
       "      <td>303</td>\n",
       "      <td>5</td>\n",
       "    </tr>\n",
       "    <tr>\n",
       "      <th>6</th>\n",
       "      <td>Positive</td>\n",
       "      <td>3281</td>\n",
       "      <td>4</td>\n",
       "    </tr>\n",
       "    <tr>\n",
       "      <th>7</th>\n",
       "      <td>Unranked</td>\n",
       "      <td>16875</td>\n",
       "      <td>2</td>\n",
       "    </tr>\n",
       "    <tr>\n",
       "      <th>8</th>\n",
       "      <td>Very Negative</td>\n",
       "      <td>29</td>\n",
       "      <td>0.5</td>\n",
       "    </tr>\n",
       "    <tr>\n",
       "      <th>9</th>\n",
       "      <td>Very Positive</td>\n",
       "      <td>3868</td>\n",
       "      <td>4.5</td>\n",
       "    </tr>\n",
       "  </tbody>\n",
       "</table>\n",
       "</div>"
      ],
      "text/plain": [
       "                 sentiment  quantity weight\n",
       "0                    Mixed      4103    2.5\n",
       "1          Mostly Negative       802    1.5\n",
       "2          Mostly Positive      2744    3.5\n",
       "3                 Negative       123      1\n",
       "4  Overwhelmingly Negative         7      0\n",
       "5  Overwhelmingly Positive       303      5\n",
       "6                 Positive      3281      4\n",
       "7                 Unranked     16875      2\n",
       "8            Very Negative        29    0.5\n",
       "9            Very Positive      3868    4.5"
      ]
     },
     "execution_count": 295,
     "metadata": {},
     "output_type": "execute_result"
    }
   ],
   "source": [
    "df_sentiment"
   ]
  },
  {
   "cell_type": "code",
   "execution_count": 296,
   "metadata": {
    "colab": {
     "base_uri": "https://localhost:8080/"
    },
    "executionInfo": {
     "elapsed": 611,
     "status": "ok",
     "timestamp": 1633161654874,
     "user": {
      "displayName": "Sebastian Campagnolo",
      "photoUrl": "https://lh3.googleusercontent.com/a-/AOh14Gg6pbROrzyday57jBRXk4J4eposq2tBYeW0Sr4=s64",
      "userId": "00251509339913289660"
     },
     "user_tz": -120
    },
    "id": "6qatAO8xBOp_",
    "outputId": "f3b15f63-6f81-459a-f02b-963dbf55436c"
   },
   "outputs": [
    {
     "data": {
      "text/plain": [
       "sentiment    object\n",
       "quantity      int64\n",
       "weight       object\n",
       "dtype: object"
      ]
     },
     "execution_count": 296,
     "metadata": {},
     "output_type": "execute_result"
    }
   ],
   "source": [
    "df_sentiment.dtypes"
   ]
  },
  {
   "cell_type": "code",
   "execution_count": 297,
   "metadata": {
    "id": "XULi9oLOBeWw"
   },
   "outputs": [],
   "source": [
    "#La columna weight se creó con tipo de dato Object. Lo convertimos a float para usarlo en cálculos futuros\n",
    "df_sentiment['weight'] = pd.to_numeric(df_sentiment['weight'], downcast=\"float\")"
   ]
  },
  {
   "cell_type": "markdown",
   "metadata": {
    "id": "CaJxNt3ZLxET"
   },
   "source": [
    "Vemos los nulos despues de la eliminación de las columnas:"
   ]
  },
  {
   "cell_type": "code",
   "execution_count": 298,
   "metadata": {
    "colab": {
     "base_uri": "https://localhost:8080/"
    },
    "executionInfo": {
     "elapsed": 515,
     "status": "ok",
     "timestamp": 1633161940650,
     "user": {
      "displayName": "Sebastian Campagnolo",
      "photoUrl": "https://lh3.googleusercontent.com/a-/AOh14Gg6pbROrzyday57jBRXk4J4eposq2tBYeW0Sr4=s64",
      "userId": "00251509339913289660"
     },
     "user_tz": -120
    },
    "id": "gqku6V4KLxET",
    "outputId": "8c5295b5-7b16-4c12-f209-b03359de2617"
   },
   "outputs": [
    {
     "data": {
      "text/plain": [
       "app_name        0.006224\n",
       "price           4.285047\n",
       "early_access    0.000000\n",
       "id              0.006224\n",
       "sentiment       0.000000\n",
       "dtype: float64"
      ]
     },
     "execution_count": 298,
     "metadata": {},
     "output_type": "execute_result"
    }
   ],
   "source": [
    "data_games.isna().sum() / data_games.shape[0]*100"
   ]
  },
  {
   "cell_type": "markdown",
   "metadata": {
    "id": "X725FnioLxET"
   },
   "source": [
    "Elimino las filas con *id* nulo, ya que no será posible recomendarlos:"
   ]
  },
  {
   "cell_type": "code",
   "execution_count": 299,
   "metadata": {
    "id": "3nG6rqgfLxET"
   },
   "outputs": [],
   "source": [
    "data_games = data_games[data_games.id.notna()]"
   ]
  },
  {
   "cell_type": "markdown",
   "metadata": {
    "id": "DAbWw4eqLxEU"
   },
   "source": [
    "Haciendo una exploración un poco más avanzada debido a un comportamiento extraño al momento de realizar un merge (o join) entre ambos datasets, descubrí que una fila en el dataset de *games* estaba duplicada en el campo *id*. Esto es un error que la fuente de datos no nos debería enviar."
   ]
  },
  {
   "cell_type": "code",
   "execution_count": 300,
   "metadata": {
    "id": "wRPJmz3mLxEU"
   },
   "outputs": [],
   "source": [
    "data_games_AUX = data_games.groupby('id').count().reset_index()"
   ]
  },
  {
   "cell_type": "code",
   "execution_count": 301,
   "metadata": {
    "colab": {
     "base_uri": "https://localhost:8080/",
     "height": 80
    },
    "executionInfo": {
     "elapsed": 10,
     "status": "ok",
     "timestamp": 1633102496796,
     "user": {
      "displayName": "Sebastian Campagnolo",
      "photoUrl": "https://lh3.googleusercontent.com/a-/AOh14Gg6pbROrzyday57jBRXk4J4eposq2tBYeW0Sr4=s64",
      "userId": "00251509339913289660"
     },
     "user_tz": -120
    },
    "id": "l836On7SLxEU",
    "outputId": "04fdb181-86e3-4866-afb3-498344e47243"
   },
   "outputs": [
    {
     "data": {
      "text/html": [
       "<div>\n",
       "<style scoped>\n",
       "    .dataframe tbody tr th:only-of-type {\n",
       "        vertical-align: middle;\n",
       "    }\n",
       "\n",
       "    .dataframe tbody tr th {\n",
       "        vertical-align: top;\n",
       "    }\n",
       "\n",
       "    .dataframe thead th {\n",
       "        text-align: right;\n",
       "    }\n",
       "</style>\n",
       "<table border=\"1\" class=\"dataframe\">\n",
       "  <thead>\n",
       "    <tr style=\"text-align: right;\">\n",
       "      <th></th>\n",
       "      <th>id</th>\n",
       "      <th>app_name</th>\n",
       "      <th>price</th>\n",
       "      <th>early_access</th>\n",
       "      <th>sentiment</th>\n",
       "    </tr>\n",
       "  </thead>\n",
       "  <tbody>\n",
       "    <tr>\n",
       "      <th>24604</th>\n",
       "      <td>612880</td>\n",
       "      <td>2</td>\n",
       "      <td>2</td>\n",
       "      <td>2</td>\n",
       "      <td>2</td>\n",
       "    </tr>\n",
       "  </tbody>\n",
       "</table>\n",
       "</div>"
      ],
      "text/plain": [
       "           id  app_name  price  early_access  sentiment\n",
       "24604  612880         2      2             2          2"
      ]
     },
     "execution_count": 301,
     "metadata": {},
     "output_type": "execute_result"
    }
   ],
   "source": [
    "data_games_AUX[data_games_AUX['price']>1]"
   ]
  },
  {
   "cell_type": "markdown",
   "metadata": {
    "id": "fOgHgX9QLxEU"
   },
   "source": [
    "Agrego la eliminación de dichos duplicados"
   ]
  },
  {
   "cell_type": "code",
   "execution_count": 302,
   "metadata": {
    "colab": {
     "base_uri": "https://localhost:8080/",
     "height": 423
    },
    "executionInfo": {
     "elapsed": 319,
     "status": "ok",
     "timestamp": 1633162006590,
     "user": {
      "displayName": "Sebastian Campagnolo",
      "photoUrl": "https://lh3.googleusercontent.com/a-/AOh14Gg6pbROrzyday57jBRXk4J4eposq2tBYeW0Sr4=s64",
      "userId": "00251509339913289660"
     },
     "user_tz": -120
    },
    "id": "5M79oqzDLxEU",
    "outputId": "32ee6b40-b89f-4e53-f68a-f609c724de1a"
   },
   "outputs": [
    {
     "data": {
      "text/html": [
       "<div>\n",
       "<style scoped>\n",
       "    .dataframe tbody tr th:only-of-type {\n",
       "        vertical-align: middle;\n",
       "    }\n",
       "\n",
       "    .dataframe tbody tr th {\n",
       "        vertical-align: top;\n",
       "    }\n",
       "\n",
       "    .dataframe thead th {\n",
       "        text-align: right;\n",
       "    }\n",
       "</style>\n",
       "<table border=\"1\" class=\"dataframe\">\n",
       "  <thead>\n",
       "    <tr style=\"text-align: right;\">\n",
       "      <th></th>\n",
       "      <th>app_name</th>\n",
       "      <th>price</th>\n",
       "      <th>early_access</th>\n",
       "      <th>id</th>\n",
       "      <th>sentiment</th>\n",
       "    </tr>\n",
       "  </thead>\n",
       "  <tbody>\n",
       "    <tr>\n",
       "      <th>0</th>\n",
       "      <td>Lost Summoner Kitty</td>\n",
       "      <td>4.99</td>\n",
       "      <td>False</td>\n",
       "      <td>761140</td>\n",
       "      <td>Unranked</td>\n",
       "    </tr>\n",
       "    <tr>\n",
       "      <th>1</th>\n",
       "      <td>Ironbound</td>\n",
       "      <td>Free To Play</td>\n",
       "      <td>False</td>\n",
       "      <td>643980</td>\n",
       "      <td>Mostly Positive</td>\n",
       "    </tr>\n",
       "    <tr>\n",
       "      <th>2</th>\n",
       "      <td>Real Pool 3D - Poolians</td>\n",
       "      <td>Free to Play</td>\n",
       "      <td>False</td>\n",
       "      <td>670290</td>\n",
       "      <td>Mostly Positive</td>\n",
       "    </tr>\n",
       "    <tr>\n",
       "      <th>3</th>\n",
       "      <td>弹炸人2222</td>\n",
       "      <td>0.99</td>\n",
       "      <td>False</td>\n",
       "      <td>767400</td>\n",
       "      <td>Unranked</td>\n",
       "    </tr>\n",
       "    <tr>\n",
       "      <th>4</th>\n",
       "      <td>Log Challenge</td>\n",
       "      <td>2.99</td>\n",
       "      <td>False</td>\n",
       "      <td>773570</td>\n",
       "      <td>Unranked</td>\n",
       "    </tr>\n",
       "    <tr>\n",
       "      <th>...</th>\n",
       "      <td>...</td>\n",
       "      <td>...</td>\n",
       "      <td>...</td>\n",
       "      <td>...</td>\n",
       "      <td>...</td>\n",
       "    </tr>\n",
       "    <tr>\n",
       "      <th>32130</th>\n",
       "      <td>Colony On Mars</td>\n",
       "      <td>1.99</td>\n",
       "      <td>False</td>\n",
       "      <td>773640</td>\n",
       "      <td>Unranked</td>\n",
       "    </tr>\n",
       "    <tr>\n",
       "      <th>32131</th>\n",
       "      <td>LOGistICAL: South Africa</td>\n",
       "      <td>4.99</td>\n",
       "      <td>False</td>\n",
       "      <td>733530</td>\n",
       "      <td>Unranked</td>\n",
       "    </tr>\n",
       "    <tr>\n",
       "      <th>32132</th>\n",
       "      <td>Russian Roads</td>\n",
       "      <td>1.99</td>\n",
       "      <td>False</td>\n",
       "      <td>610660</td>\n",
       "      <td>Unranked</td>\n",
       "    </tr>\n",
       "    <tr>\n",
       "      <th>32133</th>\n",
       "      <td>EXIT 2 - Directions</td>\n",
       "      <td>4.99</td>\n",
       "      <td>False</td>\n",
       "      <td>658870</td>\n",
       "      <td>Unranked</td>\n",
       "    </tr>\n",
       "    <tr>\n",
       "      <th>32134</th>\n",
       "      <td>Maze Run VR</td>\n",
       "      <td>4.99</td>\n",
       "      <td>True</td>\n",
       "      <td>681550</td>\n",
       "      <td>Positive</td>\n",
       "    </tr>\n",
       "  </tbody>\n",
       "</table>\n",
       "<p>32132 rows × 5 columns</p>\n",
       "</div>"
      ],
      "text/plain": [
       "                       app_name         price  early_access      id  \\\n",
       "0           Lost Summoner Kitty          4.99         False  761140   \n",
       "1                     Ironbound  Free To Play         False  643980   \n",
       "2       Real Pool 3D - Poolians  Free to Play         False  670290   \n",
       "3                       弹炸人2222          0.99         False  767400   \n",
       "4                 Log Challenge          2.99         False  773570   \n",
       "...                         ...           ...           ...     ...   \n",
       "32130            Colony On Mars          1.99         False  773640   \n",
       "32131  LOGistICAL: South Africa          4.99         False  733530   \n",
       "32132             Russian Roads          1.99         False  610660   \n",
       "32133       EXIT 2 - Directions          4.99         False  658870   \n",
       "32134               Maze Run VR          4.99          True  681550   \n",
       "\n",
       "             sentiment  \n",
       "0             Unranked  \n",
       "1      Mostly Positive  \n",
       "2      Mostly Positive  \n",
       "3             Unranked  \n",
       "4             Unranked  \n",
       "...                ...  \n",
       "32130         Unranked  \n",
       "32131         Unranked  \n",
       "32132         Unranked  \n",
       "32133         Unranked  \n",
       "32134         Positive  \n",
       "\n",
       "[32132 rows x 5 columns]"
      ]
     },
     "execution_count": 302,
     "metadata": {},
     "output_type": "execute_result"
    }
   ],
   "source": [
    "data_games.drop_duplicates(subset=['id'])"
   ]
  },
  {
   "cell_type": "code",
   "execution_count": null,
   "metadata": {
    "id": "-6vVhZ_zLxEU"
   },
   "outputs": [],
   "source": []
  },
  {
   "cell_type": "markdown",
   "metadata": {
    "id": "_DUrDnGSLxEV"
   },
   "source": [
    "### Preparo la información necesaria para poder obtener las calificaciones"
   ]
  },
  {
   "cell_type": "markdown",
   "metadata": {
    "id": "LMjVTmuNLxEV"
   },
   "source": [
    "#### Dataset de Reviews"
   ]
  },
  {
   "cell_type": "code",
   "execution_count": 303,
   "metadata": {
    "id": "GkO7TgdhLxEX"
   },
   "outputs": [],
   "source": [
    "# A partir del dataset de Reviews armo un dataframe con el acumulado de horas jugadas a cada juego \n",
    "total_played_hoursXgame = data_reviews.groupby(['product_id']).agg({'hours': ['sum']}).reset_index()\n",
    "total_played_hoursXgame.columns = ['product_id','sum_hours']"
   ]
  },
  {
   "cell_type": "code",
   "execution_count": 304,
   "metadata": {
    "colab": {
     "base_uri": "https://localhost:8080/"
    },
    "executionInfo": {
     "elapsed": 434,
     "status": "ok",
     "timestamp": 1633162118532,
     "user": {
      "displayName": "Sebastian Campagnolo",
      "photoUrl": "https://lh3.googleusercontent.com/a-/AOh14Gg6pbROrzyday57jBRXk4J4eposq2tBYeW0Sr4=s64",
      "userId": "00251509339913289660"
     },
     "user_tz": -120
    },
    "id": "Lzu6A4uPLxEX",
    "outputId": "dcf37be0-0cc9-47f3-a54b-1850248d836a"
   },
   "outputs": [
    {
     "data": {
      "text/plain": [
       "(12617, 2)"
      ]
     },
     "execution_count": 304,
     "metadata": {},
     "output_type": "execute_result"
    }
   ],
   "source": [
    "total_played_hoursXgame.shape"
   ]
  },
  {
   "cell_type": "code",
   "execution_count": 305,
   "metadata": {
    "colab": {
     "base_uri": "https://localhost:8080/",
     "height": 206
    },
    "executionInfo": {
     "elapsed": 329,
     "status": "ok",
     "timestamp": 1633162121356,
     "user": {
      "displayName": "Sebastian Campagnolo",
      "photoUrl": "https://lh3.googleusercontent.com/a-/AOh14Gg6pbROrzyday57jBRXk4J4eposq2tBYeW0Sr4=s64",
      "userId": "00251509339913289660"
     },
     "user_tz": -120
    },
    "id": "FoMaeww8LxEY",
    "outputId": "7ef4342a-ec8b-4197-b2ff-ac4706847c15"
   },
   "outputs": [
    {
     "data": {
      "text/html": [
       "<div>\n",
       "<style scoped>\n",
       "    .dataframe tbody tr th:only-of-type {\n",
       "        vertical-align: middle;\n",
       "    }\n",
       "\n",
       "    .dataframe tbody tr th {\n",
       "        vertical-align: top;\n",
       "    }\n",
       "\n",
       "    .dataframe thead th {\n",
       "        text-align: right;\n",
       "    }\n",
       "</style>\n",
       "<table border=\"1\" class=\"dataframe\">\n",
       "  <thead>\n",
       "    <tr style=\"text-align: right;\">\n",
       "      <th></th>\n",
       "      <th>product_id</th>\n",
       "      <th>sum_hours</th>\n",
       "    </tr>\n",
       "  </thead>\n",
       "  <tbody>\n",
       "    <tr>\n",
       "      <th>0</th>\n",
       "      <td>10</td>\n",
       "      <td>8904.1</td>\n",
       "    </tr>\n",
       "    <tr>\n",
       "      <th>1</th>\n",
       "      <td>1002</td>\n",
       "      <td>2.8</td>\n",
       "    </tr>\n",
       "    <tr>\n",
       "      <th>2</th>\n",
       "      <td>100400</td>\n",
       "      <td>306.5</td>\n",
       "    </tr>\n",
       "    <tr>\n",
       "      <th>3</th>\n",
       "      <td>10090</td>\n",
       "      <td>23984.5</td>\n",
       "    </tr>\n",
       "    <tr>\n",
       "      <th>4</th>\n",
       "      <td>100980</td>\n",
       "      <td>358.1</td>\n",
       "    </tr>\n",
       "  </tbody>\n",
       "</table>\n",
       "</div>"
      ],
      "text/plain": [
       "  product_id  sum_hours\n",
       "0         10     8904.1\n",
       "1       1002        2.8\n",
       "2     100400      306.5\n",
       "3      10090    23984.5\n",
       "4     100980      358.1"
      ]
     },
     "execution_count": 305,
     "metadata": {},
     "output_type": "execute_result"
    }
   ],
   "source": [
    "total_played_hoursXgame.head()"
   ]
  },
  {
   "cell_type": "markdown",
   "metadata": {
    "id": "J9HBCNHVLxEY"
   },
   "source": [
    "#### Dataset de Games"
   ]
  },
  {
   "cell_type": "markdown",
   "metadata": {
    "id": "mBb5oZsZLxEY"
   },
   "source": [
    "Genero una nueva columna para codificar la variable precio, y elimino la columna original que contendrá valores nulos. Los juegos cuyo precio sea nulo son considerados como no gratuitos"
   ]
  },
  {
   "cell_type": "code",
   "execution_count": 306,
   "metadata": {
    "id": "wjvUEuGsLxEY"
   },
   "outputs": [],
   "source": [
    "#data_games.loc[:,\"price_free\"] = \"\"\n",
    "data_games.loc[:,'price_free'] = np.where(data_games['price'] == 'Free to Play', np.int8(1), np.int8(5))\n",
    "data_games = data_games.drop(['price'], axis=1)"
   ]
  },
  {
   "cell_type": "markdown",
   "metadata": {
    "id": "n10VIowaLxEZ"
   },
   "source": [
    "Agrego al dataframe de juegos (*data_games*) la columna *sentiment* codificada, y elimino la original"
   ]
  },
  {
   "cell_type": "code",
   "execution_count": 307,
   "metadata": {
    "id": "TP_nqLkPLxEZ"
   },
   "outputs": [],
   "source": [
    "data_games = data_games.join(df_sentiment.set_index('sentiment')['weight'], on='sentiment', how='left')\n",
    "data_games.rename(columns={'weight':'enc_sentiment'}, inplace=True)\n",
    "data_games = data_games.drop(['sentiment'], axis=1)"
   ]
  },
  {
   "cell_type": "code",
   "execution_count": 308,
   "metadata": {
    "colab": {
     "base_uri": "https://localhost:8080/"
    },
    "executionInfo": {
     "elapsed": 406,
     "status": "ok",
     "timestamp": 1633162330027,
     "user": {
      "displayName": "Sebastian Campagnolo",
      "photoUrl": "https://lh3.googleusercontent.com/a-/AOh14Gg6pbROrzyday57jBRXk4J4eposq2tBYeW0Sr4=s64",
      "userId": "00251509339913289660"
     },
     "user_tz": -120
    },
    "id": "TFzKCOcoLxEZ",
    "outputId": "f44915b2-ddcb-4786-dd1f-1da7221145a4"
   },
   "outputs": [
    {
     "data": {
      "text/plain": [
       "(32133, 5)"
      ]
     },
     "execution_count": 308,
     "metadata": {},
     "output_type": "execute_result"
    }
   ],
   "source": [
    "data_games.shape"
   ]
  },
  {
   "cell_type": "code",
   "execution_count": 309,
   "metadata": {
    "colab": {
     "base_uri": "https://localhost:8080/",
     "height": 423
    },
    "executionInfo": {
     "elapsed": 391,
     "status": "ok",
     "timestamp": 1633162337811,
     "user": {
      "displayName": "Sebastian Campagnolo",
      "photoUrl": "https://lh3.googleusercontent.com/a-/AOh14Gg6pbROrzyday57jBRXk4J4eposq2tBYeW0Sr4=s64",
      "userId": "00251509339913289660"
     },
     "user_tz": -120
    },
    "id": "R9x7ezt_LxEZ",
    "outputId": "290be6cd-5c28-4938-8a08-97cdea6fe0f8"
   },
   "outputs": [
    {
     "data": {
      "text/html": [
       "<div>\n",
       "<style scoped>\n",
       "    .dataframe tbody tr th:only-of-type {\n",
       "        vertical-align: middle;\n",
       "    }\n",
       "\n",
       "    .dataframe tbody tr th {\n",
       "        vertical-align: top;\n",
       "    }\n",
       "\n",
       "    .dataframe thead th {\n",
       "        text-align: right;\n",
       "    }\n",
       "</style>\n",
       "<table border=\"1\" class=\"dataframe\">\n",
       "  <thead>\n",
       "    <tr style=\"text-align: right;\">\n",
       "      <th></th>\n",
       "      <th>app_name</th>\n",
       "      <th>early_access</th>\n",
       "      <th>id</th>\n",
       "      <th>price_free</th>\n",
       "      <th>enc_sentiment</th>\n",
       "    </tr>\n",
       "  </thead>\n",
       "  <tbody>\n",
       "    <tr>\n",
       "      <th>0</th>\n",
       "      <td>Lost Summoner Kitty</td>\n",
       "      <td>False</td>\n",
       "      <td>761140</td>\n",
       "      <td>5</td>\n",
       "      <td>2.0</td>\n",
       "    </tr>\n",
       "    <tr>\n",
       "      <th>1</th>\n",
       "      <td>Ironbound</td>\n",
       "      <td>False</td>\n",
       "      <td>643980</td>\n",
       "      <td>5</td>\n",
       "      <td>3.5</td>\n",
       "    </tr>\n",
       "    <tr>\n",
       "      <th>2</th>\n",
       "      <td>Real Pool 3D - Poolians</td>\n",
       "      <td>False</td>\n",
       "      <td>670290</td>\n",
       "      <td>1</td>\n",
       "      <td>3.5</td>\n",
       "    </tr>\n",
       "    <tr>\n",
       "      <th>3</th>\n",
       "      <td>弹炸人2222</td>\n",
       "      <td>False</td>\n",
       "      <td>767400</td>\n",
       "      <td>5</td>\n",
       "      <td>2.0</td>\n",
       "    </tr>\n",
       "    <tr>\n",
       "      <th>4</th>\n",
       "      <td>Log Challenge</td>\n",
       "      <td>False</td>\n",
       "      <td>773570</td>\n",
       "      <td>5</td>\n",
       "      <td>2.0</td>\n",
       "    </tr>\n",
       "    <tr>\n",
       "      <th>...</th>\n",
       "      <td>...</td>\n",
       "      <td>...</td>\n",
       "      <td>...</td>\n",
       "      <td>...</td>\n",
       "      <td>...</td>\n",
       "    </tr>\n",
       "    <tr>\n",
       "      <th>32130</th>\n",
       "      <td>Colony On Mars</td>\n",
       "      <td>False</td>\n",
       "      <td>773640</td>\n",
       "      <td>5</td>\n",
       "      <td>2.0</td>\n",
       "    </tr>\n",
       "    <tr>\n",
       "      <th>32131</th>\n",
       "      <td>LOGistICAL: South Africa</td>\n",
       "      <td>False</td>\n",
       "      <td>733530</td>\n",
       "      <td>5</td>\n",
       "      <td>2.0</td>\n",
       "    </tr>\n",
       "    <tr>\n",
       "      <th>32132</th>\n",
       "      <td>Russian Roads</td>\n",
       "      <td>False</td>\n",
       "      <td>610660</td>\n",
       "      <td>5</td>\n",
       "      <td>2.0</td>\n",
       "    </tr>\n",
       "    <tr>\n",
       "      <th>32133</th>\n",
       "      <td>EXIT 2 - Directions</td>\n",
       "      <td>False</td>\n",
       "      <td>658870</td>\n",
       "      <td>5</td>\n",
       "      <td>2.0</td>\n",
       "    </tr>\n",
       "    <tr>\n",
       "      <th>32134</th>\n",
       "      <td>Maze Run VR</td>\n",
       "      <td>True</td>\n",
       "      <td>681550</td>\n",
       "      <td>5</td>\n",
       "      <td>4.0</td>\n",
       "    </tr>\n",
       "  </tbody>\n",
       "</table>\n",
       "<p>32133 rows × 5 columns</p>\n",
       "</div>"
      ],
      "text/plain": [
       "                       app_name  early_access      id  price_free  \\\n",
       "0           Lost Summoner Kitty         False  761140           5   \n",
       "1                     Ironbound         False  643980           5   \n",
       "2       Real Pool 3D - Poolians         False  670290           1   \n",
       "3                       弹炸人2222         False  767400           5   \n",
       "4                 Log Challenge         False  773570           5   \n",
       "...                         ...           ...     ...         ...   \n",
       "32130            Colony On Mars         False  773640           5   \n",
       "32131  LOGistICAL: South Africa         False  733530           5   \n",
       "32132             Russian Roads         False  610660           5   \n",
       "32133       EXIT 2 - Directions         False  658870           5   \n",
       "32134               Maze Run VR          True  681550           5   \n",
       "\n",
       "       enc_sentiment  \n",
       "0                2.0  \n",
       "1                3.5  \n",
       "2                3.5  \n",
       "3                2.0  \n",
       "4                2.0  \n",
       "...              ...  \n",
       "32130            2.0  \n",
       "32131            2.0  \n",
       "32132            2.0  \n",
       "32133            2.0  \n",
       "32134            4.0  \n",
       "\n",
       "[32133 rows x 5 columns]"
      ]
     },
     "execution_count": 309,
     "metadata": {},
     "output_type": "execute_result"
    }
   ],
   "source": [
    "data_games"
   ]
  },
  {
   "cell_type": "markdown",
   "metadata": {
    "id": "4IHgWRwdLxEa"
   },
   "source": [
    "Obtengo y agrego al dataframe de juegos (data_games) la cantidad de horas totales jugadas a cada uno"
   ]
  },
  {
   "cell_type": "code",
   "execution_count": 310,
   "metadata": {
    "id": "ajAgXrQoLxEa"
   },
   "outputs": [],
   "source": [
    "data_games = pd.merge(data_games, total_played_hoursXgame, left_on='id', right_on='product_id', how='left')"
   ]
  },
  {
   "cell_type": "code",
   "execution_count": 311,
   "metadata": {
    "id": "KF9juS0vLxEa"
   },
   "outputs": [],
   "source": [
    "data_games = data_games.drop(['product_id'], axis=1)"
   ]
  },
  {
   "cell_type": "code",
   "execution_count": 312,
   "metadata": {
    "colab": {
     "base_uri": "https://localhost:8080/",
     "height": 423
    },
    "executionInfo": {
     "elapsed": 322,
     "status": "ok",
     "timestamp": 1633162380247,
     "user": {
      "displayName": "Sebastian Campagnolo",
      "photoUrl": "https://lh3.googleusercontent.com/a-/AOh14Gg6pbROrzyday57jBRXk4J4eposq2tBYeW0Sr4=s64",
      "userId": "00251509339913289660"
     },
     "user_tz": -120
    },
    "id": "V05GsOlpLxEa",
    "outputId": "49cb8b34-370f-46c8-db09-713d858bcf3f"
   },
   "outputs": [
    {
     "data": {
      "text/html": [
       "<div>\n",
       "<style scoped>\n",
       "    .dataframe tbody tr th:only-of-type {\n",
       "        vertical-align: middle;\n",
       "    }\n",
       "\n",
       "    .dataframe tbody tr th {\n",
       "        vertical-align: top;\n",
       "    }\n",
       "\n",
       "    .dataframe thead th {\n",
       "        text-align: right;\n",
       "    }\n",
       "</style>\n",
       "<table border=\"1\" class=\"dataframe\">\n",
       "  <thead>\n",
       "    <tr style=\"text-align: right;\">\n",
       "      <th></th>\n",
       "      <th>app_name</th>\n",
       "      <th>early_access</th>\n",
       "      <th>id</th>\n",
       "      <th>price_free</th>\n",
       "      <th>enc_sentiment</th>\n",
       "      <th>sum_hours</th>\n",
       "    </tr>\n",
       "  </thead>\n",
       "  <tbody>\n",
       "    <tr>\n",
       "      <th>0</th>\n",
       "      <td>Lost Summoner Kitty</td>\n",
       "      <td>False</td>\n",
       "      <td>761140</td>\n",
       "      <td>5</td>\n",
       "      <td>2.0</td>\n",
       "      <td>NaN</td>\n",
       "    </tr>\n",
       "    <tr>\n",
       "      <th>1</th>\n",
       "      <td>Ironbound</td>\n",
       "      <td>False</td>\n",
       "      <td>643980</td>\n",
       "      <td>5</td>\n",
       "      <td>3.5</td>\n",
       "      <td>420.3</td>\n",
       "    </tr>\n",
       "    <tr>\n",
       "      <th>2</th>\n",
       "      <td>Real Pool 3D - Poolians</td>\n",
       "      <td>False</td>\n",
       "      <td>670290</td>\n",
       "      <td>1</td>\n",
       "      <td>3.5</td>\n",
       "      <td>1.2</td>\n",
       "    </tr>\n",
       "    <tr>\n",
       "      <th>3</th>\n",
       "      <td>弹炸人2222</td>\n",
       "      <td>False</td>\n",
       "      <td>767400</td>\n",
       "      <td>5</td>\n",
       "      <td>2.0</td>\n",
       "      <td>NaN</td>\n",
       "    </tr>\n",
       "    <tr>\n",
       "      <th>4</th>\n",
       "      <td>Log Challenge</td>\n",
       "      <td>False</td>\n",
       "      <td>773570</td>\n",
       "      <td>5</td>\n",
       "      <td>2.0</td>\n",
       "      <td>NaN</td>\n",
       "    </tr>\n",
       "    <tr>\n",
       "      <th>...</th>\n",
       "      <td>...</td>\n",
       "      <td>...</td>\n",
       "      <td>...</td>\n",
       "      <td>...</td>\n",
       "      <td>...</td>\n",
       "      <td>...</td>\n",
       "    </tr>\n",
       "    <tr>\n",
       "      <th>32128</th>\n",
       "      <td>Colony On Mars</td>\n",
       "      <td>False</td>\n",
       "      <td>773640</td>\n",
       "      <td>5</td>\n",
       "      <td>2.0</td>\n",
       "      <td>NaN</td>\n",
       "    </tr>\n",
       "    <tr>\n",
       "      <th>32129</th>\n",
       "      <td>LOGistICAL: South Africa</td>\n",
       "      <td>False</td>\n",
       "      <td>733530</td>\n",
       "      <td>5</td>\n",
       "      <td>2.0</td>\n",
       "      <td>NaN</td>\n",
       "    </tr>\n",
       "    <tr>\n",
       "      <th>32130</th>\n",
       "      <td>Russian Roads</td>\n",
       "      <td>False</td>\n",
       "      <td>610660</td>\n",
       "      <td>5</td>\n",
       "      <td>2.0</td>\n",
       "      <td>NaN</td>\n",
       "    </tr>\n",
       "    <tr>\n",
       "      <th>32131</th>\n",
       "      <td>EXIT 2 - Directions</td>\n",
       "      <td>False</td>\n",
       "      <td>658870</td>\n",
       "      <td>5</td>\n",
       "      <td>2.0</td>\n",
       "      <td>NaN</td>\n",
       "    </tr>\n",
       "    <tr>\n",
       "      <th>32132</th>\n",
       "      <td>Maze Run VR</td>\n",
       "      <td>True</td>\n",
       "      <td>681550</td>\n",
       "      <td>5</td>\n",
       "      <td>4.0</td>\n",
       "      <td>NaN</td>\n",
       "    </tr>\n",
       "  </tbody>\n",
       "</table>\n",
       "<p>32133 rows × 6 columns</p>\n",
       "</div>"
      ],
      "text/plain": [
       "                       app_name  early_access      id  price_free  \\\n",
       "0           Lost Summoner Kitty         False  761140           5   \n",
       "1                     Ironbound         False  643980           5   \n",
       "2       Real Pool 3D - Poolians         False  670290           1   \n",
       "3                       弹炸人2222         False  767400           5   \n",
       "4                 Log Challenge         False  773570           5   \n",
       "...                         ...           ...     ...         ...   \n",
       "32128            Colony On Mars         False  773640           5   \n",
       "32129  LOGistICAL: South Africa         False  733530           5   \n",
       "32130             Russian Roads         False  610660           5   \n",
       "32131       EXIT 2 - Directions         False  658870           5   \n",
       "32132               Maze Run VR          True  681550           5   \n",
       "\n",
       "       enc_sentiment  sum_hours  \n",
       "0                2.0        NaN  \n",
       "1                3.5      420.3  \n",
       "2                3.5        1.2  \n",
       "3                2.0        NaN  \n",
       "4                2.0        NaN  \n",
       "...              ...        ...  \n",
       "32128            2.0        NaN  \n",
       "32129            2.0        NaN  \n",
       "32130            2.0        NaN  \n",
       "32131            2.0        NaN  \n",
       "32132            4.0        NaN  \n",
       "\n",
       "[32133 rows x 6 columns]"
      ]
     },
     "execution_count": 312,
     "metadata": {},
     "output_type": "execute_result"
    }
   ],
   "source": [
    "data_games"
   ]
  },
  {
   "cell_type": "code",
   "execution_count": 313,
   "metadata": {
    "colab": {
     "base_uri": "https://localhost:8080/"
    },
    "executionInfo": {
     "elapsed": 492,
     "status": "ok",
     "timestamp": 1633162389543,
     "user": {
      "displayName": "Sebastian Campagnolo",
      "photoUrl": "https://lh3.googleusercontent.com/a-/AOh14Gg6pbROrzyday57jBRXk4J4eposq2tBYeW0Sr4=s64",
      "userId": "00251509339913289660"
     },
     "user_tz": -120
    },
    "id": "yjFzHWGG-Fmx",
    "outputId": "545ae96a-8452-449e-885a-4b800d495426"
   },
   "outputs": [
    {
     "data": {
      "text/plain": [
       "app_name          object\n",
       "early_access        bool\n",
       "id                object\n",
       "price_free          int8\n",
       "enc_sentiment    float32\n",
       "sum_hours        float64\n",
       "dtype: object"
      ]
     },
     "execution_count": 313,
     "metadata": {},
     "output_type": "execute_result"
    }
   ],
   "source": [
    "data_games.dtypes"
   ]
  },
  {
   "cell_type": "markdown",
   "metadata": {
    "id": "oXlXe1pRLxEa"
   },
   "source": [
    "Los valores NaN en la columna *sum_hours* indican que dicho juego no tiene reviews, y por lo tanto no tiene cantidad de horas jugadas. Dicho esto, reemplazo los NaN por 0"
   ]
  },
  {
   "cell_type": "code",
   "execution_count": 314,
   "metadata": {
    "id": "FfdC00hkLxEb"
   },
   "outputs": [],
   "source": [
    "data_games['sum_hours'] = np.where(data_games['sum_hours'].isna(), 0, data_games['sum_hours'])"
   ]
  },
  {
   "cell_type": "code",
   "execution_count": 315,
   "metadata": {
    "colab": {
     "base_uri": "https://localhost:8080/",
     "height": 423
    },
    "executionInfo": {
     "elapsed": 457,
     "status": "ok",
     "timestamp": 1633162401194,
     "user": {
      "displayName": "Sebastian Campagnolo",
      "photoUrl": "https://lh3.googleusercontent.com/a-/AOh14Gg6pbROrzyday57jBRXk4J4eposq2tBYeW0Sr4=s64",
      "userId": "00251509339913289660"
     },
     "user_tz": -120
    },
    "id": "2WuDJNznLxEb",
    "outputId": "114c0405-29fc-4216-a86b-2f08cf05ae51"
   },
   "outputs": [
    {
     "data": {
      "text/html": [
       "<div>\n",
       "<style scoped>\n",
       "    .dataframe tbody tr th:only-of-type {\n",
       "        vertical-align: middle;\n",
       "    }\n",
       "\n",
       "    .dataframe tbody tr th {\n",
       "        vertical-align: top;\n",
       "    }\n",
       "\n",
       "    .dataframe thead th {\n",
       "        text-align: right;\n",
       "    }\n",
       "</style>\n",
       "<table border=\"1\" class=\"dataframe\">\n",
       "  <thead>\n",
       "    <tr style=\"text-align: right;\">\n",
       "      <th></th>\n",
       "      <th>app_name</th>\n",
       "      <th>early_access</th>\n",
       "      <th>id</th>\n",
       "      <th>price_free</th>\n",
       "      <th>enc_sentiment</th>\n",
       "      <th>sum_hours</th>\n",
       "    </tr>\n",
       "  </thead>\n",
       "  <tbody>\n",
       "    <tr>\n",
       "      <th>0</th>\n",
       "      <td>Lost Summoner Kitty</td>\n",
       "      <td>False</td>\n",
       "      <td>761140</td>\n",
       "      <td>5</td>\n",
       "      <td>2.0</td>\n",
       "      <td>0.0</td>\n",
       "    </tr>\n",
       "    <tr>\n",
       "      <th>1</th>\n",
       "      <td>Ironbound</td>\n",
       "      <td>False</td>\n",
       "      <td>643980</td>\n",
       "      <td>5</td>\n",
       "      <td>3.5</td>\n",
       "      <td>420.3</td>\n",
       "    </tr>\n",
       "    <tr>\n",
       "      <th>2</th>\n",
       "      <td>Real Pool 3D - Poolians</td>\n",
       "      <td>False</td>\n",
       "      <td>670290</td>\n",
       "      <td>1</td>\n",
       "      <td>3.5</td>\n",
       "      <td>1.2</td>\n",
       "    </tr>\n",
       "    <tr>\n",
       "      <th>3</th>\n",
       "      <td>弹炸人2222</td>\n",
       "      <td>False</td>\n",
       "      <td>767400</td>\n",
       "      <td>5</td>\n",
       "      <td>2.0</td>\n",
       "      <td>0.0</td>\n",
       "    </tr>\n",
       "    <tr>\n",
       "      <th>4</th>\n",
       "      <td>Log Challenge</td>\n",
       "      <td>False</td>\n",
       "      <td>773570</td>\n",
       "      <td>5</td>\n",
       "      <td>2.0</td>\n",
       "      <td>0.0</td>\n",
       "    </tr>\n",
       "    <tr>\n",
       "      <th>...</th>\n",
       "      <td>...</td>\n",
       "      <td>...</td>\n",
       "      <td>...</td>\n",
       "      <td>...</td>\n",
       "      <td>...</td>\n",
       "      <td>...</td>\n",
       "    </tr>\n",
       "    <tr>\n",
       "      <th>32128</th>\n",
       "      <td>Colony On Mars</td>\n",
       "      <td>False</td>\n",
       "      <td>773640</td>\n",
       "      <td>5</td>\n",
       "      <td>2.0</td>\n",
       "      <td>0.0</td>\n",
       "    </tr>\n",
       "    <tr>\n",
       "      <th>32129</th>\n",
       "      <td>LOGistICAL: South Africa</td>\n",
       "      <td>False</td>\n",
       "      <td>733530</td>\n",
       "      <td>5</td>\n",
       "      <td>2.0</td>\n",
       "      <td>0.0</td>\n",
       "    </tr>\n",
       "    <tr>\n",
       "      <th>32130</th>\n",
       "      <td>Russian Roads</td>\n",
       "      <td>False</td>\n",
       "      <td>610660</td>\n",
       "      <td>5</td>\n",
       "      <td>2.0</td>\n",
       "      <td>0.0</td>\n",
       "    </tr>\n",
       "    <tr>\n",
       "      <th>32131</th>\n",
       "      <td>EXIT 2 - Directions</td>\n",
       "      <td>False</td>\n",
       "      <td>658870</td>\n",
       "      <td>5</td>\n",
       "      <td>2.0</td>\n",
       "      <td>0.0</td>\n",
       "    </tr>\n",
       "    <tr>\n",
       "      <th>32132</th>\n",
       "      <td>Maze Run VR</td>\n",
       "      <td>True</td>\n",
       "      <td>681550</td>\n",
       "      <td>5</td>\n",
       "      <td>4.0</td>\n",
       "      <td>0.0</td>\n",
       "    </tr>\n",
       "  </tbody>\n",
       "</table>\n",
       "<p>32133 rows × 6 columns</p>\n",
       "</div>"
      ],
      "text/plain": [
       "                       app_name  early_access      id  price_free  \\\n",
       "0           Lost Summoner Kitty         False  761140           5   \n",
       "1                     Ironbound         False  643980           5   \n",
       "2       Real Pool 3D - Poolians         False  670290           1   \n",
       "3                       弹炸人2222         False  767400           5   \n",
       "4                 Log Challenge         False  773570           5   \n",
       "...                         ...           ...     ...         ...   \n",
       "32128            Colony On Mars         False  773640           5   \n",
       "32129  LOGistICAL: South Africa         False  733530           5   \n",
       "32130             Russian Roads         False  610660           5   \n",
       "32131       EXIT 2 - Directions         False  658870           5   \n",
       "32132               Maze Run VR          True  681550           5   \n",
       "\n",
       "       enc_sentiment  sum_hours  \n",
       "0                2.0        0.0  \n",
       "1                3.5      420.3  \n",
       "2                3.5        1.2  \n",
       "3                2.0        0.0  \n",
       "4                2.0        0.0  \n",
       "...              ...        ...  \n",
       "32128            2.0        0.0  \n",
       "32129            2.0        0.0  \n",
       "32130            2.0        0.0  \n",
       "32131            2.0        0.0  \n",
       "32132            4.0        0.0  \n",
       "\n",
       "[32133 rows x 6 columns]"
      ]
     },
     "execution_count": 315,
     "metadata": {},
     "output_type": "execute_result"
    }
   ],
   "source": [
    "data_games"
   ]
  },
  {
   "cell_type": "code",
   "execution_count": 316,
   "metadata": {
    "id": "XFTgd8uDLxEb"
   },
   "outputs": [],
   "source": [
    "data_games.reset_index(inplace=True, drop=True)"
   ]
  },
  {
   "cell_type": "markdown",
   "metadata": {
    "id": "qBv-FCYkTmJu"
   },
   "source": [
    "Guardo el dataset de *Games* modificado y con menos columnas para usarlo más adelante durante las recomendaciones"
   ]
  },
  {
   "cell_type": "code",
   "execution_count": 317,
   "metadata": {
    "id": "uqHVe-uvTzj9"
   },
   "outputs": [],
   "source": [
    "data_games_light = data_games.copy()\n",
    "data_games_light.drop(columns={'early_access','price_free','enc_sentiment','sum_hours'}, inplace=True)"
   ]
  },
  {
   "cell_type": "code",
   "execution_count": 318,
   "metadata": {
    "id": "cGn7i45gT0pV"
   },
   "outputs": [],
   "source": [
    "data_games_light.to_csv('./proyecto4_data_games_light.csv', index= False)"
   ]
  },
  {
   "cell_type": "code",
   "execution_count": 319,
   "metadata": {
    "colab": {
     "base_uri": "https://localhost:8080/"
    },
    "executionInfo": {
     "elapsed": 323,
     "status": "ok",
     "timestamp": 1633162414246,
     "user": {
      "displayName": "Sebastian Campagnolo",
      "photoUrl": "https://lh3.googleusercontent.com/a-/AOh14Gg6pbROrzyday57jBRXk4J4eposq2tBYeW0Sr4=s64",
      "userId": "00251509339913289660"
     },
     "user_tz": -120
    },
    "id": "pMRm4VFGBZVW",
    "outputId": "7c71958e-d939-4183-e567-010818195bfb"
   },
   "outputs": [
    {
     "data": {
      "text/plain": [
       "3664"
      ]
     },
     "execution_count": 319,
     "metadata": {},
     "output_type": "execute_result"
    }
   ],
   "source": [
    "gc.collect()"
   ]
  },
  {
   "cell_type": "markdown",
   "metadata": {
    "id": "46OJx9HOLxEb"
   },
   "source": [
    "### Armo un dataframe con toda la información"
   ]
  },
  {
   "cell_type": "code",
   "execution_count": 320,
   "metadata": {
    "id": "3PD-rH48LxEc"
   },
   "outputs": [],
   "source": [
    "#df_reviewsxgame = data_reviews.join(data_games.set_index('id'), on='product_id', how='left')"
   ]
  },
  {
   "cell_type": "code",
   "execution_count": 321,
   "metadata": {
    "id": "5tD1XQ2uLxEc"
   },
   "outputs": [],
   "source": [
    "df_reviewsxgame = pd.merge(data_reviews, data_games, left_on='product_id', right_on='id', how='left')"
   ]
  },
  {
   "cell_type": "code",
   "execution_count": 322,
   "metadata": {
    "colab": {
     "base_uri": "https://localhost:8080/"
    },
    "executionInfo": {
     "elapsed": 364,
     "status": "ok",
     "timestamp": 1633162430626,
     "user": {
      "displayName": "Sebastian Campagnolo",
      "photoUrl": "https://lh3.googleusercontent.com/a-/AOh14Gg6pbROrzyday57jBRXk4J4eposq2tBYeW0Sr4=s64",
      "userId": "00251509339913289660"
     },
     "user_tz": -120
    },
    "id": "50qfrxzzLxEc",
    "outputId": "845fed61-e151-47c6-ea53-7584de68b463"
   },
   "outputs": [
    {
     "data": {
      "text/plain": [
       "(775105, 5)"
      ]
     },
     "execution_count": 322,
     "metadata": {},
     "output_type": "execute_result"
    }
   ],
   "source": [
    "data_reviews.shape"
   ]
  },
  {
   "cell_type": "code",
   "execution_count": 323,
   "metadata": {
    "colab": {
     "base_uri": "https://localhost:8080/"
    },
    "executionInfo": {
     "elapsed": 514,
     "status": "ok",
     "timestamp": 1633163223917,
     "user": {
      "displayName": "Sebastian Campagnolo",
      "photoUrl": "https://lh3.googleusercontent.com/a-/AOh14Gg6pbROrzyday57jBRXk4J4eposq2tBYeW0Sr4=s64",
      "userId": "00251509339913289660"
     },
     "user_tz": -120
    },
    "id": "C9UaIT-VZWSu",
    "outputId": "a1f4aae8-7987-4b59-ba4b-44f28bb57a9a"
   },
   "outputs": [
    {
     "name": "stdout",
     "output_type": "stream",
     "text": [
      "<class 'pandas.core.frame.DataFrame'>\n",
      "Int64Index: 775749 entries, 0 to 775748\n",
      "Data columns (total 11 columns):\n",
      " #   Column         Non-Null Count   Dtype  \n",
      "---  ------         --------------   -----  \n",
      " 0   username       775749 non-null  object \n",
      " 1   hours          775749 non-null  float64\n",
      " 2   products       775749 non-null  float64\n",
      " 3   product_id     775749 non-null  object \n",
      " 4   user_id        775749 non-null  uint32 \n",
      " 5   app_name       775749 non-null  object \n",
      " 6   early_access   775749 non-null  bool   \n",
      " 7   id             775749 non-null  object \n",
      " 8   price_free     775749 non-null  int8   \n",
      " 9   enc_sentiment  775749 non-null  float32\n",
      " 10  sum_hours      775749 non-null  float64\n",
      "dtypes: bool(1), float32(1), float64(3), int8(1), object(4), uint32(1)\n",
      "memory usage: 54.7+ MB\n"
     ]
    }
   ],
   "source": [
    "df_reviewsxgame.info()"
   ]
  },
  {
   "cell_type": "code",
   "execution_count": 324,
   "metadata": {
    "colab": {
     "base_uri": "https://localhost:8080/",
     "height": 423
    },
    "executionInfo": {
     "elapsed": 1967,
     "status": "ok",
     "timestamp": 1633162441554,
     "user": {
      "displayName": "Sebastian Campagnolo",
      "photoUrl": "https://lh3.googleusercontent.com/a-/AOh14Gg6pbROrzyday57jBRXk4J4eposq2tBYeW0Sr4=s64",
      "userId": "00251509339913289660"
     },
     "user_tz": -120
    },
    "id": "h2HSKleTLxEc",
    "outputId": "c99180ef-d6c9-4199-ea66-29e814276323"
   },
   "outputs": [
    {
     "data": {
      "text/html": [
       "<div>\n",
       "<style scoped>\n",
       "    .dataframe tbody tr th:only-of-type {\n",
       "        vertical-align: middle;\n",
       "    }\n",
       "\n",
       "    .dataframe tbody tr th {\n",
       "        vertical-align: top;\n",
       "    }\n",
       "\n",
       "    .dataframe thead th {\n",
       "        text-align: right;\n",
       "    }\n",
       "</style>\n",
       "<table border=\"1\" class=\"dataframe\">\n",
       "  <thead>\n",
       "    <tr style=\"text-align: right;\">\n",
       "      <th></th>\n",
       "      <th>username</th>\n",
       "      <th>hours</th>\n",
       "      <th>products</th>\n",
       "      <th>product_id</th>\n",
       "      <th>user_id</th>\n",
       "      <th>app_name</th>\n",
       "      <th>early_access</th>\n",
       "      <th>id</th>\n",
       "      <th>price_free</th>\n",
       "      <th>enc_sentiment</th>\n",
       "      <th>sum_hours</th>\n",
       "    </tr>\n",
       "  </thead>\n",
       "  <tbody>\n",
       "    <tr>\n",
       "      <th>0</th>\n",
       "      <td>Chaos Syren</td>\n",
       "      <td>0.1</td>\n",
       "      <td>41.0</td>\n",
       "      <td>725280</td>\n",
       "      <td>2368950420</td>\n",
       "      <td>Psi Project</td>\n",
       "      <td>False</td>\n",
       "      <td>725280</td>\n",
       "      <td>5</td>\n",
       "      <td>4.0</td>\n",
       "      <td>0.2</td>\n",
       "    </tr>\n",
       "    <tr>\n",
       "      <th>1</th>\n",
       "      <td>Ariman1</td>\n",
       "      <td>13.2</td>\n",
       "      <td>1386.0</td>\n",
       "      <td>328100</td>\n",
       "      <td>2398386944</td>\n",
       "      <td>Gunspell - Steam Edition</td>\n",
       "      <td>False</td>\n",
       "      <td>328100</td>\n",
       "      <td>5</td>\n",
       "      <td>2.5</td>\n",
       "      <td>26.6</td>\n",
       "    </tr>\n",
       "    <tr>\n",
       "      <th>2</th>\n",
       "      <td>freakfantom</td>\n",
       "      <td>0.1</td>\n",
       "      <td>1706.0</td>\n",
       "      <td>725280</td>\n",
       "      <td>1440805404</td>\n",
       "      <td>Psi Project</td>\n",
       "      <td>False</td>\n",
       "      <td>725280</td>\n",
       "      <td>5</td>\n",
       "      <td>4.0</td>\n",
       "      <td>0.2</td>\n",
       "    </tr>\n",
       "    <tr>\n",
       "      <th>3</th>\n",
       "      <td>The_Cpt_FROGGY</td>\n",
       "      <td>7.8</td>\n",
       "      <td>2217.0</td>\n",
       "      <td>631920</td>\n",
       "      <td>3174070216</td>\n",
       "      <td>Somewhere on Zibylon</td>\n",
       "      <td>False</td>\n",
       "      <td>631920</td>\n",
       "      <td>5</td>\n",
       "      <td>4.0</td>\n",
       "      <td>46.2</td>\n",
       "    </tr>\n",
       "    <tr>\n",
       "      <th>4</th>\n",
       "      <td>the_maker988</td>\n",
       "      <td>8.2</td>\n",
       "      <td>18.0</td>\n",
       "      <td>35140</td>\n",
       "      <td>1757560494</td>\n",
       "      <td>Batman: Arkham Asylum Game of the Year Edition</td>\n",
       "      <td>False</td>\n",
       "      <td>35140</td>\n",
       "      <td>5</td>\n",
       "      <td>5.0</td>\n",
       "      <td>19101.9</td>\n",
       "    </tr>\n",
       "    <tr>\n",
       "      <th>...</th>\n",
       "      <td>...</td>\n",
       "      <td>...</td>\n",
       "      <td>...</td>\n",
       "      <td>...</td>\n",
       "      <td>...</td>\n",
       "      <td>...</td>\n",
       "      <td>...</td>\n",
       "      <td>...</td>\n",
       "      <td>...</td>\n",
       "      <td>...</td>\n",
       "      <td>...</td>\n",
       "    </tr>\n",
       "    <tr>\n",
       "      <th>775744</th>\n",
       "      <td>Vidaar</td>\n",
       "      <td>783.5</td>\n",
       "      <td>353.0</td>\n",
       "      <td>252490</td>\n",
       "      <td>1938294537</td>\n",
       "      <td>Rust</td>\n",
       "      <td>True</td>\n",
       "      <td>252490</td>\n",
       "      <td>5</td>\n",
       "      <td>4.5</td>\n",
       "      <td>4440065.5</td>\n",
       "    </tr>\n",
       "    <tr>\n",
       "      <th>775745</th>\n",
       "      <td>Nikolai Belinski</td>\n",
       "      <td>55.1</td>\n",
       "      <td>204.0</td>\n",
       "      <td>252490</td>\n",
       "      <td>507719600</td>\n",
       "      <td>Rust</td>\n",
       "      <td>True</td>\n",
       "      <td>252490</td>\n",
       "      <td>5</td>\n",
       "      <td>4.5</td>\n",
       "      <td>4440065.5</td>\n",
       "    </tr>\n",
       "    <tr>\n",
       "      <th>775746</th>\n",
       "      <td>RancorZealot</td>\n",
       "      <td>203.5</td>\n",
       "      <td>173.0</td>\n",
       "      <td>252490</td>\n",
       "      <td>160671997</td>\n",
       "      <td>Rust</td>\n",
       "      <td>True</td>\n",
       "      <td>252490</td>\n",
       "      <td>5</td>\n",
       "      <td>4.5</td>\n",
       "      <td>4440065.5</td>\n",
       "    </tr>\n",
       "    <tr>\n",
       "      <th>775747</th>\n",
       "      <td>Jerry</td>\n",
       "      <td>139.8</td>\n",
       "      <td>79.0</td>\n",
       "      <td>252490</td>\n",
       "      <td>1009062422</td>\n",
       "      <td>Rust</td>\n",
       "      <td>True</td>\n",
       "      <td>252490</td>\n",
       "      <td>5</td>\n",
       "      <td>4.5</td>\n",
       "      <td>4440065.5</td>\n",
       "    </tr>\n",
       "    <tr>\n",
       "      <th>775748</th>\n",
       "      <td>Helk</td>\n",
       "      <td>15375.0</td>\n",
       "      <td>98.0</td>\n",
       "      <td>252490</td>\n",
       "      <td>235885905</td>\n",
       "      <td>Rust</td>\n",
       "      <td>True</td>\n",
       "      <td>252490</td>\n",
       "      <td>5</td>\n",
       "      <td>4.5</td>\n",
       "      <td>4440065.5</td>\n",
       "    </tr>\n",
       "  </tbody>\n",
       "</table>\n",
       "<p>775749 rows × 11 columns</p>\n",
       "</div>"
      ],
      "text/plain": [
       "                username    hours  products product_id     user_id  \\\n",
       "0            Chaos Syren      0.1      41.0     725280  2368950420   \n",
       "1                Ariman1     13.2    1386.0     328100  2398386944   \n",
       "2            freakfantom      0.1    1706.0     725280  1440805404   \n",
       "3         The_Cpt_FROGGY      7.8    2217.0     631920  3174070216   \n",
       "4           the_maker988      8.2      18.0      35140  1757560494   \n",
       "...                  ...      ...       ...        ...         ...   \n",
       "775744            Vidaar    783.5     353.0     252490  1938294537   \n",
       "775745  Nikolai Belinski     55.1     204.0     252490   507719600   \n",
       "775746      RancorZealot    203.5     173.0     252490   160671997   \n",
       "775747             Jerry    139.8      79.0     252490  1009062422   \n",
       "775748              Helk  15375.0      98.0     252490   235885905   \n",
       "\n",
       "                                              app_name  early_access      id  \\\n",
       "0                                          Psi Project         False  725280   \n",
       "1                             Gunspell - Steam Edition         False  328100   \n",
       "2                                          Psi Project         False  725280   \n",
       "3                                 Somewhere on Zibylon         False  631920   \n",
       "4       Batman: Arkham Asylum Game of the Year Edition         False   35140   \n",
       "...                                                ...           ...     ...   \n",
       "775744                                            Rust          True  252490   \n",
       "775745                                            Rust          True  252490   \n",
       "775746                                            Rust          True  252490   \n",
       "775747                                            Rust          True  252490   \n",
       "775748                                            Rust          True  252490   \n",
       "\n",
       "        price_free  enc_sentiment  sum_hours  \n",
       "0                5            4.0        0.2  \n",
       "1                5            2.5       26.6  \n",
       "2                5            4.0        0.2  \n",
       "3                5            4.0       46.2  \n",
       "4                5            5.0    19101.9  \n",
       "...            ...            ...        ...  \n",
       "775744           5            4.5  4440065.5  \n",
       "775745           5            4.5  4440065.5  \n",
       "775746           5            4.5  4440065.5  \n",
       "775747           5            4.5  4440065.5  \n",
       "775748           5            4.5  4440065.5  \n",
       "\n",
       "[775749 rows x 11 columns]"
      ]
     },
     "execution_count": 324,
     "metadata": {},
     "output_type": "execute_result"
    }
   ],
   "source": [
    "df_reviewsxgame"
   ]
  },
  {
   "cell_type": "markdown",
   "metadata": {
    "id": "eZiZiptZLxEd"
   },
   "source": [
    "##### Cuento la cantidad de nulos en el nuevo dataframe"
   ]
  },
  {
   "cell_type": "code",
   "execution_count": 325,
   "metadata": {
    "colab": {
     "base_uri": "https://localhost:8080/"
    },
    "executionInfo": {
     "elapsed": 1182,
     "status": "ok",
     "timestamp": 1633162450200,
     "user": {
      "displayName": "Sebastian Campagnolo",
      "photoUrl": "https://lh3.googleusercontent.com/a-/AOh14Gg6pbROrzyday57jBRXk4J4eposq2tBYeW0Sr4=s64",
      "userId": "00251509339913289660"
     },
     "user_tz": -120
    },
    "id": "hP1tY06lLxEd",
    "outputId": "a3a777f7-9d1b-4718-f0a7-8b44e5be5dd4"
   },
   "outputs": [
    {
     "data": {
      "text/plain": [
       "username         0.0\n",
       "hours            0.0\n",
       "products         0.0\n",
       "product_id       0.0\n",
       "user_id          0.0\n",
       "app_name         0.0\n",
       "early_access     0.0\n",
       "id               0.0\n",
       "price_free       0.0\n",
       "enc_sentiment    0.0\n",
       "sum_hours        0.0\n",
       "dtype: float64"
      ]
     },
     "execution_count": 325,
     "metadata": {},
     "output_type": "execute_result"
    }
   ],
   "source": [
    "df_reviewsxgame.isna().sum() / df_reviewsxgame.shape[0]*100"
   ]
  },
  {
   "cell_type": "markdown",
   "metadata": {
    "id": "G9qth9YOLxEd"
   },
   "source": [
    "#### Con la información disponible al momento, podemos responder las siguientes preguntas"
   ]
  },
  {
   "cell_type": "markdown",
   "metadata": {
    "id": "vGn8il6qLxEd"
   },
   "source": [
    "##### ¿Cuáles son los juegos con mayor cantidad de reviews?"
   ]
  },
  {
   "cell_type": "code",
   "execution_count": 326,
   "metadata": {
    "colab": {
     "base_uri": "https://localhost:8080/",
     "height": 676
    },
    "executionInfo": {
     "elapsed": 5891,
     "status": "ok",
     "timestamp": 1633162458927,
     "user": {
      "displayName": "Sebastian Campagnolo",
      "photoUrl": "https://lh3.googleusercontent.com/a-/AOh14Gg6pbROrzyday57jBRXk4J4eposq2tBYeW0Sr4=s64",
      "userId": "00251509339913289660"
     },
     "user_tz": -120
    },
    "id": "WRUDCRz1LxEd",
    "outputId": "47fa6529-adf2-4d06-dd51-5eb3e47e59ac"
   },
   "outputs": [
    {
     "data": {
      "text/html": [
       "<div>\n",
       "<style scoped>\n",
       "    .dataframe tbody tr th:only-of-type {\n",
       "        vertical-align: middle;\n",
       "    }\n",
       "\n",
       "    .dataframe tbody tr th {\n",
       "        vertical-align: top;\n",
       "    }\n",
       "\n",
       "    .dataframe thead th {\n",
       "        text-align: right;\n",
       "    }\n",
       "</style>\n",
       "<table border=\"1\" class=\"dataframe\">\n",
       "  <thead>\n",
       "    <tr style=\"text-align: right;\">\n",
       "      <th></th>\n",
       "      <th>product_id</th>\n",
       "      <th>app_name</th>\n",
       "      <th>quantity</th>\n",
       "    </tr>\n",
       "  </thead>\n",
       "  <tbody>\n",
       "    <tr>\n",
       "      <th>7267</th>\n",
       "      <td>440</td>\n",
       "      <td>Team Fortress 2</td>\n",
       "      <td>18225</td>\n",
       "    </tr>\n",
       "    <tr>\n",
       "      <th>1321</th>\n",
       "      <td>252490</td>\n",
       "      <td>Rust</td>\n",
       "      <td>10216</td>\n",
       "    </tr>\n",
       "    <tr>\n",
       "      <th>8605</th>\n",
       "      <td>49520</td>\n",
       "      <td>Borderlands 2</td>\n",
       "      <td>7310</td>\n",
       "    </tr>\n",
       "    <tr>\n",
       "      <th>5286</th>\n",
       "      <td>377160</td>\n",
       "      <td>Fallout 4</td>\n",
       "      <td>7109</td>\n",
       "    </tr>\n",
       "    <tr>\n",
       "      <th>1816</th>\n",
       "      <td>271590</td>\n",
       "      <td>Grand Theft Auto V</td>\n",
       "      <td>5974</td>\n",
       "    </tr>\n",
       "    <tr>\n",
       "      <th>5805</th>\n",
       "      <td>391540</td>\n",
       "      <td>Undertale</td>\n",
       "      <td>5707</td>\n",
       "    </tr>\n",
       "    <tr>\n",
       "      <th>10919</th>\n",
       "      <td>620</td>\n",
       "      <td>Portal 2</td>\n",
       "      <td>5511</td>\n",
       "    </tr>\n",
       "    <tr>\n",
       "      <th>693</th>\n",
       "      <td>221100</td>\n",
       "      <td>DayZ</td>\n",
       "      <td>5492</td>\n",
       "    </tr>\n",
       "    <tr>\n",
       "      <th>853</th>\n",
       "      <td>230410</td>\n",
       "      <td>Warframe</td>\n",
       "      <td>5491</td>\n",
       "    </tr>\n",
       "    <tr>\n",
       "      <th>2608</th>\n",
       "      <td>301520</td>\n",
       "      <td>Robocraft</td>\n",
       "      <td>5268</td>\n",
       "    </tr>\n",
       "    <tr>\n",
       "      <th>3154</th>\n",
       "      <td>319630</td>\n",
       "      <td>Life is Strange - Episode 1</td>\n",
       "      <td>5167</td>\n",
       "    </tr>\n",
       "    <tr>\n",
       "      <th>6090</th>\n",
       "      <td>4000</td>\n",
       "      <td>Garry's Mod</td>\n",
       "      <td>4760</td>\n",
       "    </tr>\n",
       "    <tr>\n",
       "      <th>538</th>\n",
       "      <td>211820</td>\n",
       "      <td>Starbound</td>\n",
       "      <td>4341</td>\n",
       "    </tr>\n",
       "    <tr>\n",
       "      <th>7070</th>\n",
       "      <td>433850</td>\n",
       "      <td>H1Z1</td>\n",
       "      <td>4241</td>\n",
       "    </tr>\n",
       "    <tr>\n",
       "      <th>4096</th>\n",
       "      <td>346110</td>\n",
       "      <td>ARK: Survival Evolved</td>\n",
       "      <td>4228</td>\n",
       "    </tr>\n",
       "    <tr>\n",
       "      <th>45</th>\n",
       "      <td>107410</td>\n",
       "      <td>Arma 3</td>\n",
       "      <td>4055</td>\n",
       "    </tr>\n",
       "    <tr>\n",
       "      <th>821</th>\n",
       "      <td>227940</td>\n",
       "      <td>Heroes &amp; Generals</td>\n",
       "      <td>3909</td>\n",
       "    </tr>\n",
       "    <tr>\n",
       "      <th>12525</th>\n",
       "      <td>8930</td>\n",
       "      <td>Sid Meier's Civilization® V</td>\n",
       "      <td>3769</td>\n",
       "    </tr>\n",
       "    <tr>\n",
       "      <th>7363</th>\n",
       "      <td>444090</td>\n",
       "      <td>Paladins®</td>\n",
       "      <td>3711</td>\n",
       "    </tr>\n",
       "    <tr>\n",
       "      <th>8408</th>\n",
       "      <td>48700</td>\n",
       "      <td>Mount &amp; Blade: Warband</td>\n",
       "      <td>3657</td>\n",
       "    </tr>\n",
       "  </tbody>\n",
       "</table>\n",
       "</div>"
      ],
      "text/plain": [
       "      product_id                     app_name  quantity\n",
       "7267         440              Team Fortress 2     18225\n",
       "1321      252490                         Rust     10216\n",
       "8605       49520                Borderlands 2      7310\n",
       "5286      377160                    Fallout 4      7109\n",
       "1816      271590           Grand Theft Auto V      5974\n",
       "5805      391540                    Undertale      5707\n",
       "10919        620                     Portal 2      5511\n",
       "693       221100                         DayZ      5492\n",
       "853       230410                     Warframe      5491\n",
       "2608      301520                    Robocraft      5268\n",
       "3154      319630  Life is Strange - Episode 1      5167\n",
       "6090        4000                  Garry's Mod      4760\n",
       "538       211820                    Starbound      4341\n",
       "7070      433850                         H1Z1      4241\n",
       "4096      346110        ARK: Survival Evolved      4228\n",
       "45        107410                       Arma 3      4055\n",
       "821       227940            Heroes & Generals      3909\n",
       "12525       8930  Sid Meier's Civilization® V      3769\n",
       "7363      444090                    Paladins®      3711\n",
       "8408       48700       Mount & Blade: Warband      3657"
      ]
     },
     "execution_count": 326,
     "metadata": {},
     "output_type": "execute_result"
    }
   ],
   "source": [
    "most_reviewed_games = df_reviewsxgame.groupby(['product_id','app_name']).count().reset_index()\n",
    "most_reviewed_games = most_reviewed_games[['product_id','app_name','username']]\n",
    "most_reviewed_games.rename(columns={'username': 'quantity'}, inplace=True)\n",
    "most_reviewed_games = most_reviewed_games.sort_values(by='quantity',ascending=False)\n",
    "most_reviewed_games.head(20)"
   ]
  },
  {
   "cell_type": "markdown",
   "metadata": {
    "id": "zqWL5hLlLxEe"
   },
   "source": [
    "##### ¿Cuáles son los juegos más jugados? (mayor cantidad de horas de juego acumuladas - popularidad)"
   ]
  },
  {
   "cell_type": "code",
   "execution_count": 327,
   "metadata": {
    "id": "QbpHhFfQLxEe"
   },
   "outputs": [],
   "source": [
    "most_played_games = df_reviewsxgame.groupby(['product_id','app_name']).agg({'hours': ['sum']}).reset_index()"
   ]
  },
  {
   "cell_type": "code",
   "execution_count": 328,
   "metadata": {
    "colab": {
     "base_uri": "https://localhost:8080/",
     "height": 676
    },
    "executionInfo": {
     "elapsed": 447,
     "status": "ok",
     "timestamp": 1633162488165,
     "user": {
      "displayName": "Sebastian Campagnolo",
      "photoUrl": "https://lh3.googleusercontent.com/a-/AOh14Gg6pbROrzyday57jBRXk4J4eposq2tBYeW0Sr4=s64",
      "userId": "00251509339913289660"
     },
     "user_tz": -120
    },
    "id": "Hl-dQKTNLxEe",
    "outputId": "bf6e2518-ebf5-4124-ff71-638b653fbce8"
   },
   "outputs": [
    {
     "data": {
      "text/html": [
       "<div>\n",
       "<style scoped>\n",
       "    .dataframe tbody tr th:only-of-type {\n",
       "        vertical-align: middle;\n",
       "    }\n",
       "\n",
       "    .dataframe tbody tr th {\n",
       "        vertical-align: top;\n",
       "    }\n",
       "\n",
       "    .dataframe thead th {\n",
       "        text-align: right;\n",
       "    }\n",
       "</style>\n",
       "<table border=\"1\" class=\"dataframe\">\n",
       "  <thead>\n",
       "    <tr style=\"text-align: right;\">\n",
       "      <th></th>\n",
       "      <th>product_id</th>\n",
       "      <th>app_name</th>\n",
       "      <th>sum_hours</th>\n",
       "    </tr>\n",
       "  </thead>\n",
       "  <tbody>\n",
       "    <tr>\n",
       "      <th>7267</th>\n",
       "      <td>440</td>\n",
       "      <td>Team Fortress 2</td>\n",
       "      <td>13288406.5</td>\n",
       "    </tr>\n",
       "    <tr>\n",
       "      <th>1321</th>\n",
       "      <td>252490</td>\n",
       "      <td>Rust</td>\n",
       "      <td>4440065.5</td>\n",
       "    </tr>\n",
       "    <tr>\n",
       "      <th>853</th>\n",
       "      <td>230410</td>\n",
       "      <td>Warframe</td>\n",
       "      <td>3384756.5</td>\n",
       "    </tr>\n",
       "    <tr>\n",
       "      <th>6090</th>\n",
       "      <td>4000</td>\n",
       "      <td>Garry's Mod</td>\n",
       "      <td>2626448.0</td>\n",
       "    </tr>\n",
       "    <tr>\n",
       "      <th>45</th>\n",
       "      <td>107410</td>\n",
       "      <td>Arma 3</td>\n",
       "      <td>2573408.8</td>\n",
       "    </tr>\n",
       "    <tr>\n",
       "      <th>4096</th>\n",
       "      <td>346110</td>\n",
       "      <td>ARK: Survival Evolved</td>\n",
       "      <td>2270209.8</td>\n",
       "    </tr>\n",
       "    <tr>\n",
       "      <th>5286</th>\n",
       "      <td>377160</td>\n",
       "      <td>Fallout 4</td>\n",
       "      <td>1634589.5</td>\n",
       "    </tr>\n",
       "    <tr>\n",
       "      <th>8408</th>\n",
       "      <td>48700</td>\n",
       "      <td>Mount &amp; Blade: Warband</td>\n",
       "      <td>1446448.5</td>\n",
       "    </tr>\n",
       "    <tr>\n",
       "      <th>1035</th>\n",
       "      <td>240</td>\n",
       "      <td>Counter-Strike: Source</td>\n",
       "      <td>1417106.6</td>\n",
       "    </tr>\n",
       "    <tr>\n",
       "      <th>693</th>\n",
       "      <td>221100</td>\n",
       "      <td>DayZ</td>\n",
       "      <td>1346097.9</td>\n",
       "    </tr>\n",
       "    <tr>\n",
       "      <th>1816</th>\n",
       "      <td>271590</td>\n",
       "      <td>Grand Theft Auto V</td>\n",
       "      <td>1288341.9</td>\n",
       "    </tr>\n",
       "    <tr>\n",
       "      <th>8605</th>\n",
       "      <td>49520</td>\n",
       "      <td>Borderlands 2</td>\n",
       "      <td>1236568.9</td>\n",
       "    </tr>\n",
       "    <tr>\n",
       "      <th>12525</th>\n",
       "      <td>8930</td>\n",
       "      <td>Sid Meier's Civilization® V</td>\n",
       "      <td>1217934.4</td>\n",
       "    </tr>\n",
       "    <tr>\n",
       "      <th>7070</th>\n",
       "      <td>433850</td>\n",
       "      <td>H1Z1</td>\n",
       "      <td>1035227.3</td>\n",
       "    </tr>\n",
       "    <tr>\n",
       "      <th>4775</th>\n",
       "      <td>363970</td>\n",
       "      <td>Clicker Heroes</td>\n",
       "      <td>906618.3</td>\n",
       "    </tr>\n",
       "    <tr>\n",
       "      <th>5827</th>\n",
       "      <td>39210</td>\n",
       "      <td>FINAL FANTASY XIV Online</td>\n",
       "      <td>884936.2</td>\n",
       "    </tr>\n",
       "    <tr>\n",
       "      <th>675</th>\n",
       "      <td>220200</td>\n",
       "      <td>Kerbal Space Program</td>\n",
       "      <td>866960.7</td>\n",
       "    </tr>\n",
       "    <tr>\n",
       "      <th>355</th>\n",
       "      <td>203770</td>\n",
       "      <td>Crusader Kings II</td>\n",
       "      <td>848533.3</td>\n",
       "    </tr>\n",
       "    <tr>\n",
       "      <th>5609</th>\n",
       "      <td>386360</td>\n",
       "      <td>SMITE®</td>\n",
       "      <td>815871.7</td>\n",
       "    </tr>\n",
       "    <tr>\n",
       "      <th>2608</th>\n",
       "      <td>301520</td>\n",
       "      <td>Robocraft</td>\n",
       "      <td>749027.1</td>\n",
       "    </tr>\n",
       "  </tbody>\n",
       "</table>\n",
       "</div>"
      ],
      "text/plain": [
       "      product_id                     app_name   sum_hours\n",
       "7267         440              Team Fortress 2  13288406.5\n",
       "1321      252490                         Rust   4440065.5\n",
       "853       230410                     Warframe   3384756.5\n",
       "6090        4000                  Garry's Mod   2626448.0\n",
       "45        107410                       Arma 3   2573408.8\n",
       "4096      346110        ARK: Survival Evolved   2270209.8\n",
       "5286      377160                    Fallout 4   1634589.5\n",
       "8408       48700       Mount & Blade: Warband   1446448.5\n",
       "1035         240       Counter-Strike: Source   1417106.6\n",
       "693       221100                         DayZ   1346097.9\n",
       "1816      271590           Grand Theft Auto V   1288341.9\n",
       "8605       49520                Borderlands 2   1236568.9\n",
       "12525       8930  Sid Meier's Civilization® V   1217934.4\n",
       "7070      433850                         H1Z1   1035227.3\n",
       "4775      363970               Clicker Heroes    906618.3\n",
       "5827       39210     FINAL FANTASY XIV Online    884936.2\n",
       "675       220200         Kerbal Space Program    866960.7\n",
       "355       203770            Crusader Kings II    848533.3\n",
       "5609      386360                       SMITE®    815871.7\n",
       "2608      301520                    Robocraft    749027.1"
      ]
     },
     "execution_count": 328,
     "metadata": {},
     "output_type": "execute_result"
    }
   ],
   "source": [
    "most_played_games.columns = ['product_id','app_name','sum_hours']\n",
    "#most_played_games = most_played_games.sort_values(by='sum_hours',ascending=False)\n",
    "#most_played_games.head(20)\n",
    "most_played_games.sort_values(by='sum_hours',ascending=False).head(20)"
   ]
  },
  {
   "cell_type": "markdown",
   "metadata": {
    "id": "-wQ9OEPvLxEf"
   },
   "source": [
    "##### ¿Cuántos jugadores diferentes tenemos?"
   ]
  },
  {
   "cell_type": "code",
   "execution_count": 329,
   "metadata": {
    "id": "n5y0sUIjLxEf"
   },
   "outputs": [],
   "source": [
    "total_players = df_reviewsxgame.groupby(['user_id']).agg({'user_id': ['count']}).reset_index()\n",
    "total_players.columns = ['user_id', 'quantity_reviews']"
   ]
  },
  {
   "cell_type": "code",
   "execution_count": 330,
   "metadata": {
    "colab": {
     "base_uri": "https://localhost:8080/"
    },
    "executionInfo": {
     "elapsed": 391,
     "status": "ok",
     "timestamp": 1633162503532,
     "user": {
      "displayName": "Sebastian Campagnolo",
      "photoUrl": "https://lh3.googleusercontent.com/a-/AOh14Gg6pbROrzyday57jBRXk4J4eposq2tBYeW0Sr4=s64",
      "userId": "00251509339913289660"
     },
     "user_tz": -120
    },
    "id": "1JM0u2ogLxEf",
    "outputId": "389dee84-fb56-4541-ba29-2037711a19b1"
   },
   "outputs": [
    {
     "data": {
      "text/plain": [
       "598579"
      ]
     },
     "execution_count": 330,
     "metadata": {},
     "output_type": "execute_result"
    }
   ],
   "source": [
    "total_players.shape[0]"
   ]
  },
  {
   "cell_type": "markdown",
   "metadata": {
    "id": "D_R0Q4a2LxEf"
   },
   "source": [
    "##### Información disponible de un usuario en particular"
   ]
  },
  {
   "cell_type": "code",
   "execution_count": 331,
   "metadata": {
    "colab": {
     "base_uri": "https://localhost:8080/",
     "height": 423
    },
    "executionInfo": {
     "elapsed": 2427,
     "status": "ok",
     "timestamp": 1633163267015,
     "user": {
      "displayName": "Sebastian Campagnolo",
      "photoUrl": "https://lh3.googleusercontent.com/a-/AOh14Gg6pbROrzyday57jBRXk4J4eposq2tBYeW0Sr4=s64",
      "userId": "00251509339913289660"
     },
     "user_tz": -120
    },
    "id": "AWqQ1acULxEf",
    "outputId": "3623316f-3802-4c66-d16c-20c8dacf70a8"
   },
   "outputs": [
    {
     "data": {
      "text/html": [
       "<div>\n",
       "<style scoped>\n",
       "    .dataframe tbody tr th:only-of-type {\n",
       "        vertical-align: middle;\n",
       "    }\n",
       "\n",
       "    .dataframe tbody tr th {\n",
       "        vertical-align: top;\n",
       "    }\n",
       "\n",
       "    .dataframe thead th {\n",
       "        text-align: right;\n",
       "    }\n",
       "</style>\n",
       "<table border=\"1\" class=\"dataframe\">\n",
       "  <thead>\n",
       "    <tr style=\"text-align: right;\">\n",
       "      <th></th>\n",
       "      <th>username</th>\n",
       "      <th>hours</th>\n",
       "      <th>products</th>\n",
       "      <th>product_id</th>\n",
       "      <th>user_id</th>\n",
       "      <th>app_name</th>\n",
       "      <th>early_access</th>\n",
       "      <th>id</th>\n",
       "      <th>price_free</th>\n",
       "      <th>enc_sentiment</th>\n",
       "      <th>sum_hours</th>\n",
       "    </tr>\n",
       "  </thead>\n",
       "  <tbody>\n",
       "    <tr>\n",
       "      <th>176074</th>\n",
       "      <td>Cracktus Jack</td>\n",
       "      <td>17.0</td>\n",
       "      <td>318.0</td>\n",
       "      <td>261510</td>\n",
       "      <td>3621156896</td>\n",
       "      <td>Tesla Effect: A Tex Murphy Adventure</td>\n",
       "      <td>False</td>\n",
       "      <td>261510</td>\n",
       "      <td>5</td>\n",
       "      <td>4.5</td>\n",
       "      <td>1244.8</td>\n",
       "    </tr>\n",
       "    <tr>\n",
       "      <th>237839</th>\n",
       "      <td>Cracktus Jack</td>\n",
       "      <td>162.4</td>\n",
       "      <td>318.0</td>\n",
       "      <td>108700</td>\n",
       "      <td>3621156896</td>\n",
       "      <td>Death Rally</td>\n",
       "      <td>False</td>\n",
       "      <td>108700</td>\n",
       "      <td>5</td>\n",
       "      <td>3.5</td>\n",
       "      <td>354.7</td>\n",
       "    </tr>\n",
       "    <tr>\n",
       "      <th>247284</th>\n",
       "      <td>Cracktus Jack</td>\n",
       "      <td>11.1</td>\n",
       "      <td>318.0</td>\n",
       "      <td>360640</td>\n",
       "      <td>3621156896</td>\n",
       "      <td>12 Labours of Hercules II: The Cretan Bull</td>\n",
       "      <td>False</td>\n",
       "      <td>360640</td>\n",
       "      <td>5</td>\n",
       "      <td>4.5</td>\n",
       "      <td>555.2</td>\n",
       "    </tr>\n",
       "    <tr>\n",
       "      <th>250012</th>\n",
       "      <td>Cracktus Jack</td>\n",
       "      <td>38.9</td>\n",
       "      <td>318.0</td>\n",
       "      <td>398850</td>\n",
       "      <td>3621156896</td>\n",
       "      <td>Epistory - Typing Chronicles</td>\n",
       "      <td>False</td>\n",
       "      <td>398850</td>\n",
       "      <td>5</td>\n",
       "      <td>5.0</td>\n",
       "      <td>982.6</td>\n",
       "    </tr>\n",
       "    <tr>\n",
       "      <th>261299</th>\n",
       "      <td>Cracktus Jack</td>\n",
       "      <td>75.4</td>\n",
       "      <td>318.0</td>\n",
       "      <td>249650</td>\n",
       "      <td>3621156896</td>\n",
       "      <td>Blackguards</td>\n",
       "      <td>False</td>\n",
       "      <td>249650</td>\n",
       "      <td>5</td>\n",
       "      <td>2.5</td>\n",
       "      <td>5591.7</td>\n",
       "    </tr>\n",
       "    <tr>\n",
       "      <th>474160</th>\n",
       "      <td>Cracktus Jack</td>\n",
       "      <td>4.0</td>\n",
       "      <td>318.0</td>\n",
       "      <td>313020</td>\n",
       "      <td>3621156896</td>\n",
       "      <td>Soul Gambler</td>\n",
       "      <td>False</td>\n",
       "      <td>313020</td>\n",
       "      <td>5</td>\n",
       "      <td>4.5</td>\n",
       "      <td>338.9</td>\n",
       "    </tr>\n",
       "    <tr>\n",
       "      <th>477653</th>\n",
       "      <td>Cracktus Jack</td>\n",
       "      <td>45.3</td>\n",
       "      <td>318.0</td>\n",
       "      <td>32370</td>\n",
       "      <td>3621156896</td>\n",
       "      <td>STAR WARS™ - Knights of the Old Republic™</td>\n",
       "      <td>False</td>\n",
       "      <td>32370</td>\n",
       "      <td>5</td>\n",
       "      <td>4.5</td>\n",
       "      <td>36662.1</td>\n",
       "    </tr>\n",
       "    <tr>\n",
       "      <th>535497</th>\n",
       "      <td>Cracktus Jack</td>\n",
       "      <td>64.6</td>\n",
       "      <td>318.0</td>\n",
       "      <td>300550</td>\n",
       "      <td>3621156896</td>\n",
       "      <td>Shadowrun: Dragonfall - Director's Cut</td>\n",
       "      <td>False</td>\n",
       "      <td>300550</td>\n",
       "      <td>5</td>\n",
       "      <td>4.5</td>\n",
       "      <td>12237.7</td>\n",
       "    </tr>\n",
       "    <tr>\n",
       "      <th>556799</th>\n",
       "      <td>Cracktus Jack</td>\n",
       "      <td>4.2</td>\n",
       "      <td>318.0</td>\n",
       "      <td>18420</td>\n",
       "      <td>3621156896</td>\n",
       "      <td>Crazy Machines</td>\n",
       "      <td>False</td>\n",
       "      <td>18420</td>\n",
       "      <td>5</td>\n",
       "      <td>4.5</td>\n",
       "      <td>43.7</td>\n",
       "    </tr>\n",
       "    <tr>\n",
       "      <th>560792</th>\n",
       "      <td>Cracktus Jack</td>\n",
       "      <td>8.0</td>\n",
       "      <td>318.0</td>\n",
       "      <td>373860</td>\n",
       "      <td>3621156896</td>\n",
       "      <td>Apothecarium: The Renaissance of Evil - Premiu...</td>\n",
       "      <td>False</td>\n",
       "      <td>373860</td>\n",
       "      <td>5</td>\n",
       "      <td>2.5</td>\n",
       "      <td>40.7</td>\n",
       "    </tr>\n",
       "    <tr>\n",
       "      <th>575071</th>\n",
       "      <td>Cracktus Jack</td>\n",
       "      <td>3.8</td>\n",
       "      <td>318.0</td>\n",
       "      <td>253650</td>\n",
       "      <td>3621156896</td>\n",
       "      <td>Sparkle 2 Evo</td>\n",
       "      <td>False</td>\n",
       "      <td>253650</td>\n",
       "      <td>5</td>\n",
       "      <td>3.5</td>\n",
       "      <td>228.9</td>\n",
       "    </tr>\n",
       "    <tr>\n",
       "      <th>638686</th>\n",
       "      <td>Cracktus Jack</td>\n",
       "      <td>54.0</td>\n",
       "      <td>318.0</td>\n",
       "      <td>213670</td>\n",
       "      <td>3621156896</td>\n",
       "      <td>South Park™: The Stick of Truth™</td>\n",
       "      <td>False</td>\n",
       "      <td>213670</td>\n",
       "      <td>5</td>\n",
       "      <td>5.0</td>\n",
       "      <td>49847.7</td>\n",
       "    </tr>\n",
       "  </tbody>\n",
       "</table>\n",
       "</div>"
      ],
      "text/plain": [
       "             username  hours  products product_id     user_id  \\\n",
       "176074  Cracktus Jack   17.0     318.0     261510  3621156896   \n",
       "237839  Cracktus Jack  162.4     318.0     108700  3621156896   \n",
       "247284  Cracktus Jack   11.1     318.0     360640  3621156896   \n",
       "250012  Cracktus Jack   38.9     318.0     398850  3621156896   \n",
       "261299  Cracktus Jack   75.4     318.0     249650  3621156896   \n",
       "474160  Cracktus Jack    4.0     318.0     313020  3621156896   \n",
       "477653  Cracktus Jack   45.3     318.0      32370  3621156896   \n",
       "535497  Cracktus Jack   64.6     318.0     300550  3621156896   \n",
       "556799  Cracktus Jack    4.2     318.0      18420  3621156896   \n",
       "560792  Cracktus Jack    8.0     318.0     373860  3621156896   \n",
       "575071  Cracktus Jack    3.8     318.0     253650  3621156896   \n",
       "638686  Cracktus Jack   54.0     318.0     213670  3621156896   \n",
       "\n",
       "                                                 app_name  early_access  \\\n",
       "176074               Tesla Effect: A Tex Murphy Adventure         False   \n",
       "237839                                        Death Rally         False   \n",
       "247284         12 Labours of Hercules II: The Cretan Bull         False   \n",
       "250012                       Epistory - Typing Chronicles         False   \n",
       "261299                                        Blackguards         False   \n",
       "474160                                       Soul Gambler         False   \n",
       "477653          STAR WARS™ - Knights of the Old Republic™         False   \n",
       "535497             Shadowrun: Dragonfall - Director's Cut         False   \n",
       "556799                                     Crazy Machines         False   \n",
       "560792  Apothecarium: The Renaissance of Evil - Premiu...         False   \n",
       "575071                                      Sparkle 2 Evo         False   \n",
       "638686                   South Park™: The Stick of Truth™         False   \n",
       "\n",
       "            id  price_free  enc_sentiment  sum_hours  \n",
       "176074  261510           5            4.5     1244.8  \n",
       "237839  108700           5            3.5      354.7  \n",
       "247284  360640           5            4.5      555.2  \n",
       "250012  398850           5            5.0      982.6  \n",
       "261299  249650           5            2.5     5591.7  \n",
       "474160  313020           5            4.5      338.9  \n",
       "477653   32370           5            4.5    36662.1  \n",
       "535497  300550           5            4.5    12237.7  \n",
       "556799   18420           5            4.5       43.7  \n",
       "560792  373860           5            2.5       40.7  \n",
       "575071  253650           5            3.5      228.9  \n",
       "638686  213670           5            5.0    49847.7  "
      ]
     },
     "execution_count": 331,
     "metadata": {},
     "output_type": "execute_result"
    }
   ],
   "source": [
    "df_reviewsxgame[df_reviewsxgame.user_id==3621156896]"
   ]
  },
  {
   "cell_type": "code",
   "execution_count": 332,
   "metadata": {
    "colab": {
     "base_uri": "https://localhost:8080/"
    },
    "executionInfo": {
     "elapsed": 353,
     "status": "ok",
     "timestamp": 1633162514385,
     "user": {
      "displayName": "Sebastian Campagnolo",
      "photoUrl": "https://lh3.googleusercontent.com/a-/AOh14Gg6pbROrzyday57jBRXk4J4eposq2tBYeW0Sr4=s64",
      "userId": "00251509339913289660"
     },
     "user_tz": -120
    },
    "id": "HVtnxmJ2V7AA",
    "outputId": "35f39131-b681-4043-ffa8-e1470d09f99e"
   },
   "outputs": [
    {
     "data": {
      "text/plain": [
       "0"
      ]
     },
     "execution_count": 332,
     "metadata": {},
     "output_type": "execute_result"
    }
   ],
   "source": [
    "gc.collect()"
   ]
  },
  {
   "cell_type": "markdown",
   "metadata": {
    "id": "0Q7qDcLbLxEf"
   },
   "source": [
    "##### ¿Cuántas reviews hizo cada uno de los jugadores?"
   ]
  },
  {
   "cell_type": "code",
   "execution_count": 333,
   "metadata": {
    "colab": {
     "base_uri": "https://localhost:8080/",
     "height": 423
    },
    "executionInfo": {
     "elapsed": 401,
     "status": "ok",
     "timestamp": 1633162520881,
     "user": {
      "displayName": "Sebastian Campagnolo",
      "photoUrl": "https://lh3.googleusercontent.com/a-/AOh14Gg6pbROrzyday57jBRXk4J4eposq2tBYeW0Sr4=s64",
      "userId": "00251509339913289660"
     },
     "user_tz": -120
    },
    "id": "rVZrzZ8GLxEg",
    "outputId": "a40ea0b7-459b-45db-f7f2-3a393a9045f1"
   },
   "outputs": [
    {
     "data": {
      "text/html": [
       "<div>\n",
       "<style scoped>\n",
       "    .dataframe tbody tr th:only-of-type {\n",
       "        vertical-align: middle;\n",
       "    }\n",
       "\n",
       "    .dataframe tbody tr th {\n",
       "        vertical-align: top;\n",
       "    }\n",
       "\n",
       "    .dataframe thead th {\n",
       "        text-align: right;\n",
       "    }\n",
       "</style>\n",
       "<table border=\"1\" class=\"dataframe\">\n",
       "  <thead>\n",
       "    <tr style=\"text-align: right;\">\n",
       "      <th></th>\n",
       "      <th>user_id</th>\n",
       "      <th>quantity_reviews</th>\n",
       "    </tr>\n",
       "  </thead>\n",
       "  <tbody>\n",
       "    <tr>\n",
       "      <th>0</th>\n",
       "      <td>8121</td>\n",
       "      <td>1</td>\n",
       "    </tr>\n",
       "    <tr>\n",
       "      <th>1</th>\n",
       "      <td>10859</td>\n",
       "      <td>1</td>\n",
       "    </tr>\n",
       "    <tr>\n",
       "      <th>2</th>\n",
       "      <td>14554</td>\n",
       "      <td>1</td>\n",
       "    </tr>\n",
       "    <tr>\n",
       "      <th>3</th>\n",
       "      <td>24624</td>\n",
       "      <td>1</td>\n",
       "    </tr>\n",
       "    <tr>\n",
       "      <th>4</th>\n",
       "      <td>37139</td>\n",
       "      <td>1</td>\n",
       "    </tr>\n",
       "    <tr>\n",
       "      <th>...</th>\n",
       "      <td>...</td>\n",
       "      <td>...</td>\n",
       "    </tr>\n",
       "    <tr>\n",
       "      <th>598574</th>\n",
       "      <td>4294932540</td>\n",
       "      <td>5</td>\n",
       "    </tr>\n",
       "    <tr>\n",
       "      <th>598575</th>\n",
       "      <td>4294933279</td>\n",
       "      <td>1</td>\n",
       "    </tr>\n",
       "    <tr>\n",
       "      <th>598576</th>\n",
       "      <td>4294942347</td>\n",
       "      <td>1</td>\n",
       "    </tr>\n",
       "    <tr>\n",
       "      <th>598577</th>\n",
       "      <td>4294961450</td>\n",
       "      <td>1</td>\n",
       "    </tr>\n",
       "    <tr>\n",
       "      <th>598578</th>\n",
       "      <td>4294964606</td>\n",
       "      <td>1</td>\n",
       "    </tr>\n",
       "  </tbody>\n",
       "</table>\n",
       "<p>598579 rows × 2 columns</p>\n",
       "</div>"
      ],
      "text/plain": [
       "           user_id  quantity_reviews\n",
       "0             8121                 1\n",
       "1            10859                 1\n",
       "2            14554                 1\n",
       "3            24624                 1\n",
       "4            37139                 1\n",
       "...            ...               ...\n",
       "598574  4294932540                 5\n",
       "598575  4294933279                 1\n",
       "598576  4294942347                 1\n",
       "598577  4294961450                 1\n",
       "598578  4294964606                 1\n",
       "\n",
       "[598579 rows x 2 columns]"
      ]
     },
     "execution_count": 333,
     "metadata": {},
     "output_type": "execute_result"
    }
   ],
   "source": [
    "total_players"
   ]
  },
  {
   "cell_type": "code",
   "execution_count": 336,
   "metadata": {
    "colab": {
     "base_uri": "https://localhost:8080/",
     "height": 351
    },
    "executionInfo": {
     "elapsed": 3914,
     "status": "ok",
     "timestamp": 1633162536765,
     "user": {
      "displayName": "Sebastian Campagnolo",
      "photoUrl": "https://lh3.googleusercontent.com/a-/AOh14Gg6pbROrzyday57jBRXk4J4eposq2tBYeW0Sr4=s64",
      "userId": "00251509339913289660"
     },
     "user_tz": -120
    },
    "id": "f2y7RmnuLxEg",
    "outputId": "5ce5b58c-de6a-4fa0-de03-c7975d491be7"
   },
   "outputs": [
    {
     "data": {
      "image/png": "[encoded data removed]",
      "text/plain": [
       "<Figure size 864x360 with 1 Axes>"
      ]
     },
     "metadata": {
      "needs_background": "light"
     },
     "output_type": "display_data"
    }
   ],
   "source": [
    "sns.histplot(data=total_players.quantity_reviews, bins=100)\n",
    "plt.title(\"Distribución de Cantidad de Reviews por Usuario\")\n",
    "#plt.xticks([0, 1, 2, 3, 4, 5, 6, 7, 8, 9, 10, 11, 12, 13, 14, 15, 16, 17, 18, 19, 20, 25, 30, 40, 50])\n",
    "plt.xlim(right=30) \n",
    "plt.xlim(left=0)\n",
    "plt.gcf().set_size_inches(12, 5)"
   ]
  },
  {
   "cell_type": "code",
   "execution_count": 337,
   "metadata": {
    "colab": {
     "base_uri": "https://localhost:8080/",
     "height": 351
    },
    "executionInfo": {
     "elapsed": 3226,
     "status": "ok",
     "timestamp": 1633162541527,
     "user": {
      "displayName": "Sebastian Campagnolo",
      "photoUrl": "https://lh3.googleusercontent.com/a-/AOh14Gg6pbROrzyday57jBRXk4J4eposq2tBYeW0Sr4=s64",
      "userId": "00251509339913289660"
     },
     "user_tz": -120
    },
    "id": "7zKWvqF4LxEg",
    "outputId": "7ce7ef36-528b-46d4-9f0a-8fb36713c25b"
   },
   "outputs": [
    {
     "data": {
      "image/png": "[encoded data removed]",
      "text/plain": [
       "<Figure size 864x360 with 1 Axes>"
      ]
     },
     "metadata": {
      "needs_background": "light"
     },
     "output_type": "display_data"
    }
   ],
   "source": [
    "mask_quantity_reviews = (total_players.quantity_reviews > 1)\n",
    "sns.histplot(data=total_players[mask_quantity_reviews].quantity_reviews, bins=100)\n",
    "plt.title(\"Distribución de Cantidad de Reviews por Usuario (mayor a 2)\")\n",
    "plt.xticks([0, 1, 2, 3, 4, 5, 6, 7, 8, 9, 10, 11, 12, 13, 14, 15, 16, 17, 18, 19, 20, 25, 30])\n",
    "plt.xlim(right=30) \n",
    "plt.xlim(left=1)  \n",
    "plt.gcf().set_size_inches(12, 5)"
   ]
  },
  {
   "cell_type": "markdown",
   "metadata": {
    "id": "8DGa-UiDLxEg"
   },
   "source": [
    "### Escalado de datos para obtener las calificaciones"
   ]
  },
  {
   "cell_type": "markdown",
   "metadata": {
    "id": "h89iAssDLxEh"
   },
   "source": [
    "Para obtener una calificación, es necesario que cada una de las partes que la componen se encuentre en la misma escala. Para ello debemos definir un scaler; en nuestro caso optamos por *MinMaxScaler*."
   ]
  },
  {
   "cell_type": "code",
   "execution_count": 338,
   "metadata": {
    "id": "oiG-S4COLxEh"
   },
   "outputs": [],
   "source": [
    "## Defino un scaler para cada conjunto de variable :\n",
    "scaler_popularidad = MinMaxScaler(feature_range=(1,5))\n",
    "scaler_played_time = MinMaxScaler(feature_range=(1,5))\n",
    "\n",
    "scaler_popularidad.fit(df_reviewsxgame[['sum_hours']])\n",
    "scaler_played_time.fit(df_reviewsxgame[['hours']]) # Escalado del Tiempo jugado por X jugador a Y juego\n",
    "array_popularidad_escaladas = scaler_popularidad.transform(df_reviewsxgame[['sum_hours']])\n",
    "array_played_time_escaladas = scaler_played_time.transform(df_reviewsxgame[['hours']])"
   ]
  },
  {
   "cell_type": "code",
   "execution_count": 339,
   "metadata": {
    "colab": {
     "base_uri": "https://localhost:8080/"
    },
    "executionInfo": {
     "elapsed": 375,
     "status": "ok",
     "timestamp": 1633163467775,
     "user": {
      "displayName": "Sebastian Campagnolo",
      "photoUrl": "https://lh3.googleusercontent.com/a-/AOh14Gg6pbROrzyday57jBRXk4J4eposq2tBYeW0Sr4=s64",
      "userId": "00251509339913289660"
     },
     "user_tz": -120
    },
    "id": "vRaa6UFaLxEh",
    "outputId": "fba456d2-d43d-497f-af60-57e9e9751d5c"
   },
   "outputs": [
    {
     "data": {
      "text/plain": [
       "(775105, 5)"
      ]
     },
     "execution_count": 339,
     "metadata": {},
     "output_type": "execute_result"
    }
   ],
   "source": [
    "data_reviews.shape"
   ]
  },
  {
   "cell_type": "code",
   "execution_count": 340,
   "metadata": {
    "colab": {
     "base_uri": "https://localhost:8080/"
    },
    "executionInfo": {
     "elapsed": 494,
     "status": "ok",
     "timestamp": 1633163469570,
     "user": {
      "displayName": "Sebastian Campagnolo",
      "photoUrl": "https://lh3.googleusercontent.com/a-/AOh14Gg6pbROrzyday57jBRXk4J4eposq2tBYeW0Sr4=s64",
      "userId": "00251509339913289660"
     },
     "user_tz": -120
    },
    "id": "w66gJHrpLxEh",
    "outputId": "839cbaa1-e847-46a9-b58c-c81bc02e5f57"
   },
   "outputs": [
    {
     "data": {
      "text/plain": [
       "array([[1.0000142 ],\n",
       "       [1.00187473],\n",
       "       [1.0000142 ],\n",
       "       ...,\n",
       "       [1.02890214],\n",
       "       [1.01985513],\n",
       "       [3.18363869]])"
      ]
     },
     "execution_count": 340,
     "metadata": {},
     "output_type": "execute_result"
    }
   ],
   "source": [
    "np.array(array_popularidad_escaladas)\n",
    "np.array(array_played_time_escaladas)"
   ]
  },
  {
   "cell_type": "code",
   "execution_count": 341,
   "metadata": {
    "id": "A2F92dT3LxEh"
   },
   "outputs": [],
   "source": [
    "df_aux_popularidad = pd.DataFrame(array_popularidad_escaladas, columns = ['sum_hours_scaled'])\n",
    "df_aux_played_time = pd.DataFrame(array_played_time_escaladas, columns = ['hours_scaled'])"
   ]
  },
  {
   "cell_type": "markdown",
   "metadata": {
    "id": "3PHCzLC-LxEh"
   },
   "source": [
    "Agrego la información escalada al DataFrame general"
   ]
  },
  {
   "cell_type": "code",
   "execution_count": 342,
   "metadata": {
    "id": "pexARGbbLxEi"
   },
   "outputs": [],
   "source": [
    "df_reviewsxgame = pd.concat([df_reviewsxgame, df_aux_popularidad], axis=1)"
   ]
  },
  {
   "cell_type": "code",
   "execution_count": 343,
   "metadata": {
    "id": "BaFcZ4NRIr2R"
   },
   "outputs": [],
   "source": [
    "df_reviewsxgame = pd.concat([df_reviewsxgame, df_aux_played_time], axis=1)"
   ]
  },
  {
   "cell_type": "code",
   "execution_count": 344,
   "metadata": {
    "colab": {
     "base_uri": "https://localhost:8080/",
     "height": 458
    },
    "executionInfo": {
     "elapsed": 1984,
     "status": "ok",
     "timestamp": 1633163634667,
     "user": {
      "displayName": "Sebastian Campagnolo",
      "photoUrl": "https://lh3.googleusercontent.com/a-/AOh14Gg6pbROrzyday57jBRXk4J4eposq2tBYeW0Sr4=s64",
      "userId": "00251509339913289660"
     },
     "user_tz": -120
    },
    "id": "C9VyQnJZLxEi",
    "outputId": "23b965f8-78ca-4b2b-8581-ec0a7c8afa0b"
   },
   "outputs": [
    {
     "data": {
      "text/html": [
       "<div>\n",
       "<style scoped>\n",
       "    .dataframe tbody tr th:only-of-type {\n",
       "        vertical-align: middle;\n",
       "    }\n",
       "\n",
       "    .dataframe tbody tr th {\n",
       "        vertical-align: top;\n",
       "    }\n",
       "\n",
       "    .dataframe thead th {\n",
       "        text-align: right;\n",
       "    }\n",
       "</style>\n",
       "<table border=\"1\" class=\"dataframe\">\n",
       "  <thead>\n",
       "    <tr style=\"text-align: right;\">\n",
       "      <th></th>\n",
       "      <th>username</th>\n",
       "      <th>hours</th>\n",
       "      <th>products</th>\n",
       "      <th>product_id</th>\n",
       "      <th>user_id</th>\n",
       "      <th>app_name</th>\n",
       "      <th>early_access</th>\n",
       "      <th>id</th>\n",
       "      <th>price_free</th>\n",
       "      <th>enc_sentiment</th>\n",
       "      <th>sum_hours</th>\n",
       "      <th>sum_hours_scaled</th>\n",
       "      <th>hours_scaled</th>\n",
       "    </tr>\n",
       "  </thead>\n",
       "  <tbody>\n",
       "    <tr>\n",
       "      <th>0</th>\n",
       "      <td>Chaos Syren</td>\n",
       "      <td>0.1</td>\n",
       "      <td>41.0</td>\n",
       "      <td>725280</td>\n",
       "      <td>2368950420</td>\n",
       "      <td>Psi Project</td>\n",
       "      <td>False</td>\n",
       "      <td>725280</td>\n",
       "      <td>5</td>\n",
       "      <td>4.0</td>\n",
       "      <td>0.2</td>\n",
       "      <td>1.000000</td>\n",
       "      <td>1.000014</td>\n",
       "    </tr>\n",
       "    <tr>\n",
       "      <th>1</th>\n",
       "      <td>Ariman1</td>\n",
       "      <td>13.2</td>\n",
       "      <td>1386.0</td>\n",
       "      <td>328100</td>\n",
       "      <td>2398386944</td>\n",
       "      <td>Gunspell - Steam Edition</td>\n",
       "      <td>False</td>\n",
       "      <td>328100</td>\n",
       "      <td>5</td>\n",
       "      <td>2.5</td>\n",
       "      <td>26.6</td>\n",
       "      <td>1.000008</td>\n",
       "      <td>1.001875</td>\n",
       "    </tr>\n",
       "    <tr>\n",
       "      <th>2</th>\n",
       "      <td>freakfantom</td>\n",
       "      <td>0.1</td>\n",
       "      <td>1706.0</td>\n",
       "      <td>725280</td>\n",
       "      <td>1440805404</td>\n",
       "      <td>Psi Project</td>\n",
       "      <td>False</td>\n",
       "      <td>725280</td>\n",
       "      <td>5</td>\n",
       "      <td>4.0</td>\n",
       "      <td>0.2</td>\n",
       "      <td>1.000000</td>\n",
       "      <td>1.000014</td>\n",
       "    </tr>\n",
       "    <tr>\n",
       "      <th>3</th>\n",
       "      <td>The_Cpt_FROGGY</td>\n",
       "      <td>7.8</td>\n",
       "      <td>2217.0</td>\n",
       "      <td>631920</td>\n",
       "      <td>3174070216</td>\n",
       "      <td>Somewhere on Zibylon</td>\n",
       "      <td>False</td>\n",
       "      <td>631920</td>\n",
       "      <td>5</td>\n",
       "      <td>4.0</td>\n",
       "      <td>46.2</td>\n",
       "      <td>1.000014</td>\n",
       "      <td>1.001108</td>\n",
       "    </tr>\n",
       "    <tr>\n",
       "      <th>4</th>\n",
       "      <td>the_maker988</td>\n",
       "      <td>8.2</td>\n",
       "      <td>18.0</td>\n",
       "      <td>35140</td>\n",
       "      <td>1757560494</td>\n",
       "      <td>Batman: Arkham Asylum Game of the Year Edition</td>\n",
       "      <td>False</td>\n",
       "      <td>35140</td>\n",
       "      <td>5</td>\n",
       "      <td>5.0</td>\n",
       "      <td>19101.9</td>\n",
       "      <td>1.005750</td>\n",
       "      <td>1.001165</td>\n",
       "    </tr>\n",
       "    <tr>\n",
       "      <th>...</th>\n",
       "      <td>...</td>\n",
       "      <td>...</td>\n",
       "      <td>...</td>\n",
       "      <td>...</td>\n",
       "      <td>...</td>\n",
       "      <td>...</td>\n",
       "      <td>...</td>\n",
       "      <td>...</td>\n",
       "      <td>...</td>\n",
       "      <td>...</td>\n",
       "      <td>...</td>\n",
       "      <td>...</td>\n",
       "      <td>...</td>\n",
       "    </tr>\n",
       "    <tr>\n",
       "      <th>775744</th>\n",
       "      <td>Vidaar</td>\n",
       "      <td>783.5</td>\n",
       "      <td>353.0</td>\n",
       "      <td>252490</td>\n",
       "      <td>1938294537</td>\n",
       "      <td>Rust</td>\n",
       "      <td>True</td>\n",
       "      <td>252490</td>\n",
       "      <td>5</td>\n",
       "      <td>4.5</td>\n",
       "      <td>4440065.5</td>\n",
       "      <td>2.336523</td>\n",
       "      <td>1.111277</td>\n",
       "    </tr>\n",
       "    <tr>\n",
       "      <th>775745</th>\n",
       "      <td>Nikolai Belinski</td>\n",
       "      <td>55.1</td>\n",
       "      <td>204.0</td>\n",
       "      <td>252490</td>\n",
       "      <td>507719600</td>\n",
       "      <td>Rust</td>\n",
       "      <td>True</td>\n",
       "      <td>252490</td>\n",
       "      <td>5</td>\n",
       "      <td>4.5</td>\n",
       "      <td>4440065.5</td>\n",
       "      <td>2.336523</td>\n",
       "      <td>1.007826</td>\n",
       "    </tr>\n",
       "    <tr>\n",
       "      <th>775746</th>\n",
       "      <td>RancorZealot</td>\n",
       "      <td>203.5</td>\n",
       "      <td>173.0</td>\n",
       "      <td>252490</td>\n",
       "      <td>160671997</td>\n",
       "      <td>Rust</td>\n",
       "      <td>True</td>\n",
       "      <td>252490</td>\n",
       "      <td>5</td>\n",
       "      <td>4.5</td>\n",
       "      <td>4440065.5</td>\n",
       "      <td>2.336523</td>\n",
       "      <td>1.028902</td>\n",
       "    </tr>\n",
       "    <tr>\n",
       "      <th>775747</th>\n",
       "      <td>Jerry</td>\n",
       "      <td>139.8</td>\n",
       "      <td>79.0</td>\n",
       "      <td>252490</td>\n",
       "      <td>1009062422</td>\n",
       "      <td>Rust</td>\n",
       "      <td>True</td>\n",
       "      <td>252490</td>\n",
       "      <td>5</td>\n",
       "      <td>4.5</td>\n",
       "      <td>4440065.5</td>\n",
       "      <td>2.336523</td>\n",
       "      <td>1.019855</td>\n",
       "    </tr>\n",
       "    <tr>\n",
       "      <th>775748</th>\n",
       "      <td>Helk</td>\n",
       "      <td>15375.0</td>\n",
       "      <td>98.0</td>\n",
       "      <td>252490</td>\n",
       "      <td>235885905</td>\n",
       "      <td>Rust</td>\n",
       "      <td>True</td>\n",
       "      <td>252490</td>\n",
       "      <td>5</td>\n",
       "      <td>4.5</td>\n",
       "      <td>4440065.5</td>\n",
       "      <td>2.336523</td>\n",
       "      <td>3.183639</td>\n",
       "    </tr>\n",
       "  </tbody>\n",
       "</table>\n",
       "<p>775749 rows × 13 columns</p>\n",
       "</div>"
      ],
      "text/plain": [
       "                username    hours  products product_id     user_id  \\\n",
       "0            Chaos Syren      0.1      41.0     725280  2368950420   \n",
       "1                Ariman1     13.2    1386.0     328100  2398386944   \n",
       "2            freakfantom      0.1    1706.0     725280  1440805404   \n",
       "3         The_Cpt_FROGGY      7.8    2217.0     631920  3174070216   \n",
       "4           the_maker988      8.2      18.0      35140  1757560494   \n",
       "...                  ...      ...       ...        ...         ...   \n",
       "775744            Vidaar    783.5     353.0     252490  1938294537   \n",
       "775745  Nikolai Belinski     55.1     204.0     252490   507719600   \n",
       "775746      RancorZealot    203.5     173.0     252490   160671997   \n",
       "775747             Jerry    139.8      79.0     252490  1009062422   \n",
       "775748              Helk  15375.0      98.0     252490   235885905   \n",
       "\n",
       "                                              app_name  early_access      id  \\\n",
       "0                                          Psi Project         False  725280   \n",
       "1                             Gunspell - Steam Edition         False  328100   \n",
       "2                                          Psi Project         False  725280   \n",
       "3                                 Somewhere on Zibylon         False  631920   \n",
       "4       Batman: Arkham Asylum Game of the Year Edition         False   35140   \n",
       "...                                                ...           ...     ...   \n",
       "775744                                            Rust          True  252490   \n",
       "775745                                            Rust          True  252490   \n",
       "775746                                            Rust          True  252490   \n",
       "775747                                            Rust          True  252490   \n",
       "775748                                            Rust          True  252490   \n",
       "\n",
       "        price_free  enc_sentiment  sum_hours  sum_hours_scaled  hours_scaled  \n",
       "0                5            4.0        0.2          1.000000      1.000014  \n",
       "1                5            2.5       26.6          1.000008      1.001875  \n",
       "2                5            4.0        0.2          1.000000      1.000014  \n",
       "3                5            4.0       46.2          1.000014      1.001108  \n",
       "4                5            5.0    19101.9          1.005750      1.001165  \n",
       "...            ...            ...        ...               ...           ...  \n",
       "775744           5            4.5  4440065.5          2.336523      1.111277  \n",
       "775745           5            4.5  4440065.5          2.336523      1.007826  \n",
       "775746           5            4.5  4440065.5          2.336523      1.028902  \n",
       "775747           5            4.5  4440065.5          2.336523      1.019855  \n",
       "775748           5            4.5  4440065.5          2.336523      3.183639  \n",
       "\n",
       "[775749 rows x 13 columns]"
      ]
     },
     "execution_count": 344,
     "metadata": {},
     "output_type": "execute_result"
    }
   ],
   "source": [
    "df_reviewsxgame"
   ]
  },
  {
   "cell_type": "code",
   "execution_count": 345,
   "metadata": {
    "colab": {
     "base_uri": "https://localhost:8080/"
    },
    "executionInfo": {
     "elapsed": 323,
     "status": "ok",
     "timestamp": 1633163658566,
     "user": {
      "displayName": "Sebastian Campagnolo",
      "photoUrl": "https://lh3.googleusercontent.com/a-/AOh14Gg6pbROrzyday57jBRXk4J4eposq2tBYeW0Sr4=s64",
      "userId": "00251509339913289660"
     },
     "user_tz": -120
    },
    "id": "OaKxwhcETy22",
    "outputId": "e2641675-9711-4f71-af72-4604e7a2b0b1"
   },
   "outputs": [
    {
     "data": {
      "text/plain": [
       "username             object\n",
       "hours               float64\n",
       "products            float64\n",
       "product_id           object\n",
       "user_id              uint32\n",
       "app_name             object\n",
       "early_access           bool\n",
       "id                   object\n",
       "price_free             int8\n",
       "enc_sentiment       float32\n",
       "sum_hours           float64\n",
       "sum_hours_scaled    float64\n",
       "hours_scaled        float64\n",
       "dtype: object"
      ]
     },
     "execution_count": 345,
     "metadata": {},
     "output_type": "execute_result"
    }
   ],
   "source": [
    "df_reviewsxgame.dtypes\n"
   ]
  },
  {
   "cell_type": "markdown",
   "metadata": {
    "id": "e5shMziDLxEi"
   },
   "source": [
    "##### En este punto, disponemos de un DataFrame con toda la información para calcular la calificación de cada juego según nuestro sistema de puntuación"
   ]
  },
  {
   "cell_type": "code",
   "execution_count": 346,
   "metadata": {
    "id": "BXnr7SMgLxEi"
   },
   "outputs": [],
   "source": [
    "df_reviewsxgame.loc[:,'rating'] = df_reviewsxgame.apply(lambda row: (calculateRating(row['price_free'],row['enc_sentiment'],row['sum_hours_scaled'],row['hours_scaled'])\n",
    "                                                           ),axis=1)"
   ]
  },
  {
   "cell_type": "code",
   "execution_count": 347,
   "metadata": {
    "colab": {
     "base_uri": "https://localhost:8080/",
     "height": 528
    },
    "executionInfo": {
     "elapsed": 2374,
     "status": "ok",
     "timestamp": 1633164111657,
     "user": {
      "displayName": "Sebastian Campagnolo",
      "photoUrl": "https://lh3.googleusercontent.com/a-/AOh14Gg6pbROrzyday57jBRXk4J4eposq2tBYeW0Sr4=s64",
      "userId": "00251509339913289660"
     },
     "user_tz": -120
    },
    "id": "9T2K1SjsLxEj",
    "outputId": "7d19442b-16c1-4735-c7ff-b2f2f9fe0678"
   },
   "outputs": [
    {
     "data": {
      "text/html": [
       "<div>\n",
       "<style scoped>\n",
       "    .dataframe tbody tr th:only-of-type {\n",
       "        vertical-align: middle;\n",
       "    }\n",
       "\n",
       "    .dataframe tbody tr th {\n",
       "        vertical-align: top;\n",
       "    }\n",
       "\n",
       "    .dataframe thead th {\n",
       "        text-align: right;\n",
       "    }\n",
       "</style>\n",
       "<table border=\"1\" class=\"dataframe\">\n",
       "  <thead>\n",
       "    <tr style=\"text-align: right;\">\n",
       "      <th></th>\n",
       "      <th>username</th>\n",
       "      <th>hours</th>\n",
       "      <th>products</th>\n",
       "      <th>product_id</th>\n",
       "      <th>user_id</th>\n",
       "      <th>app_name</th>\n",
       "      <th>early_access</th>\n",
       "      <th>id</th>\n",
       "      <th>price_free</th>\n",
       "      <th>enc_sentiment</th>\n",
       "      <th>sum_hours</th>\n",
       "      <th>sum_hours_scaled</th>\n",
       "      <th>hours_scaled</th>\n",
       "      <th>rating</th>\n",
       "    </tr>\n",
       "  </thead>\n",
       "  <tbody>\n",
       "    <tr>\n",
       "      <th>0</th>\n",
       "      <td>Chaos Syren</td>\n",
       "      <td>0.1</td>\n",
       "      <td>41.0</td>\n",
       "      <td>725280</td>\n",
       "      <td>2368950420</td>\n",
       "      <td>Psi Project</td>\n",
       "      <td>False</td>\n",
       "      <td>725280</td>\n",
       "      <td>5</td>\n",
       "      <td>4.0</td>\n",
       "      <td>0.2</td>\n",
       "      <td>1.000000</td>\n",
       "      <td>1.000014</td>\n",
       "      <td>2</td>\n",
       "    </tr>\n",
       "    <tr>\n",
       "      <th>1</th>\n",
       "      <td>Ariman1</td>\n",
       "      <td>13.2</td>\n",
       "      <td>1386.0</td>\n",
       "      <td>328100</td>\n",
       "      <td>2398386944</td>\n",
       "      <td>Gunspell - Steam Edition</td>\n",
       "      <td>False</td>\n",
       "      <td>328100</td>\n",
       "      <td>5</td>\n",
       "      <td>2.5</td>\n",
       "      <td>26.6</td>\n",
       "      <td>1.000008</td>\n",
       "      <td>1.001875</td>\n",
       "      <td>2</td>\n",
       "    </tr>\n",
       "    <tr>\n",
       "      <th>2</th>\n",
       "      <td>freakfantom</td>\n",
       "      <td>0.1</td>\n",
       "      <td>1706.0</td>\n",
       "      <td>725280</td>\n",
       "      <td>1440805404</td>\n",
       "      <td>Psi Project</td>\n",
       "      <td>False</td>\n",
       "      <td>725280</td>\n",
       "      <td>5</td>\n",
       "      <td>4.0</td>\n",
       "      <td>0.2</td>\n",
       "      <td>1.000000</td>\n",
       "      <td>1.000014</td>\n",
       "      <td>2</td>\n",
       "    </tr>\n",
       "    <tr>\n",
       "      <th>3</th>\n",
       "      <td>The_Cpt_FROGGY</td>\n",
       "      <td>7.8</td>\n",
       "      <td>2217.0</td>\n",
       "      <td>631920</td>\n",
       "      <td>3174070216</td>\n",
       "      <td>Somewhere on Zibylon</td>\n",
       "      <td>False</td>\n",
       "      <td>631920</td>\n",
       "      <td>5</td>\n",
       "      <td>4.0</td>\n",
       "      <td>46.2</td>\n",
       "      <td>1.000014</td>\n",
       "      <td>1.001108</td>\n",
       "      <td>2</td>\n",
       "    </tr>\n",
       "    <tr>\n",
       "      <th>4</th>\n",
       "      <td>the_maker988</td>\n",
       "      <td>8.2</td>\n",
       "      <td>18.0</td>\n",
       "      <td>35140</td>\n",
       "      <td>1757560494</td>\n",
       "      <td>Batman: Arkham Asylum Game of the Year Edition</td>\n",
       "      <td>False</td>\n",
       "      <td>35140</td>\n",
       "      <td>5</td>\n",
       "      <td>5.0</td>\n",
       "      <td>19101.9</td>\n",
       "      <td>1.005750</td>\n",
       "      <td>1.001165</td>\n",
       "      <td>3</td>\n",
       "    </tr>\n",
       "    <tr>\n",
       "      <th>...</th>\n",
       "      <td>...</td>\n",
       "      <td>...</td>\n",
       "      <td>...</td>\n",
       "      <td>...</td>\n",
       "      <td>...</td>\n",
       "      <td>...</td>\n",
       "      <td>...</td>\n",
       "      <td>...</td>\n",
       "      <td>...</td>\n",
       "      <td>...</td>\n",
       "      <td>...</td>\n",
       "      <td>...</td>\n",
       "      <td>...</td>\n",
       "      <td>...</td>\n",
       "    </tr>\n",
       "    <tr>\n",
       "      <th>775744</th>\n",
       "      <td>Vidaar</td>\n",
       "      <td>783.5</td>\n",
       "      <td>353.0</td>\n",
       "      <td>252490</td>\n",
       "      <td>1938294537</td>\n",
       "      <td>Rust</td>\n",
       "      <td>True</td>\n",
       "      <td>252490</td>\n",
       "      <td>5</td>\n",
       "      <td>4.5</td>\n",
       "      <td>4440065.5</td>\n",
       "      <td>2.336523</td>\n",
       "      <td>1.111277</td>\n",
       "      <td>3</td>\n",
       "    </tr>\n",
       "    <tr>\n",
       "      <th>775745</th>\n",
       "      <td>Nikolai Belinski</td>\n",
       "      <td>55.1</td>\n",
       "      <td>204.0</td>\n",
       "      <td>252490</td>\n",
       "      <td>507719600</td>\n",
       "      <td>Rust</td>\n",
       "      <td>True</td>\n",
       "      <td>252490</td>\n",
       "      <td>5</td>\n",
       "      <td>4.5</td>\n",
       "      <td>4440065.5</td>\n",
       "      <td>2.336523</td>\n",
       "      <td>1.007826</td>\n",
       "      <td>3</td>\n",
       "    </tr>\n",
       "    <tr>\n",
       "      <th>775746</th>\n",
       "      <td>RancorZealot</td>\n",
       "      <td>203.5</td>\n",
       "      <td>173.0</td>\n",
       "      <td>252490</td>\n",
       "      <td>160671997</td>\n",
       "      <td>Rust</td>\n",
       "      <td>True</td>\n",
       "      <td>252490</td>\n",
       "      <td>5</td>\n",
       "      <td>4.5</td>\n",
       "      <td>4440065.5</td>\n",
       "      <td>2.336523</td>\n",
       "      <td>1.028902</td>\n",
       "      <td>3</td>\n",
       "    </tr>\n",
       "    <tr>\n",
       "      <th>775747</th>\n",
       "      <td>Jerry</td>\n",
       "      <td>139.8</td>\n",
       "      <td>79.0</td>\n",
       "      <td>252490</td>\n",
       "      <td>1009062422</td>\n",
       "      <td>Rust</td>\n",
       "      <td>True</td>\n",
       "      <td>252490</td>\n",
       "      <td>5</td>\n",
       "      <td>4.5</td>\n",
       "      <td>4440065.5</td>\n",
       "      <td>2.336523</td>\n",
       "      <td>1.019855</td>\n",
       "      <td>3</td>\n",
       "    </tr>\n",
       "    <tr>\n",
       "      <th>775748</th>\n",
       "      <td>Helk</td>\n",
       "      <td>15375.0</td>\n",
       "      <td>98.0</td>\n",
       "      <td>252490</td>\n",
       "      <td>235885905</td>\n",
       "      <td>Rust</td>\n",
       "      <td>True</td>\n",
       "      <td>252490</td>\n",
       "      <td>5</td>\n",
       "      <td>4.5</td>\n",
       "      <td>4440065.5</td>\n",
       "      <td>2.336523</td>\n",
       "      <td>3.183639</td>\n",
       "      <td>4</td>\n",
       "    </tr>\n",
       "  </tbody>\n",
       "</table>\n",
       "<p>775749 rows × 14 columns</p>\n",
       "</div>"
      ],
      "text/plain": [
       "                username    hours  products product_id     user_id  \\\n",
       "0            Chaos Syren      0.1      41.0     725280  2368950420   \n",
       "1                Ariman1     13.2    1386.0     328100  2398386944   \n",
       "2            freakfantom      0.1    1706.0     725280  1440805404   \n",
       "3         The_Cpt_FROGGY      7.8    2217.0     631920  3174070216   \n",
       "4           the_maker988      8.2      18.0      35140  1757560494   \n",
       "...                  ...      ...       ...        ...         ...   \n",
       "775744            Vidaar    783.5     353.0     252490  1938294537   \n",
       "775745  Nikolai Belinski     55.1     204.0     252490   507719600   \n",
       "775746      RancorZealot    203.5     173.0     252490   160671997   \n",
       "775747             Jerry    139.8      79.0     252490  1009062422   \n",
       "775748              Helk  15375.0      98.0     252490   235885905   \n",
       "\n",
       "                                              app_name  early_access      id  \\\n",
       "0                                          Psi Project         False  725280   \n",
       "1                             Gunspell - Steam Edition         False  328100   \n",
       "2                                          Psi Project         False  725280   \n",
       "3                                 Somewhere on Zibylon         False  631920   \n",
       "4       Batman: Arkham Asylum Game of the Year Edition         False   35140   \n",
       "...                                                ...           ...     ...   \n",
       "775744                                            Rust          True  252490   \n",
       "775745                                            Rust          True  252490   \n",
       "775746                                            Rust          True  252490   \n",
       "775747                                            Rust          True  252490   \n",
       "775748                                            Rust          True  252490   \n",
       "\n",
       "        price_free  enc_sentiment  sum_hours  sum_hours_scaled  hours_scaled  \\\n",
       "0                5            4.0        0.2          1.000000      1.000014   \n",
       "1                5            2.5       26.6          1.000008      1.001875   \n",
       "2                5            4.0        0.2          1.000000      1.000014   \n",
       "3                5            4.0       46.2          1.000014      1.001108   \n",
       "4                5            5.0    19101.9          1.005750      1.001165   \n",
       "...            ...            ...        ...               ...           ...   \n",
       "775744           5            4.5  4440065.5          2.336523      1.111277   \n",
       "775745           5            4.5  4440065.5          2.336523      1.007826   \n",
       "775746           5            4.5  4440065.5          2.336523      1.028902   \n",
       "775747           5            4.5  4440065.5          2.336523      1.019855   \n",
       "775748           5            4.5  4440065.5          2.336523      3.183639   \n",
       "\n",
       "        rating  \n",
       "0            2  \n",
       "1            2  \n",
       "2            2  \n",
       "3            2  \n",
       "4            3  \n",
       "...        ...  \n",
       "775744       3  \n",
       "775745       3  \n",
       "775746       3  \n",
       "775747       3  \n",
       "775748       4  \n",
       "\n",
       "[775749 rows x 14 columns]"
      ]
     },
     "execution_count": 347,
     "metadata": {},
     "output_type": "execute_result"
    }
   ],
   "source": [
    "df_reviewsxgame"
   ]
  },
  {
   "cell_type": "markdown",
   "metadata": {
    "id": "lLiRgSjwLxEj"
   },
   "source": [
    "### Matriz de Ratings"
   ]
  },
  {
   "cell_type": "markdown",
   "metadata": {
    "id": "Qd_9rfAALxEj"
   },
   "source": [
    "Creamos un DataFrame únicamente con la información que necesitamos: *user_id*, *product_id*, *rating*.\n",
    "Partiendo de la Matriz de Ratings podemos llegar a la **Matriz de Utilidad** si tomamos todos los usuarios y todos los juegos; de esta manera obtendríamos las celdas con rating y las celdas vacías que caracterizan a dicha matriz. "
   ]
  },
  {
   "cell_type": "code",
   "execution_count": 348,
   "metadata": {
    "id": "UMwXvZN3LxEj"
   },
   "outputs": [],
   "source": [
    "df_ratings_matrix = df_reviewsxgame.loc[:, ['user_id', 'product_id', 'rating']]"
   ]
  },
  {
   "cell_type": "code",
   "execution_count": 349,
   "metadata": {
    "id": "dSbWJVpPLxEj"
   },
   "outputs": [],
   "source": [
    "#df_ratings_matrix.infer_objects().dtypes\n",
    "df_ratings_matrix['user_id'] = pd.to_numeric(df_ratings_matrix.user_id, downcast=\"unsigned\")\n",
    "df_ratings_matrix['product_id'] = pd.to_numeric(df_ratings_matrix.product_id, downcast=\"integer\")\n",
    "df_ratings_matrix['rating'] = pd.to_numeric(df_ratings_matrix.rating, downcast=\"integer\")"
   ]
  },
  {
   "cell_type": "code",
   "execution_count": 350,
   "metadata": {
    "colab": {
     "base_uri": "https://localhost:8080/",
     "height": 206
    },
    "executionInfo": {
     "elapsed": 1498,
     "status": "ok",
     "timestamp": 1633164148181,
     "user": {
      "displayName": "Sebastian Campagnolo",
      "photoUrl": "https://lh3.googleusercontent.com/a-/AOh14Gg6pbROrzyday57jBRXk4J4eposq2tBYeW0Sr4=s64",
      "userId": "00251509339913289660"
     },
     "user_tz": -120
    },
    "id": "hSPcBflkLxEj",
    "outputId": "168428d4-4bf5-4bcb-d99e-a2ede7c5c645"
   },
   "outputs": [
    {
     "data": {
      "text/html": [
       "<div>\n",
       "<style scoped>\n",
       "    .dataframe tbody tr th:only-of-type {\n",
       "        vertical-align: middle;\n",
       "    }\n",
       "\n",
       "    .dataframe tbody tr th {\n",
       "        vertical-align: top;\n",
       "    }\n",
       "\n",
       "    .dataframe thead th {\n",
       "        text-align: right;\n",
       "    }\n",
       "</style>\n",
       "<table border=\"1\" class=\"dataframe\">\n",
       "  <thead>\n",
       "    <tr style=\"text-align: right;\">\n",
       "      <th></th>\n",
       "      <th>user_id</th>\n",
       "      <th>product_id</th>\n",
       "      <th>rating</th>\n",
       "    </tr>\n",
       "  </thead>\n",
       "  <tbody>\n",
       "    <tr>\n",
       "      <th>0</th>\n",
       "      <td>2368950420</td>\n",
       "      <td>725280</td>\n",
       "      <td>2</td>\n",
       "    </tr>\n",
       "    <tr>\n",
       "      <th>1</th>\n",
       "      <td>2398386944</td>\n",
       "      <td>328100</td>\n",
       "      <td>2</td>\n",
       "    </tr>\n",
       "    <tr>\n",
       "      <th>2</th>\n",
       "      <td>1440805404</td>\n",
       "      <td>725280</td>\n",
       "      <td>2</td>\n",
       "    </tr>\n",
       "    <tr>\n",
       "      <th>3</th>\n",
       "      <td>3174070216</td>\n",
       "      <td>631920</td>\n",
       "      <td>2</td>\n",
       "    </tr>\n",
       "    <tr>\n",
       "      <th>4</th>\n",
       "      <td>1757560494</td>\n",
       "      <td>35140</td>\n",
       "      <td>3</td>\n",
       "    </tr>\n",
       "  </tbody>\n",
       "</table>\n",
       "</div>"
      ],
      "text/plain": [
       "      user_id  product_id  rating\n",
       "0  2368950420      725280       2\n",
       "1  2398386944      328100       2\n",
       "2  1440805404      725280       2\n",
       "3  3174070216      631920       2\n",
       "4  1757560494       35140       3"
      ]
     },
     "execution_count": 350,
     "metadata": {},
     "output_type": "execute_result"
    }
   ],
   "source": [
    "df_ratings_matrix.head()"
   ]
  },
  {
   "cell_type": "code",
   "execution_count": 351,
   "metadata": {
    "colab": {
     "base_uri": "https://localhost:8080/"
    },
    "executionInfo": {
     "elapsed": 303,
     "status": "ok",
     "timestamp": 1633164158592,
     "user": {
      "displayName": "Sebastian Campagnolo",
      "photoUrl": "https://lh3.googleusercontent.com/a-/AOh14Gg6pbROrzyday57jBRXk4J4eposq2tBYeW0Sr4=s64",
      "userId": "00251509339913289660"
     },
     "user_tz": -120
    },
    "id": "UOXyTAnMLxEk",
    "outputId": "2c33a8fb-b081-4692-b194-32a39b0a42c7"
   },
   "outputs": [
    {
     "data": {
      "text/plain": [
       "user_id       uint32\n",
       "product_id     int32\n",
       "rating          int8\n",
       "dtype: object"
      ]
     },
     "execution_count": 351,
     "metadata": {},
     "output_type": "execute_result"
    }
   ],
   "source": [
    "df_ratings_matrix.dtypes"
   ]
  },
  {
   "cell_type": "markdown",
   "metadata": {
    "id": "dg1miq03LxEk"
   },
   "source": [
    "Una información útil en este punto es ver cómo es la distribución de las calificaciones (ratings) generada por nuestro algoritmo"
   ]
  },
  {
   "cell_type": "code",
   "execution_count": 352,
   "metadata": {
    "colab": {
     "base_uri": "https://localhost:8080/",
     "height": 362
    },
    "executionInfo": {
     "elapsed": 1077,
     "status": "ok",
     "timestamp": 1633164170564,
     "user": {
      "displayName": "Sebastian Campagnolo",
      "photoUrl": "https://lh3.googleusercontent.com/a-/AOh14Gg6pbROrzyday57jBRXk4J4eposq2tBYeW0Sr4=s64",
      "userId": "00251509339913289660"
     },
     "user_tz": -120
    },
    "id": "tusUEWj2LxEk",
    "outputId": "1df95f51-d2e8-4212-e8b4-f69b2fc2c5aa"
   },
   "outputs": [
    {
     "data": {
      "text/plain": [
       "(array([2.42000e+04, 0.00000e+00, 0.00000e+00, 5.78977e+05, 0.00000e+00,\n",
       "        0.00000e+00, 1.72552e+05, 0.00000e+00, 0.00000e+00, 2.00000e+01]),\n",
       " array([1. , 1.3, 1.6, 1.9, 2.2, 2.5, 2.8, 3.1, 3.4, 3.7, 4. ]),\n",
       " <a list of 10 Patch objects>)"
      ]
     },
     "execution_count": 352,
     "metadata": {},
     "output_type": "execute_result"
    },
    {
     "data": {
      "image/png": "[encoded data removed]",
      "text/plain": [
       "<Figure size 432x288 with 1 Axes>"
      ]
     },
     "metadata": {
      "needs_background": "light"
     },
     "output_type": "display_data"
    }
   ],
   "source": [
    "plt.hist(df_ratings_matrix.rating)"
   ]
  },
  {
   "cell_type": "markdown",
   "metadata": {
    "id": "Ftqh5CqbLxEk"
   },
   "source": [
    "Como se observa en en el gráfico, la distribución de la variable *rating* no tiene el comportamiento esperado. El motivo por el cuál sucede esto viene dado por la variable *hours* del dataset de **Reviws**: al representar en nuestro algoritmo de calificaciones el 50% de la puntuación final, y siendo la distribución de dicha variable completamente distinta a una Normal con máximos de valor en torno a las 5.000 horas de juego para unas pocas filas (ver gráfico siguiente), la gran mayoría de éstas toma valores muy bajos provocando que nuestra calificación final sea también muy baja en el 100% de los casos. Por tal motivo, debemos desestimar el uso de *MinMaxScaler* para la variable *hours*, y realizar un escalado a mano adoptando la siguiente estrategia:<br>\n",
    "* 0<hours<=0.5 -> hours_scaled=1\n",
    "* 0.5<hours<=1.5 -> hours_scaled=2\n",
    "* 1.5<hours<=5 -> hours_scaled=3\n",
    "* 5<hours<=10 -> hours_scaled=4\n",
    "* hours>10 -> hours_scaled=5"
   ]
  },
  {
   "cell_type": "code",
   "execution_count": 353,
   "metadata": {
    "colab": {
     "base_uri": "https://localhost:8080/",
     "height": 380
    },
    "executionInfo": {
     "elapsed": 322,
     "status": "ok",
     "timestamp": 1633164174624,
     "user": {
      "displayName": "Sebastian Campagnolo",
      "photoUrl": "https://lh3.googleusercontent.com/a-/AOh14Gg6pbROrzyday57jBRXk4J4eposq2tBYeW0Sr4=s64",
      "userId": "00251509339913289660"
     },
     "user_tz": -120
    },
    "id": "Lk1qLdIuLxEk",
    "outputId": "269701cb-2204-4dd2-e241-cfb04b6d4291"
   },
   "outputs": [
    {
     "data": {
      "text/plain": [
       "(array([7.7215e+05, 2.5290e+03, 3.0500e+02, 7.2000e+01, 2.6000e+01,\n",
       "        1.1000e+01, 8.0000e+00, 2.0000e+00, 1.0000e+00, 1.0000e+00]),\n",
       " array([    0. ,  2816.4,  5632.8,  8449.2, 11265.6, 14082. , 16898.4,\n",
       "        19714.8, 22531.2, 25347.6, 28164. ]),\n",
       " <a list of 10 Patch objects>)"
      ]
     },
     "execution_count": 353,
     "metadata": {},
     "output_type": "execute_result"
    },
    {
     "data": {
      "image/png": "[encoded data removed]",
      "text/plain": [
       "<Figure size 432x288 with 1 Axes>"
      ]
     },
     "metadata": {
      "needs_background": "light"
     },
     "output_type": "display_data"
    }
   ],
   "source": [
    "plt.hist(data_reviews.hours)"
   ]
  },
  {
   "cell_type": "markdown",
   "metadata": {
    "id": "sfEBY_KhLxEl"
   },
   "source": [
    "Usamos una función lambda para poblar nuevamente la columna *hours_scaled* en df_reviewsxgame"
   ]
  },
  {
   "cell_type": "code",
   "execution_count": 354,
   "metadata": {
    "id": "HbjVwJ9ELxEl"
   },
   "outputs": [],
   "source": [
    "df_reviewsxgame.loc[:,'hours_scaled'] = df_reviewsxgame.apply(lambda row: (customScalerHours(row['hours'])\n",
    "                                                           ),axis=1)"
   ]
  },
  {
   "cell_type": "code",
   "execution_count": 355,
   "metadata": {
    "colab": {
     "base_uri": "https://localhost:8080/",
     "height": 346
    },
    "executionInfo": {
     "elapsed": 874,
     "status": "ok",
     "timestamp": 1633164249786,
     "user": {
      "displayName": "Sebastian Campagnolo",
      "photoUrl": "https://lh3.googleusercontent.com/a-/AOh14Gg6pbROrzyday57jBRXk4J4eposq2tBYeW0Sr4=s64",
      "userId": "00251509339913289660"
     },
     "user_tz": -120
    },
    "id": "bT9rLJwKLxEl",
    "outputId": "a4ff34c8-7600-410e-9ce9-e3166937b6d6"
   },
   "outputs": [
    {
     "data": {
      "text/plain": [
       "(array([ 38524.,      0.,  58109.,      0.,      0., 180211.,      0.,\n",
       "        145497.,      0., 353408.]),\n",
       " array([1. , 1.4, 1.8, 2.2, 2.6, 3. , 3.4, 3.8, 4.2, 4.6, 5. ]),\n",
       " <a list of 10 Patch objects>)"
      ]
     },
     "execution_count": 355,
     "metadata": {},
     "output_type": "execute_result"
    },
    {
     "data": {
      "image/png": "[encoded data removed]",
      "text/plain": [
       "<Figure size 432x288 with 1 Axes>"
      ]
     },
     "metadata": {
      "needs_background": "light"
     },
     "output_type": "display_data"
    }
   ],
   "source": [
    "plt.hist(df_reviewsxgame.hours_scaled)"
   ]
  },
  {
   "cell_type": "markdown",
   "metadata": {
    "id": "v2Nwt6iELxEm"
   },
   "source": [
    "Calculamos nuevamente los ratings del dataframe df_reviewsxgame"
   ]
  },
  {
   "cell_type": "code",
   "execution_count": 356,
   "metadata": {
    "id": "YqWSCs1YLxEm"
   },
   "outputs": [],
   "source": [
    "df_reviewsxgame.loc[:,'rating'] = df_reviewsxgame.apply(lambda row: (calculateRating(row['price_free'],row['enc_sentiment'],row['sum_hours_scaled'],row['hours_scaled'])\n",
    "                                                           ),axis=1)"
   ]
  },
  {
   "cell_type": "markdown",
   "metadata": {
    "id": "OqsW9mfSLxEm"
   },
   "source": [
    "Volvemos a generar la **Matriz de Ratings**"
   ]
  },
  {
   "cell_type": "code",
   "execution_count": 357,
   "metadata": {
    "id": "EOvwAjuZLxEm"
   },
   "outputs": [],
   "source": [
    "df_ratings_matrix = df_reviewsxgame.loc[:, ['user_id', 'product_id', 'rating']]\n",
    "df_ratings_matrix['user_id'] = pd.to_numeric(df_ratings_matrix.user_id, downcast=\"unsigned\")\n",
    "df_ratings_matrix['product_id'] = pd.to_numeric(df_ratings_matrix.product_id, downcast=\"integer\")\n",
    "df_ratings_matrix['rating'] = pd.to_numeric(df_ratings_matrix.rating, downcast=\"integer\")"
   ]
  },
  {
   "cell_type": "code",
   "execution_count": 358,
   "metadata": {
    "id": "LbZc9mXvLxEm"
   },
   "outputs": [],
   "source": [
    "df_ratings_matrix.to_csv('./proyecto4_matriz_ratings.csv', index= False)"
   ]
  },
  {
   "cell_type": "code",
   "execution_count": 359,
   "metadata": {
    "colab": {
     "base_uri": "https://localhost:8080/"
    },
    "executionInfo": {
     "elapsed": 346,
     "status": "ok",
     "timestamp": 1633164519426,
     "user": {
      "displayName": "Sebastian Campagnolo",
      "photoUrl": "https://lh3.googleusercontent.com/a-/AOh14Gg6pbROrzyday57jBRXk4J4eposq2tBYeW0Sr4=s64",
      "userId": "00251509339913289660"
     },
     "user_tz": -120
    },
    "id": "DqCxlfWULxEn",
    "outputId": "35528a7f-276e-43c9-a013-e3508b200a70"
   },
   "outputs": [
    {
     "data": {
      "text/plain": [
       "98444"
      ]
     },
     "execution_count": 359,
     "metadata": {},
     "output_type": "execute_result"
    }
   ],
   "source": [
    "gc.collect()"
   ]
  },
  {
   "cell_type": "markdown",
   "metadata": {
    "id": "V1b_e8sNLxEn"
   },
   "source": [
    "\n",
    "##################################################################################\n"
   ]
  },
  {
   "cell_type": "markdown",
   "metadata": {
    "id": "dryc_sB7LxEn"
   },
   "source": [
    "## **Modelado y Entrenamiento**"
   ]
  },
  {
   "cell_type": "markdown",
   "metadata": {
    "id": "iwqERWptLxEn"
   },
   "source": [
    "A partir de acá utilizamos el archivo generado, para no tener que pre-procesar nuevamente toda la información previa. Comenzamos con la utilización de la biblioteca **Surprise**, que ofrece herramientas específicas para modelar un sistema de recomendación"
   ]
  },
  {
   "cell_type": "code",
   "execution_count": 3,
   "metadata": {
    "colab": {
     "base_uri": "https://localhost:8080/",
     "height": 221
    },
    "executionInfo": {
     "elapsed": 4894,
     "status": "ok",
     "timestamp": 1637319439835,
     "user": {
      "displayName": "Sebastian Campagnolo",
      "photoUrl": "https://lh3.googleusercontent.com/a-/AOh14Gg6pbROrzyday57jBRXk4J4eposq2tBYeW0Sr4=s64",
      "userId": "00251509339913289660"
     },
     "user_tz": -60
    },
    "id": "awH58yLpLxEo",
    "outputId": "d0447872-9d98-4115-85bc-9da48c704c46"
   },
   "outputs": [
    {
     "name": "stdout",
     "output_type": "stream",
     "text": [
      "(775749, 3)\n"
     ]
    },
    {
     "data": {
      "text/html": [
       "<div>\n",
       "<style scoped>\n",
       "    .dataframe tbody tr th:only-of-type {\n",
       "        vertical-align: middle;\n",
       "    }\n",
       "\n",
       "    .dataframe tbody tr th {\n",
       "        vertical-align: top;\n",
       "    }\n",
       "\n",
       "    .dataframe thead th {\n",
       "        text-align: right;\n",
       "    }\n",
       "</style>\n",
       "<table border=\"1\" class=\"dataframe\">\n",
       "  <thead>\n",
       "    <tr style=\"text-align: right;\">\n",
       "      <th></th>\n",
       "      <th>user_id</th>\n",
       "      <th>product_id</th>\n",
       "      <th>rating</th>\n",
       "    </tr>\n",
       "  </thead>\n",
       "  <tbody>\n",
       "    <tr>\n",
       "      <th>0</th>\n",
       "      <td>2368950420</td>\n",
       "      <td>725280</td>\n",
       "      <td>2</td>\n",
       "    </tr>\n",
       "    <tr>\n",
       "      <th>1</th>\n",
       "      <td>2398386944</td>\n",
       "      <td>328100</td>\n",
       "      <td>3</td>\n",
       "    </tr>\n",
       "    <tr>\n",
       "      <th>2</th>\n",
       "      <td>1440805404</td>\n",
       "      <td>725280</td>\n",
       "      <td>2</td>\n",
       "    </tr>\n",
       "    <tr>\n",
       "      <th>3</th>\n",
       "      <td>3174070216</td>\n",
       "      <td>631920</td>\n",
       "      <td>3</td>\n",
       "    </tr>\n",
       "    <tr>\n",
       "      <th>4</th>\n",
       "      <td>1757560494</td>\n",
       "      <td>35140</td>\n",
       "      <td>4</td>\n",
       "    </tr>\n",
       "  </tbody>\n",
       "</table>\n",
       "</div>"
      ],
      "text/plain": [
       "      user_id  product_id  rating\n",
       "0  2368950420      725280       2\n",
       "1  2398386944      328100       3\n",
       "2  1440805404      725280       2\n",
       "3  3174070216      631920       3\n",
       "4  1757560494       35140       4"
      ]
     },
     "execution_count": 3,
     "metadata": {},
     "output_type": "execute_result"
    }
   ],
   "source": [
    "df_ratings_matrix = pd.read_csv('./proyecto4_matriz_ratings.csv', dtype={'user_id':np.uint32, 'rating': np.int8, 'product_id': np.int32})\n",
    "print(df_ratings_matrix.shape)\n",
    "df_ratings_matrix.head()"
   ]
  },
  {
   "cell_type": "code",
   "execution_count": 4,
   "metadata": {
    "colab": {
     "base_uri": "https://localhost:8080/"
    },
    "executionInfo": {
     "elapsed": 464,
     "status": "ok",
     "timestamp": 1636912462471,
     "user": {
      "displayName": "Sebastian Campagnolo",
      "photoUrl": "https://lh3.googleusercontent.com/a-/AOh14Gg6pbROrzyday57jBRXk4J4eposq2tBYeW0Sr4=s64",
      "userId": "00251509339913289660"
     },
     "user_tz": -60
    },
    "id": "FrZqIFOBLxEo",
    "outputId": "bdcb9081-6a51-4ab0-b516-0d78d0ed8d16"
   },
   "outputs": [
    {
     "data": {
      "text/plain": [
       "user_id       uint32\n",
       "product_id     int32\n",
       "rating          int8\n",
       "dtype: object"
      ]
     },
     "execution_count": 4,
     "metadata": {},
     "output_type": "execute_result"
    }
   ],
   "source": [
    "df_ratings_matrix.dtypes"
   ]
  },
  {
   "cell_type": "markdown",
   "metadata": {
    "id": "wLXWaxxhV7lE"
   },
   "source": [
    "Cargo el dataset de *Games* reducido para tener disponible el *id* de los Juegos y los *titulos*"
   ]
  },
  {
   "cell_type": "code",
   "execution_count": 5,
   "metadata": {
    "id": "p8tMy8UUV78G"
   },
   "outputs": [],
   "source": [
    "df_games_light = pd.read_csv('./proyecto4_data_games_light.csv', dtype={'id': np.int32})"
   ]
  },
  {
   "cell_type": "code",
   "execution_count": 6,
   "metadata": {
    "colab": {
     "base_uri": "https://localhost:8080/"
    },
    "executionInfo": {
     "elapsed": 233,
     "status": "ok",
     "timestamp": 1633164858882,
     "user": {
      "displayName": "Sebastian Campagnolo",
      "photoUrl": "https://lh3.googleusercontent.com/a-/AOh14Gg6pbROrzyday57jBRXk4J4eposq2tBYeW0Sr4=s64",
      "userId": "00251509339913289660"
     },
     "user_tz": -120
    },
    "id": "r_Zklbsu0Vuj",
    "outputId": "a5f3ac8a-ce69-4565-8a5a-f7717c9ddc24"
   },
   "outputs": [
    {
     "data": {
      "text/plain": [
       "app_name    object\n",
       "id           int32\n",
       "dtype: object"
      ]
     },
     "execution_count": 6,
     "metadata": {},
     "output_type": "execute_result"
    }
   ],
   "source": [
    "df_games_light.dtypes"
   ]
  },
  {
   "cell_type": "markdown",
   "metadata": {
    "id": "Oqzx2NQ9LxEp"
   },
   "source": [
    "Miramos nuevamente cómo es la distribución de las calificaciones"
   ]
  },
  {
   "cell_type": "code",
   "execution_count": 364,
   "metadata": {
    "colab": {
     "base_uri": "https://localhost:8080/",
     "height": 343
    },
    "executionInfo": {
     "elapsed": 1622,
     "status": "ok",
     "timestamp": 1636912512521,
     "user": {
      "displayName": "Sebastian Campagnolo",
      "photoUrl": "https://lh3.googleusercontent.com/a-/AOh14Gg6pbROrzyday57jBRXk4J4eposq2tBYeW0Sr4=s64",
      "userId": "00251509339913289660"
     },
     "user_tz": -60
    },
    "id": "5favYqY9LxEp",
    "outputId": "70ad501a-f2d1-454c-c9f1-803deaf1a914"
   },
   "outputs": [
    {
     "data": {
      "text/plain": [
       "(array([  3658.,      0.,  54095.,      0.,      0., 218586.,      0.,\n",
       "        416605.,      0.,  82805.]),\n",
       " array([1. , 1.4, 1.8, 2.2, 2.6, 3. , 3.4, 3.8, 4.2, 4.6, 5. ]),\n",
       " <a list of 10 Patch objects>)"
      ]
     },
     "execution_count": 364,
     "metadata": {},
     "output_type": "execute_result"
    },
    {
     "data": {
      "image/png": "[encoded data removed]",
      "text/plain": [
       "<Figure size 432x288 with 1 Axes>"
      ]
     },
     "metadata": {
      "needs_background": "light"
     },
     "output_type": "display_data"
    }
   ],
   "source": [
    "plt.hist(df_ratings_matrix.rating)"
   ]
  },
  {
   "cell_type": "code",
   "execution_count": 26,
   "metadata": {
    "id": "9UIostGuLxEp"
   },
   "outputs": [],
   "source": [
    "reader = Reader(rating_scale=(1, 5))"
   ]
  },
  {
   "cell_type": "markdown",
   "metadata": {
    "id": "eWw7gqLjLxEq"
   },
   "source": [
    "Generamos un dataset con el formato que usa la biblioteca *Surprise* a partir de nuestra matriz de ratings"
   ]
  },
  {
   "cell_type": "code",
   "execution_count": 27,
   "metadata": {
    "id": "T-v0090tLxEq"
   },
   "outputs": [],
   "source": [
    "data_ratings = Dataset.load_from_df(df_ratings_matrix[['user_id', 'product_id', 'rating']], reader)"
   ]
  },
  {
   "cell_type": "code",
   "execution_count": null,
   "metadata": {},
   "outputs": [],
   "source": []
  },
  {
   "cell_type": "code",
   "execution_count": null,
   "metadata": {},
   "outputs": [],
   "source": []
  },
  {
   "cell_type": "markdown",
   "metadata": {
    "id": "CPYEtGuvLxEq"
   },
   "source": [
    "### Modelo de Benchmark"
   ]
  },
  {
   "cell_type": "markdown",
   "metadata": {
    "id": "w4tyOsUiLxEq"
   },
   "source": [
    "Generamos un modelo de Benchmark que utilizaremos para comparar los resultados de nuestro modelo final. En este caso, tomamos *Baseline Only* y aplicamos la función *cross_validate* de *Surprise* que realiza todo en un paso. <br> (Nota: Intenté utilizar *KNN Basic*, que permite por ejemplo setear el algoritmo de cálculo de distancia entre usuarios, pero no pude resolver el error de falta de memoria)"
   ]
  },
  {
   "cell_type": "code",
   "execution_count": 24,
   "metadata": {
    "id": "ssbBxQYvLxEq"
   },
   "outputs": [],
   "source": [
    "bsl_benchmark_options = {'method': 'sgd',\n",
    "               'n_epochs': 20,\n",
    "               }\n",
    "#sim_benchmark_options = {'name': 'cosine', 'user_based': True}\n",
    "#algo_benchmark = KNNBasic(bsl_options=bsl_benchmark_options, sim_options=sim_benchmark_options)\n",
    "\n",
    "#algo_benchmark = BaselineOnly(bsl_options=bsl_benchmark_options)"
   ]
  },
  {
   "cell_type": "code",
   "execution_count": 28,
   "metadata": {
    "colab": {
     "base_uri": "https://localhost:8080/"
    },
    "executionInfo": {
     "elapsed": 474857,
     "status": "ok",
     "timestamp": 1633174798482,
     "user": {
      "displayName": "Sebastian Campagnolo",
      "photoUrl": "https://lh3.googleusercontent.com/a-/AOh14Gg6pbROrzyday57jBRXk4J4eposq2tBYeW0Sr4=s64",
      "userId": "00251509339913289660"
     },
     "user_tz": -120
    },
    "id": "k0hh1L-FLxEq",
    "outputId": "b048aa15-3352-469e-dd6d-bfa8ad6dc223"
   },
   "outputs": [
    {
     "name": "stdout",
     "output_type": "stream",
     "text": [
      "Estimating biases using sgd...\n",
      "Estimating biases using sgd...\n",
      "Estimating biases using sgd...\n"
     ]
    }
   ],
   "source": [
    "benchmark = []\n",
    "# Iterate over all algorithms\n",
    "for algorithm in [BaselineOnly(bsl_benchmark_options)]:\n",
    "    # Perform cross validation\n",
    "    results = cross_validate(algorithm, data_ratings, measures=['RMSE'], cv=3, verbose=False)\n",
    "\n",
    "    # Get results & append algorithm name\n",
    "    tmp = pd.DataFrame.from_dict(results).mean(axis=0)\n",
    "    tmp = tmp.append(pd.Series([str(algorithm).split(' ')[0].split('.')[-1]], index=['Algorithm']))\n",
    "    benchmark.append(tmp)\n",
    "    \n",
    "dfBenchmark = pd.DataFrame(benchmark)     "
   ]
  },
  {
   "cell_type": "code",
   "execution_count": 29,
   "metadata": {
    "colab": {
     "base_uri": "https://localhost:8080/",
     "height": 81
    },
    "executionInfo": {
     "elapsed": 233,
     "status": "ok",
     "timestamp": 1633174819486,
     "user": {
      "displayName": "Sebastian Campagnolo",
      "photoUrl": "https://lh3.googleusercontent.com/a-/AOh14Gg6pbROrzyday57jBRXk4J4eposq2tBYeW0Sr4=s64",
      "userId": "00251509339913289660"
     },
     "user_tz": -120
    },
    "id": "RlD8rATmLxEr",
    "outputId": "3ee8ec58-692d-4ac4-feeb-57cd158ecff9"
   },
   "outputs": [
    {
     "data": {
      "text/html": [
       "<div>\n",
       "<style scoped>\n",
       "    .dataframe tbody tr th:only-of-type {\n",
       "        vertical-align: middle;\n",
       "    }\n",
       "\n",
       "    .dataframe tbody tr th {\n",
       "        vertical-align: top;\n",
       "    }\n",
       "\n",
       "    .dataframe thead th {\n",
       "        text-align: right;\n",
       "    }\n",
       "</style>\n",
       "<table border=\"1\" class=\"dataframe\">\n",
       "  <thead>\n",
       "    <tr style=\"text-align: right;\">\n",
       "      <th></th>\n",
       "      <th>test_rmse</th>\n",
       "      <th>fit_time</th>\n",
       "      <th>test_time</th>\n",
       "      <th>Algorithm</th>\n",
       "    </tr>\n",
       "  </thead>\n",
       "  <tbody>\n",
       "    <tr>\n",
       "      <th>0</th>\n",
       "      <td>0.531541</td>\n",
       "      <td>4.328527</td>\n",
       "      <td>3.529844</td>\n",
       "      <td>BaselineOnly</td>\n",
       "    </tr>\n",
       "  </tbody>\n",
       "</table>\n",
       "</div>"
      ],
      "text/plain": [
       "   test_rmse  fit_time  test_time     Algorithm\n",
       "0   0.531541  4.328527   3.529844  BaselineOnly"
      ]
     },
     "execution_count": 29,
     "metadata": {},
     "output_type": "execute_result"
    }
   ],
   "source": [
    "dfBenchmark"
   ]
  },
  {
   "cell_type": "code",
   "execution_count": 30,
   "metadata": {
    "id": "IGX6lGr-vxAT"
   },
   "outputs": [],
   "source": [
    "rmse_benchmark = dfBenchmark['test_rmse'][0]"
   ]
  },
  {
   "cell_type": "code",
   "execution_count": 31,
   "metadata": {
    "colab": {
     "base_uri": "https://localhost:8080/"
    },
    "executionInfo": {
     "elapsed": 4524,
     "status": "ok",
     "timestamp": 1633174316108,
     "user": {
      "displayName": "Sebastian Campagnolo",
      "photoUrl": "https://lh3.googleusercontent.com/a-/AOh14Gg6pbROrzyday57jBRXk4J4eposq2tBYeW0Sr4=s64",
      "userId": "00251509339913289660"
     },
     "user_tz": -120
    },
    "id": "Db-H-OP0IlC4",
    "outputId": "3bf1be50-0134-4e51-b51d-798513efff7d"
   },
   "outputs": [
    {
     "data": {
      "text/plain": [
       "24"
      ]
     },
     "execution_count": 31,
     "metadata": {},
     "output_type": "execute_result"
    }
   ],
   "source": [
    "gc.collect()"
   ]
  },
  {
   "cell_type": "markdown",
   "metadata": {
    "id": "l4zJwqn9LxEr"
   },
   "source": [
    "### Modelo Final"
   ]
  },
  {
   "cell_type": "markdown",
   "metadata": {
    "id": "Z5nv_aM6LxEr"
   },
   "source": [
    "Entrenamos un algoritmo *SVD*"
   ]
  },
  {
   "cell_type": "code",
   "execution_count": 32,
   "metadata": {
    "id": "53GzZSyiLxEs"
   },
   "outputs": [],
   "source": [
    "#Esta vez, tomo el 90% de los datos para Testing (como haremos mós adelante con el Modelo de Redes Neuronales)\n",
    "trainset, testset = train_test_split(data_ratings, test_size=.10)"
   ]
  },
  {
   "cell_type": "code",
   "execution_count": 33,
   "metadata": {
    "id": "9La79rlsLxEs"
   },
   "outputs": [],
   "source": [
    "algo = SVD()"
   ]
  },
  {
   "cell_type": "code",
   "execution_count": 34,
   "metadata": {
    "colab": {
     "base_uri": "https://localhost:8080/"
    },
    "executionInfo": {
     "elapsed": 382236,
     "status": "ok",
     "timestamp": 1633166653250,
     "user": {
      "displayName": "Sebastian Campagnolo",
      "photoUrl": "https://lh3.googleusercontent.com/a-/AOh14Gg6pbROrzyday57jBRXk4J4eposq2tBYeW0Sr4=s64",
      "userId": "00251509339913289660"
     },
     "user_tz": -120
    },
    "id": "H8jKuqfqLxEs",
    "outputId": "2709cf97-c32e-42d8-ad6f-6aba25cffe8a"
   },
   "outputs": [
    {
     "data": {
      "text/plain": [
       "<surprise.prediction_algorithms.matrix_factorization.SVD at 0x1afb293ec88>"
      ]
     },
     "execution_count": 34,
     "metadata": {},
     "output_type": "execute_result"
    }
   ],
   "source": [
    "algo.fit(trainset)"
   ]
  },
  {
   "cell_type": "code",
   "execution_count": 35,
   "metadata": {
    "colab": {
     "base_uri": "https://localhost:8080/"
    },
    "executionInfo": {
     "elapsed": 2499,
     "status": "ok",
     "timestamp": 1633166655745,
     "user": {
      "displayName": "Sebastian Campagnolo",
      "photoUrl": "https://lh3.googleusercontent.com/a-/AOh14Gg6pbROrzyday57jBRXk4J4eposq2tBYeW0Sr4=s64",
      "userId": "00251509339913289660"
     },
     "user_tz": -120
    },
    "id": "PkS-7RoYK1H5",
    "outputId": "bad6ecd1-ad85-422d-a817-16050e305798"
   },
   "outputs": [
    {
     "data": {
      "text/plain": [
       "0"
      ]
     },
     "execution_count": 35,
     "metadata": {},
     "output_type": "execute_result"
    }
   ],
   "source": [
    "gc.collect()"
   ]
  },
  {
   "cell_type": "markdown",
   "metadata": {
    "id": "5kzZ6fpGSxnL"
   },
   "source": [
    "Hacemos predicciones sobre el lote de testing"
   ]
  },
  {
   "cell_type": "code",
   "execution_count": 36,
   "metadata": {
    "id": "EB7B7duKLxEs"
   },
   "outputs": [],
   "source": [
    "predictions = algo.test(testset)"
   ]
  },
  {
   "cell_type": "markdown",
   "metadata": {
    "id": "zhaGnoe2S4Yg"
   },
   "source": [
    "Tomamos una predicción al azar"
   ]
  },
  {
   "cell_type": "code",
   "execution_count": 37,
   "metadata": {
    "colab": {
     "base_uri": "https://localhost:8080/"
    },
    "executionInfo": {
     "elapsed": 269,
     "status": "ok",
     "timestamp": 1633173943080,
     "user": {
      "displayName": "Sebastian Campagnolo",
      "photoUrl": "https://lh3.googleusercontent.com/a-/AOh14Gg6pbROrzyday57jBRXk4J4eposq2tBYeW0Sr4=s64",
      "userId": "00251509339913289660"
     },
     "user_tz": -120
    },
    "id": "V3_YGGvvLxEt",
    "outputId": "433c2499-efe9-419e-af9b-f307806a30a9"
   },
   "outputs": [
    {
     "data": {
      "text/plain": [
       "Prediction(uid=212416194, iid=652980, r_ui=3.0, est=2.826826685126318, details={'was_impossible': False})"
      ]
     },
     "execution_count": 37,
     "metadata": {},
     "output_type": "execute_result"
    }
   ],
   "source": [
    "predictions[11]"
   ]
  },
  {
   "cell_type": "code",
   "execution_count": 38,
   "metadata": {
    "colab": {
     "base_uri": "https://localhost:8080/",
     "height": 1000
    },
    "executionInfo": {
     "elapsed": 238,
     "status": "ok",
     "timestamp": 1633173955749,
     "user": {
      "displayName": "Sebastian Campagnolo",
      "photoUrl": "https://lh3.googleusercontent.com/a-/AOh14Gg6pbROrzyday57jBRXk4J4eposq2tBYeW0Sr4=s64",
      "userId": "00251509339913289660"
     },
     "user_tz": -120
    },
    "id": "bt91skzgLxEt",
    "outputId": "94c37651-e7e2-4b06-85c5-24847708dc5c"
   },
   "outputs": [
    {
     "data": {
      "text/html": [
       "<div>\n",
       "<style scoped>\n",
       "    .dataframe tbody tr th:only-of-type {\n",
       "        vertical-align: middle;\n",
       "    }\n",
       "\n",
       "    .dataframe tbody tr th {\n",
       "        vertical-align: top;\n",
       "    }\n",
       "\n",
       "    .dataframe thead th {\n",
       "        text-align: right;\n",
       "    }\n",
       "</style>\n",
       "<table border=\"1\" class=\"dataframe\">\n",
       "  <thead>\n",
       "    <tr style=\"text-align: right;\">\n",
       "      <th></th>\n",
       "      <th>user_id</th>\n",
       "      <th>product_id</th>\n",
       "      <th>rating</th>\n",
       "      <th>user</th>\n",
       "      <th>game</th>\n",
       "    </tr>\n",
       "  </thead>\n",
       "  <tbody>\n",
       "    <tr>\n",
       "      <th>366025</th>\n",
       "      <td>1804600080</td>\n",
       "      <td>294040</td>\n",
       "      <td>3</td>\n",
       "      <td>310607</td>\n",
       "      <td>6334</td>\n",
       "    </tr>\n",
       "    <tr>\n",
       "      <th>451227</th>\n",
       "      <td>1804600080</td>\n",
       "      <td>70300</td>\n",
       "      <td>4</td>\n",
       "      <td>310607</td>\n",
       "      <td>7444</td>\n",
       "    </tr>\n",
       "    <tr>\n",
       "      <th>540923</th>\n",
       "      <td>1804600080</td>\n",
       "      <td>259550</td>\n",
       "      <td>4</td>\n",
       "      <td>310607</td>\n",
       "      <td>9182</td>\n",
       "    </tr>\n",
       "    <tr>\n",
       "      <th>723463</th>\n",
       "      <td>1804600080</td>\n",
       "      <td>205730</td>\n",
       "      <td>4</td>\n",
       "      <td>310607</td>\n",
       "      <td>12284</td>\n",
       "    </tr>\n",
       "  </tbody>\n",
       "</table>\n",
       "</div>"
      ],
      "text/plain": [
       "           user_id  product_id  rating    user   game\n",
       "366025  1804600080      294040       3  310607   6334\n",
       "451227  1804600080       70300       4  310607   7444\n",
       "540923  1804600080      259550       4  310607   9182\n",
       "723463  1804600080      205730       4  310607  12284"
      ]
     },
     "execution_count": 38,
     "metadata": {},
     "output_type": "execute_result"
    }
   ],
   "source": [
    "df_ratings_matrix[df_ratings_matrix.user_id==1804600080]"
   ]
  },
  {
   "cell_type": "markdown",
   "metadata": {
    "id": "qpKB56nqLxEt"
   },
   "source": [
    "Utilizamos RMSE como medida del error de nuestro algoritmo. Tanto MSE como RMSE usan las desviaciones al cuadrado, penalizando así los errores más grandes."
   ]
  },
  {
   "cell_type": "code",
   "execution_count": 39,
   "metadata": {
    "colab": {
     "base_uri": "https://localhost:8080/"
    },
    "executionInfo": {
     "elapsed": 3255,
     "status": "ok",
     "timestamp": 1633173965212,
     "user": {
      "displayName": "Sebastian Campagnolo",
      "photoUrl": "https://lh3.googleusercontent.com/a-/AOh14Gg6pbROrzyday57jBRXk4J4eposq2tBYeW0Sr4=s64",
      "userId": "00251509339913289660"
     },
     "user_tz": -120
    },
    "id": "WTEMaEihLxEt",
    "outputId": "7d3cf5e1-f65a-49e1-89e7-c6d12085ee76"
   },
   "outputs": [
    {
     "name": "stdout",
     "output_type": "stream",
     "text": [
      "RMSE: 0.5308\n"
     ]
    }
   ],
   "source": [
    "rmse_svd = accuracy.rmse(predictions)"
   ]
  },
  {
   "cell_type": "code",
   "execution_count": 40,
   "metadata": {
    "colab": {
     "base_uri": "https://localhost:8080/"
    },
    "executionInfo": {
     "elapsed": 271,
     "status": "ok",
     "timestamp": 1633013534676,
     "user": {
      "displayName": "Sebastian Campagnolo",
      "photoUrl": "https://lh3.googleusercontent.com/a-/AOh14Gg6pbROrzyday57jBRXk4J4eposq2tBYeW0Sr4=s64",
      "userId": "00251509339913289660"
     },
     "user_tz": -120
    },
    "id": "zvShOIApfTHm",
    "outputId": "543ec0c6-b0de-4cf8-e5ca-c481303b396a"
   },
   "outputs": [
    {
     "data": {
      "text/plain": [
       "0"
      ]
     },
     "execution_count": 40,
     "metadata": {},
     "output_type": "execute_result"
    }
   ],
   "source": [
    "gc.collect()"
   ]
  },
  {
   "cell_type": "markdown",
   "metadata": {
    "id": "Pemuz8ffLxEu"
   },
   "source": [
    "#### Optimización de Hyperparámetros"
   ]
  },
  {
   "cell_type": "markdown",
   "metadata": {
    "id": "SHZf64goLxEu"
   },
   "source": [
    "Utilizamos los valores default de referencia"
   ]
  },
  {
   "cell_type": "code",
   "execution_count": 41,
   "metadata": {
    "id": "2t6Xt15quujD"
   },
   "outputs": [],
   "source": [
    "from surprise.model_selection import RandomizedSearchCV"
   ]
  },
  {
   "cell_type": "code",
   "execution_count": 42,
   "metadata": {
    "id": "KOWpPS9gLxEu"
   },
   "outputs": [],
   "source": [
    "param_grid = {'n_epochs': [10], 'lr_all': [0.002, 0.005], 'reg_all': [0.4, 0.6],\n",
    "              'n_factors': [2, 4, 10]}\n",
    "gs = GridSearchCV(SVD, param_grid, measures=['rmse'], cv=3, n_jobs = 1)\n",
    "#gs = RandomizedSearchCV(SVD, param_grid, measures=['rmse'], cv=3, n_jobs = 1)\n",
    "gs.fit(data_ratings)"
   ]
  },
  {
   "cell_type": "code",
   "execution_count": 43,
   "metadata": {
    "colab": {
     "base_uri": "https://localhost:8080/"
    },
    "executionInfo": {
     "elapsed": 29,
     "status": "ok",
     "timestamp": 1633169383300,
     "user": {
      "displayName": "Sebastian Campagnolo",
      "photoUrl": "https://lh3.googleusercontent.com/a-/AOh14Gg6pbROrzyday57jBRXk4J4eposq2tBYeW0Sr4=s64",
      "userId": "00251509339913289660"
     },
     "user_tz": -120
    },
    "id": "GuxBXfaVLxEu",
    "outputId": "29ee5cc4-cb67-4e8d-e424-5f92a2aeb330"
   },
   "outputs": [
    {
     "name": "stdout",
     "output_type": "stream",
     "text": [
      "0.5626520443655013\n",
      "{'n_epochs': 10, 'lr_all': 0.005, 'reg_all': 0.4, 'n_factors': 2}\n"
     ]
    }
   ],
   "source": [
    "print(gs.best_score['rmse'])\n",
    "print(gs.best_params['rmse'])"
   ]
  },
  {
   "cell_type": "markdown",
   "metadata": {
    "id": "J7_vgyjWLxEv"
   },
   "source": [
    "Graficamos el error tomando los hyperparámetros óptimos, para los diferentes factores usados"
   ]
  },
  {
   "cell_type": "code",
   "execution_count": 44,
   "metadata": {
    "id": "kdXeL7YVLxEv"
   },
   "outputs": [],
   "source": [
    "factores = [2, 4, 10]\n",
    "rmse_test_means = []\n",
    "df_cv_results = pd.DataFrame(gs.cv_results)"
   ]
  },
  {
   "cell_type": "code",
   "execution_count": 45,
   "metadata": {
    "id": "lr5xtJqLLxEv"
   },
   "outputs": [],
   "source": [
    "mask_best_params = (df_cv_results.param_n_epochs==10) & (df_cv_results.param_lr_all==0.005) & (df_cv_results.param_reg_all==0.4)\n",
    "rmse_test_means.append(df_cv_results.mean_test_rmse[mask_best_params & (df_cv_results.param_n_factors==2)])\n",
    "rmse_test_means.append(df_cv_results.mean_test_rmse[mask_best_params & (df_cv_results.param_n_factors==4)])\n",
    "rmse_test_means.append(df_cv_results.mean_test_rmse[mask_best_params & (df_cv_results.param_n_factors==10)])"
   ]
  },
  {
   "cell_type": "code",
   "execution_count": 46,
   "metadata": {
    "colab": {
     "base_uri": "https://localhost:8080/",
     "height": 290
    },
    "executionInfo": {
     "elapsed": 343,
     "status": "ok",
     "timestamp": 1633169384595,
     "user": {
      "displayName": "Sebastian Campagnolo",
      "photoUrl": "https://lh3.googleusercontent.com/a-/AOh14Gg6pbROrzyday57jBRXk4J4eposq2tBYeW0Sr4=s64",
      "userId": "00251509339913289660"
     },
     "user_tz": -120
    },
    "id": "xDquZK2pLxEv",
    "outputId": "f26bbc26-cd5d-4c8a-f6c1-8dee25d4cf89"
   },
   "outputs": [
    {
     "data": {
      "image/png": "[encoded data removed]",
      "text/plain": [
       "<Figure size 432x288 with 1 Axes>"
      ]
     },
     "metadata": {
      "needs_background": "light"
     },
     "output_type": "display_data"
    }
   ],
   "source": [
    "plt.scatter(factores, rmse_test_means)\n",
    "plt.xlabel('Numero de factores')\n",
    "plt.ylabel('Error RMSE')\n",
    "plt.grid()\n",
    "plt.show()"
   ]
  },
  {
   "cell_type": "markdown",
   "metadata": {
    "id": "5mpVqlN1LxEv"
   },
   "source": [
    "#### Vemos qué juegos recomienda el sistema a un usuario tomado al azar"
   ]
  },
  {
   "cell_type": "markdown",
   "metadata": {
    "id": "rkxGWLOrLxEw"
   },
   "source": [
    "Juegos que calificó entre 4 y 5.\n",
    "\n",
    "Este mismo usuario será tomado para obtener las recomendaciones que nos dará el Recomendador implementado con Redes Neuronales."
   ]
  },
  {
   "cell_type": "code",
   "execution_count": 47,
   "metadata": {
    "id": "eGvY7OxALxEw"
   },
   "outputs": [],
   "source": [
    "usuario = df_ratings_matrix.user_id.sample(1).iloc[0]\n",
    "\n",
    "rating = 4   # Rating entre 4 y 5\n",
    "df_user = df_ratings_matrix[(df_ratings_matrix['user_id'] == usuario) & (df_ratings_matrix['rating'] >= rating)]\n",
    "df_user = df_user.reset_index(drop=True)"
   ]
  },
  {
   "cell_type": "code",
   "execution_count": 48,
   "metadata": {
    "colab": {
     "base_uri": "https://localhost:8080/"
    },
    "executionInfo": {
     "elapsed": 231,
     "status": "ok",
     "timestamp": 1633172721236,
     "user": {
      "displayName": "Sebastian Campagnolo",
      "photoUrl": "https://lh3.googleusercontent.com/a-/AOh14Gg6pbROrzyday57jBRXk4J4eposq2tBYeW0Sr4=s64",
      "userId": "00251509339913289660"
     },
     "user_tz": -120
    },
    "id": "8VQ6o3nfNXtQ",
    "outputId": "7bb88fb9-20d2-4e35-86db-49df7d344824"
   },
   "outputs": [
    {
     "data": {
      "text/plain": [
       "user_id       uint32\n",
       "product_id     int32\n",
       "rating          int8\n",
       "user           int64\n",
       "game           int64\n",
       "dtype: object"
      ]
     },
     "execution_count": 48,
     "metadata": {},
     "output_type": "execute_result"
    }
   ],
   "source": [
    "df_user.dtypes"
   ]
  },
  {
   "cell_type": "code",
   "execution_count": 49,
   "metadata": {
    "id": "vzz3FjvtLxEw"
   },
   "outputs": [],
   "source": [
    "df_user.loc[:,'GameName'] = df_user.apply(lambda row: ( df_games_light[(df_games_light.id==row['product_id'])].app_name.values[0]\n",
    "                                                           ),axis=1)"
   ]
  },
  {
   "cell_type": "code",
   "execution_count": 50,
   "metadata": {
    "colab": {
     "base_uri": "https://localhost:8080/",
     "height": 457
    },
    "executionInfo": {
     "elapsed": 373,
     "status": "ok",
     "timestamp": 1633172954221,
     "user": {
      "displayName": "Sebastian Campagnolo",
      "photoUrl": "https://lh3.googleusercontent.com/a-/AOh14Gg6pbROrzyday57jBRXk4J4eposq2tBYeW0Sr4=s64",
      "userId": "00251509339913289660"
     },
     "user_tz": -120
    },
    "id": "mII31rP7LxEw",
    "outputId": "96102a43-7d19-4aea-a89c-e92b332a92bc"
   },
   "outputs": [
    {
     "data": {
      "text/html": [
       "<div>\n",
       "<style scoped>\n",
       "    .dataframe tbody tr th:only-of-type {\n",
       "        vertical-align: middle;\n",
       "    }\n",
       "\n",
       "    .dataframe tbody tr th {\n",
       "        vertical-align: top;\n",
       "    }\n",
       "\n",
       "    .dataframe thead th {\n",
       "        text-align: right;\n",
       "    }\n",
       "</style>\n",
       "<table border=\"1\" class=\"dataframe\">\n",
       "  <thead>\n",
       "    <tr style=\"text-align: right;\">\n",
       "      <th></th>\n",
       "      <th>user_id</th>\n",
       "      <th>product_id</th>\n",
       "      <th>rating</th>\n",
       "      <th>user</th>\n",
       "      <th>game</th>\n",
       "      <th>GameName</th>\n",
       "    </tr>\n",
       "  </thead>\n",
       "  <tbody>\n",
       "    <tr>\n",
       "      <th>0</th>\n",
       "      <td>2174575373</td>\n",
       "      <td>35140</td>\n",
       "      <td>4</td>\n",
       "      <td>9629</td>\n",
       "      <td>3</td>\n",
       "      <td>Batman: Arkham Asylum Game of the Year Edition</td>\n",
       "    </tr>\n",
       "    <tr>\n",
       "      <th>1</th>\n",
       "      <td>2174575373</td>\n",
       "      <td>35720</td>\n",
       "      <td>4</td>\n",
       "      <td>9629</td>\n",
       "      <td>260</td>\n",
       "      <td>Trine 2: Complete Story</td>\n",
       "    </tr>\n",
       "    <tr>\n",
       "      <th>2</th>\n",
       "      <td>2174575373</td>\n",
       "      <td>500</td>\n",
       "      <td>4</td>\n",
       "      <td>9629</td>\n",
       "      <td>3218</td>\n",
       "      <td>Left 4 Dead</td>\n",
       "    </tr>\n",
       "    <tr>\n",
       "      <th>3</th>\n",
       "      <td>2174575373</td>\n",
       "      <td>99900</td>\n",
       "      <td>4</td>\n",
       "      <td>9629</td>\n",
       "      <td>3813</td>\n",
       "      <td>Spiral Knights</td>\n",
       "    </tr>\n",
       "    <tr>\n",
       "      <th>4</th>\n",
       "      <td>2174575373</td>\n",
       "      <td>3720</td>\n",
       "      <td>5</td>\n",
       "      <td>9629</td>\n",
       "      <td>5839</td>\n",
       "      <td>Evil Genius</td>\n",
       "    </tr>\n",
       "    <tr>\n",
       "      <th>5</th>\n",
       "      <td>2174575373</td>\n",
       "      <td>238320</td>\n",
       "      <td>4</td>\n",
       "      <td>9629</td>\n",
       "      <td>6929</td>\n",
       "      <td>Outlast</td>\n",
       "    </tr>\n",
       "    <tr>\n",
       "      <th>6</th>\n",
       "      <td>2174575373</td>\n",
       "      <td>22300</td>\n",
       "      <td>4</td>\n",
       "      <td>9629</td>\n",
       "      <td>7332</td>\n",
       "      <td>Fallout 3</td>\n",
       "    </tr>\n",
       "    <tr>\n",
       "      <th>7</th>\n",
       "      <td>2174575373</td>\n",
       "      <td>240</td>\n",
       "      <td>5</td>\n",
       "      <td>9629</td>\n",
       "      <td>7240</td>\n",
       "      <td>Counter-Strike: Source</td>\n",
       "    </tr>\n",
       "    <tr>\n",
       "      <th>8</th>\n",
       "      <td>2174575373</td>\n",
       "      <td>63200</td>\n",
       "      <td>4</td>\n",
       "      <td>9629</td>\n",
       "      <td>8072</td>\n",
       "      <td>Monday Night Combat</td>\n",
       "    </tr>\n",
       "    <tr>\n",
       "      <th>9</th>\n",
       "      <td>2174575373</td>\n",
       "      <td>233130</td>\n",
       "      <td>4</td>\n",
       "      <td>9629</td>\n",
       "      <td>9920</td>\n",
       "      <td>Shadow Warrior</td>\n",
       "    </tr>\n",
       "    <tr>\n",
       "      <th>10</th>\n",
       "      <td>2174575373</td>\n",
       "      <td>22600</td>\n",
       "      <td>4</td>\n",
       "      <td>9629</td>\n",
       "      <td>10467</td>\n",
       "      <td>Worms Reloaded</td>\n",
       "    </tr>\n",
       "    <tr>\n",
       "      <th>11</th>\n",
       "      <td>2174575373</td>\n",
       "      <td>241600</td>\n",
       "      <td>4</td>\n",
       "      <td>9629</td>\n",
       "      <td>12584</td>\n",
       "      <td>Rogue Legacy</td>\n",
       "    </tr>\n",
       "  </tbody>\n",
       "</table>\n",
       "</div>"
      ],
      "text/plain": [
       "       user_id  product_id  rating  user   game  \\\n",
       "0   2174575373       35140       4  9629      3   \n",
       "1   2174575373       35720       4  9629    260   \n",
       "2   2174575373         500       4  9629   3218   \n",
       "3   2174575373       99900       4  9629   3813   \n",
       "4   2174575373        3720       5  9629   5839   \n",
       "5   2174575373      238320       4  9629   6929   \n",
       "6   2174575373       22300       4  9629   7332   \n",
       "7   2174575373         240       5  9629   7240   \n",
       "8   2174575373       63200       4  9629   8072   \n",
       "9   2174575373      233130       4  9629   9920   \n",
       "10  2174575373       22600       4  9629  10467   \n",
       "11  2174575373      241600       4  9629  12584   \n",
       "\n",
       "                                          GameName  \n",
       "0   Batman: Arkham Asylum Game of the Year Edition  \n",
       "1                          Trine 2: Complete Story  \n",
       "2                                      Left 4 Dead  \n",
       "3                                   Spiral Knights  \n",
       "4                                      Evil Genius  \n",
       "5                                          Outlast  \n",
       "6                                        Fallout 3  \n",
       "7                           Counter-Strike: Source  \n",
       "8                              Monday Night Combat  \n",
       "9                                   Shadow Warrior  \n",
       "10                                  Worms Reloaded  \n",
       "11                                    Rogue Legacy  "
      ]
     },
     "execution_count": 50,
     "metadata": {},
     "output_type": "execute_result"
    }
   ],
   "source": [
    "df_user"
   ]
  },
  {
   "cell_type": "markdown",
   "metadata": {
    "id": "Q_IUtmpiWINd"
   },
   "source": [
    "Hacemos una copia del Dataframe de *Games*, que usaremos luego para hacer la recomendación"
   ]
  },
  {
   "cell_type": "code",
   "execution_count": 51,
   "metadata": {
    "colab": {
     "base_uri": "https://localhost:8080/",
     "height": 223
    },
    "executionInfo": {
     "elapsed": 256,
     "status": "ok",
     "timestamp": 1633173059585,
     "user": {
      "displayName": "Sebastian Campagnolo",
      "photoUrl": "https://lh3.googleusercontent.com/a-/AOh14Gg6pbROrzyday57jBRXk4J4eposq2tBYeW0Sr4=s64",
      "userId": "00251509339913289660"
     },
     "user_tz": -120
    },
    "id": "Fxhpti2ZLxEw",
    "outputId": "ee95db73-cd8e-4375-b477-a2cf4b9509d9"
   },
   "outputs": [
    {
     "name": "stdout",
     "output_type": "stream",
     "text": [
      "(32133, 2)\n"
     ]
    },
    {
     "data": {
      "text/html": [
       "<div>\n",
       "<style scoped>\n",
       "    .dataframe tbody tr th:only-of-type {\n",
       "        vertical-align: middle;\n",
       "    }\n",
       "\n",
       "    .dataframe tbody tr th {\n",
       "        vertical-align: top;\n",
       "    }\n",
       "\n",
       "    .dataframe thead th {\n",
       "        text-align: right;\n",
       "    }\n",
       "</style>\n",
       "<table border=\"1\" class=\"dataframe\">\n",
       "  <thead>\n",
       "    <tr style=\"text-align: right;\">\n",
       "      <th></th>\n",
       "      <th>app_name</th>\n",
       "      <th>id</th>\n",
       "    </tr>\n",
       "  </thead>\n",
       "  <tbody>\n",
       "    <tr>\n",
       "      <th>0</th>\n",
       "      <td>Lost Summoner Kitty</td>\n",
       "      <td>761140</td>\n",
       "    </tr>\n",
       "    <tr>\n",
       "      <th>1</th>\n",
       "      <td>Ironbound</td>\n",
       "      <td>643980</td>\n",
       "    </tr>\n",
       "    <tr>\n",
       "      <th>2</th>\n",
       "      <td>Real Pool 3D - Poolians</td>\n",
       "      <td>670290</td>\n",
       "    </tr>\n",
       "    <tr>\n",
       "      <th>3</th>\n",
       "      <td>弹炸人2222</td>\n",
       "      <td>767400</td>\n",
       "    </tr>\n",
       "    <tr>\n",
       "      <th>4</th>\n",
       "      <td>Log Challenge</td>\n",
       "      <td>773570</td>\n",
       "    </tr>\n",
       "  </tbody>\n",
       "</table>\n",
       "</div>"
      ],
      "text/plain": [
       "                  app_name      id\n",
       "0      Lost Summoner Kitty  761140\n",
       "1                Ironbound  643980\n",
       "2  Real Pool 3D - Poolians  670290\n",
       "3                  弹炸人2222  767400\n",
       "4            Log Challenge  773570"
      ]
     },
     "execution_count": 51,
     "metadata": {},
     "output_type": "execute_result"
    }
   ],
   "source": [
    "recomendaciones_usuario = df_games_light.copy()\n",
    "#recomendaciones_usuario.drop(columns={'early_access','price_free','enc_sentiment','sum_hours'}, inplace=True)\n",
    "print(recomendaciones_usuario.shape)\n",
    "recomendaciones_usuario.head()"
   ]
  },
  {
   "cell_type": "code",
   "execution_count": 52,
   "metadata": {
    "colab": {
     "base_uri": "https://localhost:8080/"
    },
    "executionInfo": {
     "elapsed": 233,
     "status": "ok",
     "timestamp": 1633173068701,
     "user": {
      "displayName": "Sebastian Campagnolo",
      "photoUrl": "https://lh3.googleusercontent.com/a-/AOh14Gg6pbROrzyday57jBRXk4J4eposq2tBYeW0Sr4=s64",
      "userId": "00251509339913289660"
     },
     "user_tz": -120
    },
    "id": "S80FIBsOWdLp",
    "outputId": "cdb8f69a-4ed3-42ff-9ffa-4c4621d23e64"
   },
   "outputs": [
    {
     "data": {
      "text/plain": [
       "app_name    object\n",
       "id           int32\n",
       "dtype: object"
      ]
     },
     "execution_count": 52,
     "metadata": {},
     "output_type": "execute_result"
    }
   ],
   "source": [
    "recomendaciones_usuario.dtypes"
   ]
  },
  {
   "cell_type": "markdown",
   "metadata": {
    "id": "n9YRiueFW33B"
   },
   "source": [
    "Armamos un dataframe con los juegos que el usuario jugó"
   ]
  },
  {
   "cell_type": "code",
   "execution_count": 53,
   "metadata": {
    "colab": {
     "base_uri": "https://localhost:8080/",
     "height": 223
    },
    "executionInfo": {
     "elapsed": 221,
     "status": "ok",
     "timestamp": 1633173097788,
     "user": {
      "displayName": "Sebastian Campagnolo",
      "photoUrl": "https://lh3.googleusercontent.com/a-/AOh14Gg6pbROrzyday57jBRXk4J4eposq2tBYeW0Sr4=s64",
      "userId": "00251509339913289660"
     },
     "user_tz": -120
    },
    "id": "5yChzJYaLxEx",
    "outputId": "1d49d659-7619-43bb-ac88-be74214c49e9"
   },
   "outputs": [
    {
     "name": "stdout",
     "output_type": "stream",
     "text": [
      "(23, 5)\n"
     ]
    },
    {
     "data": {
      "text/html": [
       "<div>\n",
       "<style scoped>\n",
       "    .dataframe tbody tr th:only-of-type {\n",
       "        vertical-align: middle;\n",
       "    }\n",
       "\n",
       "    .dataframe tbody tr th {\n",
       "        vertical-align: top;\n",
       "    }\n",
       "\n",
       "    .dataframe thead th {\n",
       "        text-align: right;\n",
       "    }\n",
       "</style>\n",
       "<table border=\"1\" class=\"dataframe\">\n",
       "  <thead>\n",
       "    <tr style=\"text-align: right;\">\n",
       "      <th></th>\n",
       "      <th>user_id</th>\n",
       "      <th>product_id</th>\n",
       "      <th>rating</th>\n",
       "      <th>user</th>\n",
       "      <th>game</th>\n",
       "    </tr>\n",
       "  </thead>\n",
       "  <tbody>\n",
       "    <tr>\n",
       "      <th>9765</th>\n",
       "      <td>2174575373</td>\n",
       "      <td>35140</td>\n",
       "      <td>4</td>\n",
       "      <td>9629</td>\n",
       "      <td>3</td>\n",
       "    </tr>\n",
       "    <tr>\n",
       "      <th>26404</th>\n",
       "      <td>2174575373</td>\n",
       "      <td>35720</td>\n",
       "      <td>4</td>\n",
       "      <td>9629</td>\n",
       "      <td>260</td>\n",
       "    </tr>\n",
       "    <tr>\n",
       "      <th>67755</th>\n",
       "      <td>2174575373</td>\n",
       "      <td>224540</td>\n",
       "      <td>3</td>\n",
       "      <td>9629</td>\n",
       "      <td>873</td>\n",
       "    </tr>\n",
       "    <tr>\n",
       "      <th>172769</th>\n",
       "      <td>2174575373</td>\n",
       "      <td>15750</td>\n",
       "      <td>3</td>\n",
       "      <td>9629</td>\n",
       "      <td>2953</td>\n",
       "    </tr>\n",
       "    <tr>\n",
       "      <th>199867</th>\n",
       "      <td>2174575373</td>\n",
       "      <td>500</td>\n",
       "      <td>4</td>\n",
       "      <td>9629</td>\n",
       "      <td>3218</td>\n",
       "    </tr>\n",
       "  </tbody>\n",
       "</table>\n",
       "</div>"
      ],
      "text/plain": [
       "           user_id  product_id  rating  user  game\n",
       "9765    2174575373       35140       4  9629     3\n",
       "26404   2174575373       35720       4  9629   260\n",
       "67755   2174575373      224540       3  9629   873\n",
       "172769  2174575373       15750       3  9629  2953\n",
       "199867  2174575373         500       4  9629  3218"
      ]
     },
     "execution_count": 53,
     "metadata": {},
     "output_type": "execute_result"
    }
   ],
   "source": [
    "usuario_juegos_jugados = df_ratings_matrix[df_ratings_matrix['user_id'] == usuario]\n",
    "print(usuario_juegos_jugados.shape)\n",
    "usuario_juegos_jugados.head()"
   ]
  },
  {
   "cell_type": "code",
   "execution_count": 54,
   "metadata": {
    "colab": {
     "base_uri": "https://localhost:8080/"
    },
    "executionInfo": {
     "elapsed": 248,
     "status": "ok",
     "timestamp": 1633173101361,
     "user": {
      "displayName": "Sebastian Campagnolo",
      "photoUrl": "https://lh3.googleusercontent.com/a-/AOh14Gg6pbROrzyday57jBRXk4J4eposq2tBYeW0Sr4=s64",
      "userId": "00251509339913289660"
     },
     "user_tz": -120
    },
    "id": "LG5NCk6bXAan",
    "outputId": "65ba49ff-a1c3-4106-ee80-c0de711ef65f"
   },
   "outputs": [
    {
     "data": {
      "text/plain": [
       "user_id       uint32\n",
       "product_id     int32\n",
       "rating          int8\n",
       "user           int64\n",
       "game           int64\n",
       "dtype: object"
      ]
     },
     "execution_count": 54,
     "metadata": {},
     "output_type": "execute_result"
    }
   ],
   "source": [
    "usuario_juegos_jugados.dtypes"
   ]
  },
  {
   "cell_type": "markdown",
   "metadata": {
    "id": "pK1_SdvvLxEw"
   },
   "source": [
    "Sacamos del dataframe los juegos que el usuario jugó"
   ]
  },
  {
   "cell_type": "code",
   "execution_count": 55,
   "metadata": {
    "colab": {
     "base_uri": "https://localhost:8080/",
     "height": 206
    },
    "executionInfo": {
     "elapsed": 223,
     "status": "ok",
     "timestamp": 1633173107944,
     "user": {
      "displayName": "Sebastian Campagnolo",
      "photoUrl": "https://lh3.googleusercontent.com/a-/AOh14Gg6pbROrzyday57jBRXk4J4eposq2tBYeW0Sr4=s64",
      "userId": "00251509339913289660"
     },
     "user_tz": -120
    },
    "id": "CusguAZuLxEx",
    "outputId": "f29979eb-e7d3-41c2-8dcd-5cb1cecdfa7f"
   },
   "outputs": [
    {
     "data": {
      "text/html": [
       "<div>\n",
       "<style scoped>\n",
       "    .dataframe tbody tr th:only-of-type {\n",
       "        vertical-align: middle;\n",
       "    }\n",
       "\n",
       "    .dataframe tbody tr th {\n",
       "        vertical-align: top;\n",
       "    }\n",
       "\n",
       "    .dataframe thead th {\n",
       "        text-align: right;\n",
       "    }\n",
       "</style>\n",
       "<table border=\"1\" class=\"dataframe\">\n",
       "  <thead>\n",
       "    <tr style=\"text-align: right;\">\n",
       "      <th></th>\n",
       "      <th>app_name</th>\n",
       "      <th>id</th>\n",
       "    </tr>\n",
       "  </thead>\n",
       "  <tbody>\n",
       "    <tr>\n",
       "      <th>0</th>\n",
       "      <td>Lost Summoner Kitty</td>\n",
       "      <td>761140</td>\n",
       "    </tr>\n",
       "    <tr>\n",
       "      <th>1</th>\n",
       "      <td>Ironbound</td>\n",
       "      <td>643980</td>\n",
       "    </tr>\n",
       "    <tr>\n",
       "      <th>2</th>\n",
       "      <td>Real Pool 3D - Poolians</td>\n",
       "      <td>670290</td>\n",
       "    </tr>\n",
       "    <tr>\n",
       "      <th>3</th>\n",
       "      <td>弹炸人2222</td>\n",
       "      <td>767400</td>\n",
       "    </tr>\n",
       "    <tr>\n",
       "      <th>4</th>\n",
       "      <td>Log Challenge</td>\n",
       "      <td>773570</td>\n",
       "    </tr>\n",
       "  </tbody>\n",
       "</table>\n",
       "</div>"
      ],
      "text/plain": [
       "                  app_name      id\n",
       "0      Lost Summoner Kitty  761140\n",
       "1                Ironbound  643980\n",
       "2  Real Pool 3D - Poolians  670290\n",
       "3                  弹炸人2222  767400\n",
       "4            Log Challenge  773570"
      ]
     },
     "execution_count": 55,
     "metadata": {},
     "output_type": "execute_result"
    }
   ],
   "source": [
    "# Convierto el product_id a string ya que en el dataframe \"recomendaciones_usuario\" tiene ese tipo de dato:\n",
    "for value in usuario_juegos_jugados.product_id:\n",
    "    recomendaciones_usuario.drop( recomendaciones_usuario[ recomendaciones_usuario['id'] == value ].index , inplace=True)\n",
    "\n",
    "recomendaciones_usuario.head()"
   ]
  },
  {
   "cell_type": "code",
   "execution_count": 56,
   "metadata": {
    "colab": {
     "base_uri": "https://localhost:8080/"
    },
    "executionInfo": {
     "elapsed": 231,
     "status": "ok",
     "timestamp": 1633173112579,
     "user": {
      "displayName": "Sebastian Campagnolo",
      "photoUrl": "https://lh3.googleusercontent.com/a-/AOh14Gg6pbROrzyday57jBRXk4J4eposq2tBYeW0Sr4=s64",
      "userId": "00251509339913289660"
     },
     "user_tz": -120
    },
    "id": "zf3tAF-6LxEx",
    "outputId": "d1b3954c-d99b-417b-c6a9-b5d31cf69e92"
   },
   "outputs": [
    {
     "data": {
      "text/plain": [
       "(32110, 2)"
      ]
     },
     "execution_count": 56,
     "metadata": {},
     "output_type": "execute_result"
    }
   ],
   "source": [
    "recomendaciones_usuario.shape"
   ]
  },
  {
   "cell_type": "markdown",
   "metadata": {
    "id": "vANfvPSRLxEx"
   },
   "source": [
    "Hacemos recomendaciones"
   ]
  },
  {
   "cell_type": "code",
   "execution_count": 57,
   "metadata": {
    "id": "Wmjm7Oh2LxEx"
   },
   "outputs": [],
   "source": [
    "recomendaciones_usuario.loc[:,'Estimate_Score'] = recomendaciones_usuario.apply(\n",
    "                                                    lambda row: (algo.predict(usuario, row['id']).est\n",
    "                                                                ), axis=1)\n"
   ]
  },
  {
   "cell_type": "code",
   "execution_count": 58,
   "metadata": {
    "colab": {
     "base_uri": "https://localhost:8080/",
     "height": 423
    },
    "executionInfo": {
     "elapsed": 262,
     "status": "ok",
     "timestamp": 1633173432588,
     "user": {
      "displayName": "Sebastian Campagnolo",
      "photoUrl": "https://lh3.googleusercontent.com/a-/AOh14Gg6pbROrzyday57jBRXk4J4eposq2tBYeW0Sr4=s64",
      "userId": "00251509339913289660"
     },
     "user_tz": -120
    },
    "id": "QJ6FqOzjLxEx",
    "outputId": "a5ad963d-b808-4be9-d1f8-3d93a45f6d1c"
   },
   "outputs": [
    {
     "data": {
      "text/html": [
       "<div>\n",
       "<style scoped>\n",
       "    .dataframe tbody tr th:only-of-type {\n",
       "        vertical-align: middle;\n",
       "    }\n",
       "\n",
       "    .dataframe tbody tr th {\n",
       "        vertical-align: top;\n",
       "    }\n",
       "\n",
       "    .dataframe thead th {\n",
       "        text-align: right;\n",
       "    }\n",
       "</style>\n",
       "<table border=\"1\" class=\"dataframe\">\n",
       "  <thead>\n",
       "    <tr style=\"text-align: right;\">\n",
       "      <th></th>\n",
       "      <th>app_name</th>\n",
       "      <th>id</th>\n",
       "      <th>Estimate_Score</th>\n",
       "    </tr>\n",
       "  </thead>\n",
       "  <tbody>\n",
       "    <tr>\n",
       "      <th>0</th>\n",
       "      <td>Lost Summoner Kitty</td>\n",
       "      <td>761140</td>\n",
       "      <td>3.637445</td>\n",
       "    </tr>\n",
       "    <tr>\n",
       "      <th>1</th>\n",
       "      <td>Ironbound</td>\n",
       "      <td>643980</td>\n",
       "      <td>3.650277</td>\n",
       "    </tr>\n",
       "    <tr>\n",
       "      <th>2</th>\n",
       "      <td>Real Pool 3D - Poolians</td>\n",
       "      <td>670290</td>\n",
       "      <td>3.222509</td>\n",
       "    </tr>\n",
       "    <tr>\n",
       "      <th>3</th>\n",
       "      <td>弹炸人2222</td>\n",
       "      <td>767400</td>\n",
       "      <td>3.637445</td>\n",
       "    </tr>\n",
       "    <tr>\n",
       "      <th>4</th>\n",
       "      <td>Log Challenge</td>\n",
       "      <td>773570</td>\n",
       "      <td>3.637445</td>\n",
       "    </tr>\n",
       "    <tr>\n",
       "      <th>...</th>\n",
       "      <td>...</td>\n",
       "      <td>...</td>\n",
       "      <td>...</td>\n",
       "    </tr>\n",
       "    <tr>\n",
       "      <th>32128</th>\n",
       "      <td>Colony On Mars</td>\n",
       "      <td>773640</td>\n",
       "      <td>3.637445</td>\n",
       "    </tr>\n",
       "    <tr>\n",
       "      <th>32129</th>\n",
       "      <td>LOGistICAL: South Africa</td>\n",
       "      <td>733530</td>\n",
       "      <td>3.637445</td>\n",
       "    </tr>\n",
       "    <tr>\n",
       "      <th>32130</th>\n",
       "      <td>Russian Roads</td>\n",
       "      <td>610660</td>\n",
       "      <td>3.637445</td>\n",
       "    </tr>\n",
       "    <tr>\n",
       "      <th>32131</th>\n",
       "      <td>EXIT 2 - Directions</td>\n",
       "      <td>658870</td>\n",
       "      <td>3.637445</td>\n",
       "    </tr>\n",
       "    <tr>\n",
       "      <th>32132</th>\n",
       "      <td>Maze Run VR</td>\n",
       "      <td>681550</td>\n",
       "      <td>3.637445</td>\n",
       "    </tr>\n",
       "  </tbody>\n",
       "</table>\n",
       "<p>32110 rows × 3 columns</p>\n",
       "</div>"
      ],
      "text/plain": [
       "                       app_name      id  Estimate_Score\n",
       "0           Lost Summoner Kitty  761140        3.637445\n",
       "1                     Ironbound  643980        3.650277\n",
       "2       Real Pool 3D - Poolians  670290        3.222509\n",
       "3                       弹炸人2222  767400        3.637445\n",
       "4                 Log Challenge  773570        3.637445\n",
       "...                         ...     ...             ...\n",
       "32128            Colony On Mars  773640        3.637445\n",
       "32129  LOGistICAL: South Africa  733530        3.637445\n",
       "32130             Russian Roads  610660        3.637445\n",
       "32131       EXIT 2 - Directions  658870        3.637445\n",
       "32132               Maze Run VR  681550        3.637445\n",
       "\n",
       "[32110 rows x 3 columns]"
      ]
     },
     "execution_count": 58,
     "metadata": {},
     "output_type": "execute_result"
    }
   ],
   "source": [
    "recomendaciones_usuario"
   ]
  },
  {
   "cell_type": "markdown",
   "metadata": {
    "id": "XEYu8Hh0YQNa"
   },
   "source": [
    "Seleccionamos los primeros 10 juegos recomendados ordenando, de mayor a menor, según el Rating, la información generada "
   ]
  },
  {
   "cell_type": "code",
   "execution_count": 59,
   "metadata": {
    "colab": {
     "base_uri": "https://localhost:8080/",
     "height": 363
    },
    "executionInfo": {
     "elapsed": 248,
     "status": "ok",
     "timestamp": 1633173438529,
     "user": {
      "displayName": "Sebastian Campagnolo",
      "photoUrl": "https://lh3.googleusercontent.com/a-/AOh14Gg6pbROrzyday57jBRXk4J4eposq2tBYeW0Sr4=s64",
      "userId": "00251509339913289660"
     },
     "user_tz": -120
    },
    "id": "ksDeAJhdLxEy",
    "outputId": "abb38d2f-76b9-4340-8c7d-0ace8e8a52e0"
   },
   "outputs": [
    {
     "data": {
      "text/html": [
       "<div>\n",
       "<style scoped>\n",
       "    .dataframe tbody tr th:only-of-type {\n",
       "        vertical-align: middle;\n",
       "    }\n",
       "\n",
       "    .dataframe tbody tr th {\n",
       "        vertical-align: top;\n",
       "    }\n",
       "\n",
       "    .dataframe thead th {\n",
       "        text-align: right;\n",
       "    }\n",
       "</style>\n",
       "<table border=\"1\" class=\"dataframe\">\n",
       "  <thead>\n",
       "    <tr style=\"text-align: right;\">\n",
       "      <th></th>\n",
       "      <th>app_name</th>\n",
       "      <th>id</th>\n",
       "      <th>Estimate_Score</th>\n",
       "    </tr>\n",
       "  </thead>\n",
       "  <tbody>\n",
       "    <tr>\n",
       "      <th>23483</th>\n",
       "      <td>Danganronpa 2: Goodbye Despair</td>\n",
       "      <td>413420</td>\n",
       "      <td>4.910009</td>\n",
       "    </tr>\n",
       "    <tr>\n",
       "      <th>493</th>\n",
       "      <td>Sid Meier's Civilization® V</td>\n",
       "      <td>8930</td>\n",
       "      <td>4.882871</td>\n",
       "    </tr>\n",
       "    <tr>\n",
       "      <th>387</th>\n",
       "      <td>Mount &amp; Blade: Warband</td>\n",
       "      <td>48700</td>\n",
       "      <td>4.878253</td>\n",
       "    </tr>\n",
       "    <tr>\n",
       "      <th>26895</th>\n",
       "      <td>Kerbal Space Program</td>\n",
       "      <td>220200</td>\n",
       "      <td>4.840294</td>\n",
       "    </tr>\n",
       "    <tr>\n",
       "      <th>30007</th>\n",
       "      <td>Arma 3</td>\n",
       "      <td>107410</td>\n",
       "      <td>4.831718</td>\n",
       "    </tr>\n",
       "    <tr>\n",
       "      <th>24121</th>\n",
       "      <td>Factorio</td>\n",
       "      <td>427520</td>\n",
       "      <td>4.819720</td>\n",
       "    </tr>\n",
       "    <tr>\n",
       "      <th>2808</th>\n",
       "      <td>The Binding of Isaac: Rebirth</td>\n",
       "      <td>250900</td>\n",
       "      <td>4.813204</td>\n",
       "    </tr>\n",
       "    <tr>\n",
       "      <th>30734</th>\n",
       "      <td>XCOM: Enemy Unknown</td>\n",
       "      <td>200510</td>\n",
       "      <td>4.813135</td>\n",
       "    </tr>\n",
       "    <tr>\n",
       "      <th>31512</th>\n",
       "      <td>Mass Effect 2</td>\n",
       "      <td>24980</td>\n",
       "      <td>4.808047</td>\n",
       "    </tr>\n",
       "    <tr>\n",
       "      <th>29691</th>\n",
       "      <td>Rust</td>\n",
       "      <td>252490</td>\n",
       "      <td>4.804797</td>\n",
       "    </tr>\n",
       "  </tbody>\n",
       "</table>\n",
       "</div>"
      ],
      "text/plain": [
       "                             app_name      id  Estimate_Score\n",
       "23483  Danganronpa 2: Goodbye Despair  413420        4.910009\n",
       "493       Sid Meier's Civilization® V    8930        4.882871\n",
       "387            Mount & Blade: Warband   48700        4.878253\n",
       "26895            Kerbal Space Program  220200        4.840294\n",
       "30007                          Arma 3  107410        4.831718\n",
       "24121                        Factorio  427520        4.819720\n",
       "2808    The Binding of Isaac: Rebirth  250900        4.813204\n",
       "30734             XCOM: Enemy Unknown  200510        4.813135\n",
       "31512                   Mass Effect 2   24980        4.808047\n",
       "29691                            Rust  252490        4.804797"
      ]
     },
     "execution_count": 59,
     "metadata": {},
     "output_type": "execute_result"
    }
   ],
   "source": [
    "recomendaciones_usuario = recomendaciones_usuario.sort_values('Estimate_Score', ascending=False)\n",
    "recomendaciones_usuario.head(10)"
   ]
  },
  {
   "cell_type": "markdown",
   "metadata": {
    "id": "bgzFNN_pobvO"
   },
   "source": [
    "-------------------------------------------------------------------------------------------------------------"
   ]
  },
  {
   "cell_type": "markdown",
   "metadata": {
    "id": "4EdsSf5TvSC6"
   },
   "source": [
    "### Modelo con Redes Neuronales"
   ]
  },
  {
   "cell_type": "code",
   "execution_count": 7,
   "metadata": {
    "id": "GklPRIx5qdaC"
   },
   "outputs": [],
   "source": [
    "user_ids = df_ratings_matrix[\"user_id\"].unique().tolist()"
   ]
  },
  {
   "cell_type": "markdown",
   "metadata": {},
   "source": [
    "Creamos 2 diccionarios para aplicar un *encoding* a los usuarios. El primero (**user2user_encoded**) mapea un id de usuario con un número entero autoincremental comenzando desde cero; el segundo (**userencoded2user**) mapea un número entero autoincremental comenzando desde cero, con un id de usuario."
   ]
  },
  {
   "cell_type": "code",
   "execution_count": 8,
   "metadata": {
    "id": "iDWsKhW3qd4z"
   },
   "outputs": [],
   "source": [
    "user2user_encoded = {x: i for i, x in enumerate(user_ids)}\n",
    "userencoded2user = {i: x for i, x in enumerate(user_ids)}"
   ]
  },
  {
   "cell_type": "markdown",
   "metadata": {},
   "source": [
    "Realizamos el mismo encoding para los juegos"
   ]
  },
  {
   "cell_type": "code",
   "execution_count": 9,
   "metadata": {
    "id": "3fXfNol6qeH_"
   },
   "outputs": [],
   "source": [
    "product_ids = df_ratings_matrix[\"product_id\"].unique().tolist()\n",
    "product2product_encoded = {x: i for i, x in enumerate(product_ids)}\n",
    "product_encoded2product = {i: x for i, x in enumerate(product_ids)}"
   ]
  },
  {
   "cell_type": "code",
   "execution_count": 10,
   "metadata": {
    "id": "X6mKWBoOqePg"
   },
   "outputs": [],
   "source": [
    "df_ratings_matrix[\"user\"] = df_ratings_matrix[\"user_id\"].map(user2user_encoded)\n",
    "df_ratings_matrix[\"game\"] = df_ratings_matrix[\"product_id\"].map(product2product_encoded)"
   ]
  },
  {
   "cell_type": "code",
   "execution_count": 11,
   "metadata": {
    "colab": {
     "base_uri": "https://localhost:8080/"
    },
    "executionInfo": {
     "elapsed": 275,
     "status": "ok",
     "timestamp": 1637266249486,
     "user": {
      "displayName": "Sebastian Campagnolo",
      "photoUrl": "https://lh3.googleusercontent.com/a-/AOh14Gg6pbROrzyday57jBRXk4J4eposq2tBYeW0Sr4=s64",
      "userId": "00251509339913289660"
     },
     "user_tz": -60
    },
    "id": "QGZa-EL4rAZ-",
    "outputId": "71a0fe7d-55f8-45fe-9144-f22b72e852b6"
   },
   "outputs": [
    {
     "data": {
      "text/plain": [
       "0    0\n",
       "1    1\n",
       "2    2\n",
       "3    3\n",
       "4    4\n",
       "Name: user, dtype: int64"
      ]
     },
     "execution_count": 11,
     "metadata": {},
     "output_type": "execute_result"
    }
   ],
   "source": [
    "df_ratings_matrix[\"user\"].head()"
   ]
  },
  {
   "cell_type": "code",
   "execution_count": 67,
   "metadata": {
    "colab": {
     "base_uri": "https://localhost:8080/"
    },
    "executionInfo": {
     "elapsed": 1599,
     "status": "ok",
     "timestamp": 1637319463897,
     "user": {
      "displayName": "Sebastian Campagnolo",
      "photoUrl": "https://lh3.googleusercontent.com/a-/AOh14Gg6pbROrzyday57jBRXk4J4eposq2tBYeW0Sr4=s64",
      "userId": "00251509339913289660"
     },
     "user_tz": -60
    },
    "id": "0gkXhkxVqeV-",
    "outputId": "e80169ef-c102-41b5-d924-5808ef439650"
   },
   "outputs": [
    {
     "name": "stdout",
     "output_type": "stream",
     "text": [
      "Number of users: 598579, Number of Games: 12617, Min rating: 1, Max rating: 5\n"
     ]
    }
   ],
   "source": [
    "num_users = len(user2user_encoded)\n",
    "num_games = len(product2product_encoded)\n",
    "\n",
    "#df_ratings_matrix[\"rating\"] = df_ratings_matrix[\"rating\"].values.astype(np.float32)\n",
    "\n",
    "# min_rating y max_rating los usaremos para normalizar los ratings\n",
    "min_rating = min(df_ratings_matrix[\"rating\"])\n",
    "max_rating = max(df_ratings_matrix[\"rating\"])\n",
    "\n",
    "print(\n",
    "    \"Number of users: {}, Number of Games: {}, Min rating: {}, Max rating: {}\".format(\n",
    "        num_users, num_games, min_rating, max_rating\n",
    "    )\n",
    ")"
   ]
  },
  {
   "cell_type": "markdown",
   "metadata": {
    "id": "m104pM5Dmp_s"
   },
   "source": [
    "#### Separamos el dataset en lotes de Train y Test"
   ]
  },
  {
   "cell_type": "code",
   "execution_count": 13,
   "metadata": {
    "id": "K7fAEFbiqecu"
   },
   "outputs": [],
   "source": [
    "#Generamos un DataFrame tomando una muestra de la Matriz de Ratings; en este caso la muestra es del 100% de los datos, dado que frac=1\n",
    "df = df_ratings_matrix.sample(frac=1, random_state=42)\n",
    "x = df[[\"user\", \"game\"]].values\n",
    "\n",
    "# Normalizamos los ratings entre 0 y 1. Según la información que pude obtener, facilita el entrenamiento.\n",
    "y = df[\"rating\"].apply(lambda x: (x - min_rating) / (max_rating - min_rating)).values\n",
    "\n",
    "# Tomamos como lote de Training el 90% de los datos, y el 10% restante para Test (validación)\n",
    "train_indices = int(0.9 * df.shape[0])\n",
    "x_train, x_test, y_train, y_test = (\n",
    "    x[:train_indices],\n",
    "    x[train_indices:],\n",
    "    y[:train_indices],\n",
    "    y[train_indices:],\n",
    ")"
   ]
  },
  {
   "cell_type": "markdown",
   "metadata": {
    "id": "vMIT5vJMtoio"
   },
   "source": [
    "#### Generación del Modelo"
   ]
  },
  {
   "cell_type": "markdown",
   "metadata": {
    "id": "t7gbGEw8muqG"
   },
   "source": [
    "El modelo que vamos a entrenar y usar para predecir (en este caso, Recomendar) se basa en la librería **Keras**. La clase *RecommenderNet* (la cual obtuve de internet) extiende a la clase *keras.Model.RecommenderNet* y define 2 métodos que especifican su comportamiento. El primero inicializa las estructuras de datos necesarias tomando como input el tamaño del Embedding, y el segundo realiza un producto cartesiano entre los vectores de usuarios y juegos para obtener una predicción del rating, y devuelve dicho rating pasado por una Función de Activación Sigmoide (un valor entre 0 y 1)."
   ]
  },
  {
   "cell_type": "code",
   "execution_count": 14,
   "metadata": {
    "colab": {
     "base_uri": "https://localhost:8080/"
    },
    "executionInfo": {
     "elapsed": 346,
     "status": "ok",
     "timestamp": 1637319468762,
     "user": {
      "displayName": "Sebastian Campagnolo",
      "photoUrl": "https://lh3.googleusercontent.com/a-/AOh14Gg6pbROrzyday57jBRXk4J4eposq2tBYeW0Sr4=s64",
      "userId": "00251509339913289660"
     },
     "user_tz": -60
    },
    "id": "hrbUd-ekmu8k",
    "outputId": "ef5b1095-b16c-41b8-a8dc-fd4fcebccb9d"
   },
   "outputs": [],
   "source": [
    "EMBEDDING_SIZE = 50\n",
    "\n",
    "\n",
    "class RecommenderNet(tf.keras.Model):        \n",
    "    def __init__(self, num_users, num_games, embedding_size, **kwargs):\n",
    "        super(RecommenderNet, self).__init__(**kwargs)\n",
    "        self.num_users = num_users\n",
    "        self.num_games = num_games\n",
    "        self.embedding_size = embedding_size\n",
    "        self.user_embedding = layers.Embedding(\n",
    "            num_users,\n",
    "            embedding_size,\n",
    "            embeddings_initializer=\"he_normal\",\n",
    "            embeddings_regularizer=keras.regularizers.l2(1e-6),\n",
    "        )\n",
    "        self.user_bias = layers.Embedding(num_users, 1)\n",
    "        self.game_embedding = layers.Embedding(\n",
    "            num_games,\n",
    "            embedding_size,\n",
    "            embeddings_initializer=\"he_normal\",\n",
    "            embeddings_regularizer=keras.regularizers.l2(1e-6),\n",
    "        )\n",
    "        self.game_bias = layers.Embedding(num_games, 1)\n",
    "\n",
    "    def call(self, inputs):\n",
    "        user_vector = self.user_embedding(inputs[:, 0])\n",
    "        user_bias = self.user_bias(inputs[:, 0])\n",
    "        game_vector = self.game_embedding(inputs[:, 1])\n",
    "        game_bias = self.game_bias(inputs[:, 1])\n",
    "        dot_user_game = tf.tensordot(user_vector, game_vector, 2)\n",
    "        # Add all the components (including bias)\n",
    "        x = dot_user_game + user_bias + game_bias\n",
    "        # The sigmoid activation forces the rating to between 0 and 1\n",
    "        return tf.nn.sigmoid(x)\n",
    "\n",
    "\n",
    "model = RecommenderNet(num_users, num_games, EMBEDDING_SIZE)\n",
    "model.compile( loss=tf.keras.losses.BinaryCrossentropy(), \n",
    "               optimizer=keras.optimizers.Adam(learning_rate=0.001),\n",
    "               metrics=[tf.keras.metrics.Accuracy(),tf.keras.metrics.RootMeanSquaredError()]\n",
    ")"
   ]
  },
  {
   "cell_type": "markdown",
   "metadata": {},
   "source": [
    "El modelo introduce una *Función de Pérdida*, que en este caso es *BinaryCrossentropy*. La función de pérdida es una medida de cuánto difiere nuestra predicción de la realidad. El objetivo de la red neuronal es aproximar las predicciones a los datos *Y* al máximo mediante la minimización de la función de pérdida y el aprendizaje de los parámetros óptimos."
   ]
  },
  {
   "cell_type": "markdown",
   "metadata": {
    "id": "Ydq36TrbvRyG"
   },
   "source": [
    "#### Entrenamiento del Modelo"
   ]
  },
  {
   "cell_type": "code",
   "execution_count": 15,
   "metadata": {
    "colab": {
     "base_uri": "https://localhost:8080/"
    },
    "id": "2ljHOcsWtqMq",
    "outputId": "7e459f2d-e73e-43a1-df6a-ee24cb1a89bf"
   },
   "outputs": [
    {
     "name": "stdout",
     "output_type": "stream",
     "text": [
      "Epoch 1/5\n",
      "10909/10909 [==============================] - 3914s 358ms/step - loss: 0.6139 - accuracy: 0.0000e+00 - root_mean_squared_error: 0.1616 - val_loss: 0.5965 - val_accuracy: 0.0000e+00 - val_root_mean_squared_error: 0.1358\n",
      "Epoch 2/5\n",
      "10909/10909 [==============================] - 4049s 371ms/step - loss: 0.5911 - accuracy: 0.0000e+00 - root_mean_squared_error: 0.1294 - val_loss: 0.5916 - val_accuracy: 0.0000e+00 - val_root_mean_squared_error: 0.1321\n",
      "Epoch 3/5\n",
      "10909/10909 [==============================] - 4099s 376ms/step - loss: 0.5852 - accuracy: 0.0000e+00 - root_mean_squared_error: 0.1223 - val_loss: 0.5901 - val_accuracy: 0.0000e+00 - val_root_mean_squared_error: 0.1312\n",
      "Epoch 4/5\n",
      "10909/10909 [==============================] - 4044s 371ms/step - loss: 0.5815 - accuracy: 1.4323e-06 - root_mean_squared_error: 0.1170 - val_loss: 0.5895 - val_accuracy: 0.0000e+00 - val_root_mean_squared_error: 0.1310\n",
      "Epoch 5/5\n",
      "10909/10909 [==============================] - 4041s 370ms/step - loss: 0.5787 - accuracy: 1.4323e-06 - root_mean_squared_error: 0.1126 - val_loss: 0.5894 - val_accuracy: 0.0000e+00 - val_root_mean_squared_error: 0.1313\n"
     ]
    }
   ],
   "source": [
    "history = model.fit(\n",
    "    x=x_train,\n",
    "    y=y_train,\n",
    "    batch_size=64,\n",
    "    epochs=5,\n",
    "    verbose=1,\n",
    "    validation_data=(x_test, y_test),\n",
    ")"
   ]
  },
  {
   "cell_type": "markdown",
   "metadata": {},
   "source": [
    "#### Evaluación del Modelo"
   ]
  },
  {
   "cell_type": "markdown",
   "metadata": {
    "id": "cDKJXERDtqO5"
   },
   "source": [
    "Vemos ahora de forma gráfica la evolución del valor devuelto por la Función de Pérdida en cada iteración:"
   ]
  },
  {
   "cell_type": "code",
   "execution_count": 16,
   "metadata": {},
   "outputs": [
    {
     "data": {
      "image/png": "[encoded data removed]",
      "text/plain": [
       "<Figure size 432x288 with 1 Axes>"
      ]
     },
     "metadata": {
      "needs_background": "light"
     },
     "output_type": "display_data"
    }
   ],
   "source": [
    "plt.plot(history.history[\"loss\"])\n",
    "plt.plot(history.history[\"val_loss\"])\n",
    "plt.title(\"model loss\")\n",
    "plt.ylabel(\"loss\")\n",
    "plt.xlabel(\"epoch\")\n",
    "plt.legend([\"train\", \"test\"], loc=\"upper right\")\n",
    "plt.show()"
   ]
  },
  {
   "cell_type": "markdown",
   "metadata": {},
   "source": [
    "Vemos la evolución del valor de RMSE"
   ]
  },
  {
   "cell_type": "code",
   "execution_count": 18,
   "metadata": {},
   "outputs": [
    {
     "data": {
      "image/png": "[encoded data removed]",
      "text/plain": [
       "<Figure size 432x288 with 1 Axes>"
      ]
     },
     "metadata": {
      "needs_background": "light"
     },
     "output_type": "display_data"
    }
   ],
   "source": [
    "plt.plot(history.history[\"root_mean_squared_error\"])\n",
    "plt.plot(history.history[\"val_root_mean_squared_error\"])\n",
    "plt.title(\"model RMSE\")\n",
    "plt.ylabel(\"RMSE\")\n",
    "plt.xlabel(\"epoch\")\n",
    "plt.legend([\"train\", \"test\"], loc=\"upper right\")\n",
    "plt.show()"
   ]
  },
  {
   "cell_type": "code",
   "execution_count": 20,
   "metadata": {},
   "outputs": [
    {
     "name": "stdout",
     "output_type": "stream",
     "text": [
      "Model: \"recommender_net\"\n",
      "_________________________________________________________________\n",
      " Layer (type)                Output Shape              Param #   \n",
      "=================================================================\n",
      " embedding (Embedding)       multiple                  29928950  \n",
      "                                                                 \n",
      " embedding_1 (Embedding)     multiple                  598579    \n",
      "                                                                 \n",
      " embedding_2 (Embedding)     multiple                  630850    \n",
      "                                                                 \n",
      " embedding_3 (Embedding)     multiple                  12617     \n",
      "                                                                 \n",
      "=================================================================\n",
      "Total params: 31,170,996\n",
      "Trainable params: 31,170,996\n",
      "Non-trainable params: 0\n",
      "_________________________________________________________________\n",
      "2425/2425 [==============================] - 215s 89ms/step - loss: 0.5894 - accuracy: 0.0000e+00 - root_mean_squared_error: 0.1312\n",
      "\\nTest Loss: [0.5893570184707642, 0.0, 0.13117723166942596]\n"
     ]
    }
   ],
   "source": [
    "model.summary()\n",
    "test_eval = model.evaluate(x_test, y_test)\n",
    "print('\\\\nTest Loss: {}'.format(test_eval))"
   ]
  },
  {
   "cell_type": "code",
   "execution_count": 21,
   "metadata": {},
   "outputs": [
    {
     "name": "stdout",
     "output_type": "stream",
     "text": [
      "0.13117723166942596\n"
     ]
    }
   ],
   "source": [
    "rmse_keras = test_loss[2]"
   ]
  },
  {
   "cell_type": "markdown",
   "metadata": {},
   "source": [
    "A menor valor de la métrica RMSE, más preciso nuestro modelo prediciendo."
   ]
  },
  {
   "cell_type": "markdown",
   "metadata": {},
   "source": [
    "#### Recomendaciones a un usuario al azar"
   ]
  },
  {
   "cell_type": "code",
   "execution_count": 60,
   "metadata": {},
   "outputs": [
    {
     "name": "stdout",
     "output_type": "stream",
     "text": [
      "Juegos jugados por el usuario: \n",
      "           user_id  product_id  rating  user   game\n",
      "483067  2174575373       63200       4  9629   8072\n",
      "722711  2174575373      213030       3  9629  12269\n",
      "294862  2174575373          50       3  9629   5047\n",
      "466368  2174575373         240       5  9629   7240\n",
      "456392  2174575373       22300       4  9629   7332\n",
      "263902  2174575373       98100       3  9629   4406\n",
      "320318  2174575373       72200       3  9629   5262\n",
      "67755   2174575373      224540       3  9629    873\n",
      "199867  2174575373         500       4  9629   3218\n",
      "266102  2174575373      252030       3  9629   4441\n",
      "26404   2174575373       35720       4  9629    260\n",
      "172769  2174575373       15750       3  9629   2953\n",
      "755002  2174575373      241600       4  9629  12584\n",
      "509630  2174575373       12160       3  9629   8674\n",
      "409396  2174575373       32380       3  9629   6706\n",
      "207981  2174575373       62000       3  9629   3628\n",
      "342763  2174575373        3720       5  9629   5839\n",
      "265144  2174575373      248650       3  9629   4456\n",
      "582271  2174575373      233130       4  9629   9920\n",
      "230671  2174575373       99900       4  9629   3813\n",
      "594968  2174575373       22600       4  9629  10467\n",
      "9765    2174575373       35140       4  9629      3\n",
      "451800  2174575373      238320       4  9629   6929\n",
      "\n",
      "Showing recommendations for user: 2174575373\n",
      "====================================\n",
      "Games with high ratings from user\n",
      "--------------------------------\n",
      "63200 : Monday Night Combat\n",
      "35720 : Trine 2: Complete Story\n",
      "35140 : Batman: Arkham Asylum Game of the Year Edition\n",
      "3720 : Evil Genius\n",
      "240 : Counter-Strike: Source\n",
      "--------------------------------\n",
      "Top 10 game recommendations\n",
      "--------------------------------\n",
      "48700 : Mount & Blade: Warband\n",
      "8930 : Sid Meier's Civilization® V\n",
      "250900 : The Binding of Isaac: Rebirth\n",
      "294100 : RimWorld\n",
      "413420 : Danganronpa 2: Goodbye Despair\n",
      "427520 : Factorio\n",
      "220200 : Kerbal Space Program\n",
      "107410 : Arma 3\n",
      "200510 : XCOM: Enemy Unknown\n",
      "49520 : Borderlands 2\n"
     ]
    }
   ],
   "source": [
    "#user_id = df.user_id.sample(1).iloc[0]\n",
    "user_id = usuario\n",
    "\n",
    "games_played_by_user = df[df.user_id == user_id]\n",
    "print(\"Juegos jugados por el usuario: \")\n",
    "print(games_played_by_user)\n",
    "\n",
    "#Para la recomendación, excluímos los juegos que haya jugado:\n",
    "games_not_played = df_games_light[\n",
    "    ~df_games_light[\"id\"].isin(games_played_by_user.product_id.values)\n",
    "][\"id\"]\n",
    "games_not_played = list(\n",
    "    set(games_not_played).intersection(set(product2product_encoded.keys()))\n",
    ")\n",
    "games_not_played = [[product2product_encoded.get(x)] for x in games_not_played]\n",
    "\n",
    "user_encoder = user2user_encoded.get(user_id)\n",
    "user_game_array = np.hstack( ([[user_encoder]] * len(games_not_played), games_not_played) )\n",
    "\n",
    "#Usamos el modelo para predecir los ratings de cada juego para el usuario seleccionado:\n",
    "ratings = model.predict(user_game_array).flatten()\n",
    "\n",
    "top_ratings_indices = ratings.argsort()[-10:][::-1]\n",
    "recommended_game_ids = [\n",
    "    product_encoded2product.get(games_not_played[x][0]) for x in top_ratings_indices\n",
    "]\n",
    "\n",
    "print(\"\")\n",
    "print(\"Showing recommendations for user: {}\".format(user_id))\n",
    "print(\"====\" * 9)\n",
    "print(\"Games with high ratings from user\")\n",
    "print(\"----\" * 8)\n",
    "top_games_user = (\n",
    "    games_played_by_user.sort_values(by=\"rating\", ascending=False)\n",
    "    .head(5)\n",
    "    .product_id.values\n",
    ")\n",
    "game_df_rows = df_games_light[df_games_light[\"id\"].isin(top_games_user)]\n",
    "for row in game_df_rows.itertuples():\n",
    "    print(row.id, \":\", row.app_name)\n",
    "\n",
    "print(\"----\" * 8)\n",
    "print(\"Top 10 game recommendations\")\n",
    "print(\"----\" * 8)\n",
    "recommended_games = df_games_light[df_games_light[\"id\"].isin(recommended_game_ids)]\n",
    "for row in recommended_games.itertuples():\n",
    "    print(row.id, \":\", row.app_name)"
   ]
  },
  {
   "cell_type": "markdown",
   "metadata": {},
   "source": [
    "Las recomendaciones obtenidas con el *Modelo Final* del Proyecto 3 son muy parecidas a las recomendaciones obtenidas con el *Modelo de Redes Neuronales*, pero en órdenes diferentes debido a la diferencia en las predicciones del rating."
   ]
  },
  {
   "cell_type": "markdown",
   "metadata": {
    "id": "G7ARPZfptTZz"
   },
   "source": [
    "##################################################################################"
   ]
  },
  {
   "cell_type": "markdown",
   "metadata": {
    "id": "r3lqGJ-OtXSw"
   },
   "source": [
    "## **Investigación** (sección del Proyecto 3)"
   ]
  },
  {
   "cell_type": "markdown",
   "metadata": {
    "id": "NQBnUrT3iLXT"
   },
   "source": [
    "En este punto hemos obtenido una lista de juegos para recomendarle al usuario, habiendo predicho el *rating* que éste le hubiese dado a cada item. Pero más importante aún es saber qué tan relevantes son dichos items para el usuario. <br> Entonces, podemos calcular *Precision* y *Recall*, ya que se convierte en un problema binario (Recomendado - No Recomendado). <br><br>\n",
    "<u>Recordando las definiciones:</u> (en este caso para Sistemas de Recomendación) <br><br>\n",
    "*Precision* = (*Relevantes* ∩ *Recomendados*) / *Recomendados* <br><br>\n",
    "*Recall* = (*Relevantes* ∩ *Recomendados*) / *Relevantes* \n",
    "<br><br>\n",
    "<u>Qué es un juego *Relevante*?</u>\n",
    "<br>\n",
    "Item Relevante es todo item cuyo rating conocido previamente en el dataset es mayor a cierto valor; en nuestro caso, diremos que un juego es relevante si su rating conocido es >= 3.5"
   ]
  },
  {
   "cell_type": "markdown",
   "metadata": {
    "id": "qkC4QGj5g2uv"
   },
   "source": [
    "Para realizar esta parte, buscamos soporte en las FAQs de **Surprise** <br>\n",
    "https://surprise.readthedocs.io/en/latest/FAQ.html#how-to-compute-precision-k-and-recall-k"
   ]
  },
  {
   "cell_type": "markdown",
   "metadata": {
    "id": "Azdg64bGojp9"
   },
   "source": [
    "Calculamos las métricas dichas para los *K* elementos recomendados"
   ]
  },
  {
   "cell_type": "code",
   "execution_count": 62,
   "metadata": {
    "id": "RzaCHCWNuMHy"
   },
   "outputs": [],
   "source": [
    "from collections import defaultdict\n",
    "\n",
    "def precision_recall_at_k(predictions, k=10, threshold=3.5):\n",
    "    \"\"\"Return precision and recall at k metrics for each user\"\"\"\n",
    "\n",
    "    # First map the predictions to each user.\n",
    "    user_est_true = defaultdict(list)\n",
    "\n",
    "    for uid, _, true_r, est, _ in predictions:\n",
    "        user_est_true[uid].append((est, true_r))\n",
    "\n",
    "    precisions = dict()\n",
    "    recalls = dict()\n",
    "    for uid, user_ratings in user_est_true.items():\n",
    "\n",
    "        # Sort user ratings by estimated value\n",
    "        user_ratings.sort(key=lambda x: x[0], reverse=True)\n",
    "\n",
    "        # Number of relevant items\n",
    "        n_rel = sum((true_r >= threshold) for (_, true_r) in user_ratings)\n",
    "\n",
    "        # Number of recommended items in top k\n",
    "        n_rec_k = sum((est >= threshold) for (est, _) in user_ratings[:k])\n",
    "\n",
    "        # Number of relevant and recommended items in top k\n",
    "        n_rel_and_rec_k = sum(((true_r >= threshold) and (est >= threshold))\n",
    "                              for (est, true_r) in user_ratings[:k])\n",
    "\n",
    "        # Precision@K: Proportion of recommended items that are relevant\n",
    "        # When n_rec_k is 0, Precision is undefined. We here set it to 0.\n",
    "\n",
    "        precisions[uid] = n_rel_and_rec_k / n_rec_k if n_rec_k != 0 else 0\n",
    "\n",
    "        # Recall@K: Proportion of relevant items that are recommended\n",
    "        # When n_rel is 0, Recall is undefined. We here set it to 0.\n",
    "\n",
    "        recalls[uid] = n_rel_and_rec_k / n_rel if n_rel != 0 else 0\n",
    "\n",
    "    return precisions, recalls\n",
    "\n",
    "\n"
   ]
  },
  {
   "cell_type": "code",
   "execution_count": 63,
   "metadata": {
    "colab": {
     "base_uri": "https://localhost:8080/"
    },
    "executionInfo": {
     "elapsed": 254499,
     "status": "ok",
     "timestamp": 1633174230846,
     "user": {
      "displayName": "Sebastian Campagnolo",
      "photoUrl": "https://lh3.googleusercontent.com/a-/AOh14Gg6pbROrzyday57jBRXk4J4eposq2tBYeW0Sr4=s64",
      "userId": "00251509339913289660"
     },
     "user_tz": -120
    },
    "id": "XGwz90pl0O5B",
    "outputId": "7fcf47b7-0462-468f-d39e-066b18d98e8d"
   },
   "outputs": [
    {
     "data": {
      "text/plain": [
       "[{'K': 1, 'Precision': 0.5854117583340104, 'Recall': 0.578173152435887},\n",
       " {'K': 2, 'Precision': 0.5839968045061878, 'Recall': 0.5843799929590815},\n",
       " {'K': 3, 'Precision': 0.5839449002987878, 'Recall': 0.5845896408228847},\n",
       " {'K': 4, 'Precision': 0.5839370018324442, 'Recall': 0.5846031810509021},\n",
       " {'K': 5, 'Precision': 0.5839336167754399, 'Recall': 0.5846058890965056},\n",
       " {'K': 6, 'Precision': 0.5839340681163738, 'Recall': 0.5846085971421092},\n",
       " {'K': 7, 'Precision': 0.5839340681163738, 'Recall': 0.5846085971421092},\n",
       " {'K': 8, 'Precision': 0.5839340681163738, 'Recall': 0.5846085971421092},\n",
       " {'K': 9, 'Precision': 0.5839340681163738, 'Recall': 0.5846085971421092},\n",
       " {'K': 10, 'Precision': 0.5839340681163738, 'Recall': 0.5846085971421092}]"
      ]
     },
     "execution_count": 63,
     "metadata": {},
     "output_type": "execute_result"
    }
   ],
   "source": [
    "results_prec_rec=[] \n",
    "precisions_list=[]\n",
    "recalls_list=[]\n",
    "k_list=[]\n",
    "for i in range(1, 11):  \n",
    "  precisions, recalls = precision_recall_at_k(predictions, k=i, threshold=3.5)\n",
    "\n",
    "  # Precision and recall can then be averaged over all users \n",
    "  prec = sum(prec for prec in precisions.values()) / len(precisions)\n",
    "  rec = sum(rec for rec in recalls.values()) / len(recalls)           \n",
    "\n",
    "  results_prec_rec.append({'K': i, 'Precision': prec, 'Recall': rec})         \n",
    "  k_list.append(i)\n",
    "  precisions_list.append(prec)\n",
    "  recalls_list.append(rec)\n",
    "\n",
    "results_prec_rec"
   ]
  },
  {
   "cell_type": "code",
   "execution_count": null,
   "metadata": {
    "id": "SBmIAIyAp7_Z"
   },
   "outputs": [],
   "source": []
  },
  {
   "cell_type": "markdown",
   "metadata": {
    "id": "g5V2kZIyq9E1"
   },
   "source": [
    "Graficamos la relación entre Precision y Recall para las distintas cantidades de Recomendaciones realizadas"
   ]
  },
  {
   "cell_type": "code",
   "execution_count": 64,
   "metadata": {
    "colab": {
     "base_uri": "https://localhost:8080/",
     "height": 313
    },
    "executionInfo": {
     "elapsed": 734,
     "status": "ok",
     "timestamp": 1633174243403,
     "user": {
      "displayName": "Sebastian Campagnolo",
      "photoUrl": "https://lh3.googleusercontent.com/a-/AOh14Gg6pbROrzyday57jBRXk4J4eposq2tBYeW0Sr4=s64",
      "userId": "00251509339913289660"
     },
     "user_tz": -120
    },
    "id": "WRyIUoTj1CjH",
    "outputId": "8b2f4bf0-289f-4896-8407-da5bc085027d"
   },
   "outputs": [
    {
     "data": {
      "image/png": "[encoded data removed]",
      "text/plain": [
       "<Figure size 432x288 with 1 Axes>"
      ]
     },
     "metadata": {
      "needs_background": "light"
     },
     "output_type": "display_data"
    }
   ],
   "source": [
    "fig, ax = plt.subplots(constrained_layout=True)\n",
    "xdata = k_list\n",
    "ydata_prec = precisions_list\n",
    "ax.plot(xdata, ydata_prec, label='Precision')\n",
    "\n",
    "y_data_rec = recalls_list\n",
    "ax.plot(xdata, y_data_rec, label='Recall')\n",
    "ax.set_xlabel('K Recomendaciones')\n",
    "ax.legend()\n",
    "\n",
    "plt.show()"
   ]
  },
  {
   "cell_type": "markdown",
   "metadata": {
    "id": "yg7Dm2PkAWBP"
   },
   "source": [
    "Según lo observado en el gráfico, el mejor trade-off entre *Precision* y *Recall* lo obtenemos con valores de *K*=2 Recomendaciones (tomando el total del dataset como en el TP3, el valor estaba entre 4 y 5). De todos modos, la diferencia entre ambas para valores de *K* mayores es mínima."
   ]
  },
  {
   "cell_type": "markdown",
   "metadata": {
    "id": "gDeOdSsSvRQ1"
   },
   "source": [
    "## *Conclusiones*"
   ]
  },
  {
   "cell_type": "markdown",
   "metadata": {
    "id": "ne60gZFWA4du"
   },
   "source": [
    "A la información obtenida anteriormente respecto de la Precision y el Recall, podemos agregar un análisis sobre el *RMSE*"
   ]
  },
  {
   "cell_type": "markdown",
   "metadata": {},
   "source": [
    "Agregamos en la comparativa el valor de RMSE resultante utilizando el modelo de redes neuronales con Keras."
   ]
  },
  {
   "cell_type": "code",
   "execution_count": 61,
   "metadata": {
    "colab": {
     "base_uri": "https://localhost:8080/",
     "height": 81
    },
    "executionInfo": {
     "elapsed": 264,
     "status": "ok",
     "timestamp": 1633174834163,
     "user": {
      "displayName": "Sebastian Campagnolo",
      "photoUrl": "https://lh3.googleusercontent.com/a-/AOh14Gg6pbROrzyday57jBRXk4J4eposq2tBYeW0Sr4=s64",
      "userId": "00251509339913289660"
     },
     "user_tz": -120
    },
    "id": "4VxIsmBBvRed",
    "outputId": "6116b1b8-5663-496e-878b-2271cbde3d55"
   },
   "outputs": [
    {
     "data": {
      "text/html": [
       "<div>\n",
       "<style scoped>\n",
       "    .dataframe tbody tr th:only-of-type {\n",
       "        vertical-align: middle;\n",
       "    }\n",
       "\n",
       "    .dataframe tbody tr th {\n",
       "        vertical-align: top;\n",
       "    }\n",
       "\n",
       "    .dataframe thead th {\n",
       "        text-align: right;\n",
       "    }\n",
       "</style>\n",
       "<table border=\"1\" class=\"dataframe\">\n",
       "  <thead>\n",
       "    <tr style=\"text-align: right;\">\n",
       "      <th></th>\n",
       "      <th>BaselineOnly (Benchmark)</th>\n",
       "      <th>SVD</th>\n",
       "      <th>KERAS</th>\n",
       "    </tr>\n",
       "  </thead>\n",
       "  <tbody>\n",
       "    <tr>\n",
       "      <th>RMSE</th>\n",
       "      <td>0.531541</td>\n",
       "      <td>0.530782</td>\n",
       "      <td>0.131177</td>\n",
       "    </tr>\n",
       "  </tbody>\n",
       "</table>\n",
       "</div>"
      ],
      "text/plain": [
       "      BaselineOnly (Benchmark)       SVD     KERAS\n",
       "RMSE                  0.531541  0.530782  0.131177"
      ]
     },
     "execution_count": 61,
     "metadata": {},
     "output_type": "execute_result"
    }
   ],
   "source": [
    "diccionario_errores = {\n",
    "\n",
    "        'BaselineOnly (Benchmark)': {\n",
    "                        'RMSE': rmse_benchmark\n",
    "                      },\n",
    "        'SVD': {\n",
    "                 'RMSE': rmse_svd\n",
    "               },\n",
    "        'KERAS': {\n",
    "                 'RMSE': rmse_keras\n",
    "               }\n",
    "}\n",
    "\n",
    "df_matriz_errores = pd.DataFrame(data=diccionario_errores)\n",
    "df_matriz_errores"
   ]
  },
  {
   "cell_type": "markdown",
   "metadata": {
    "id": "hXj5NQ8nwvAp"
   },
   "source": [
    "Como se observa, la métrica elegida para evaluar los errores del modelo fue *RMSE*. Tanto el algoritmo de Benchmark como el SVD utilizado como algoritmo final tuvieron valores similares de error. En cambio, al realizar la recomendación utilizando redes neuronales, observamos que el valor de dicha métrica es mucho menor que las anteriormente obtenidas; esto nos indica que las predicciones realizadas en este caso son más acertadas."
   ]
  },
  {
   "cell_type": "markdown",
   "metadata": {},
   "source": [
    "Por otro lado, el valor de *Accuracy* obtenido me genera dudas, y no pude descifrar el motivo de por qué da 0 para el lote de test."
   ]
  },
  {
   "cell_type": "markdown",
   "metadata": {
    "id": "ebZNefEV2n0_"
   },
   "source": [
    "Uno de los desafíos que encontré a medida que avanzaba con la creación del Sistema de Recomendación y el tratamiento de los datos fue la necesidad de optimizar el uso de la memoria. Para ello fue necesario ir ajustando los tipos de datos utilizados, tanto en DataFrames auxiliares como en la Matriz de Ratings final, particularmente cuando comencé a trabajar con el lote de Reviews completo. \n",
    "Una consecuencia no esperada relativa a lo mencionado fue que las predicciones de los Ratings fue diferente dependiendo del tipo de dato usado. Inicialmente manejaba los IDs de usuarios como Strings y obtuve ciertas predicciones; luego debí transformarlos en enteros y obtuve otras predicciones. Debido a esto, fue necesario revisar de manera minuciosa que todos los tipos de datos utilizados para la elaboración y posterior predicción fueran coherentes y estuviesen alineados para poder obtener los valores adecuados."
   ]
  },
  {
   "cell_type": "markdown",
   "metadata": {
    "id": "Za2_Bb6B8D-0"
   },
   "source": [
    "Como se mencionó al inicio del Notebook, el costo de implementar y, particularmente, entrenar una red neuronal para realizar las recomendaciones es mucho más alto ya que requiere de mucho más tiempo de procesamiento. Según pude leer, algunos recomiendan utilizar la GPU en lugar del procesador para entrenar la red ya que proporciona mejor performance."
   ]
  },
  {
   "cell_type": "code",
   "execution_count": null,
   "metadata": {},
   "outputs": [],
   "source": []
  }
 ],
 "metadata": {
  "colab": {
   "collapsed_sections": [],
   "name": "DS_Proyecto_04_SR_RedNeuronal_Colab.ipynb",
   "provenance": []
  },
  "kernelspec": {
   "display_name": "Python 3",
   "language": "python",
   "name": "python3"
  },
  "language_info": {
   "codemirror_mode": {
    "name": "ipython",
    "version": 3
   },
   "file_extension": ".py",
   "mimetype": "text/x-python",
   "name": "python",
   "nbconvert_exporter": "python",
   "pygments_lexer": "ipython3",
   "version": "3.7.0"
  }
 },
 "nbformat": 4,
 "nbformat_minor": 2
}
